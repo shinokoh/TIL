{
 "cells": [
  {
   "cell_type": "markdown",
   "id": "977c7776",
   "metadata": {},
   "source": [
    "## Numpy day01\n",
    "### 학습목표\n",
    "\n",
    "- 배열과 리스트의 차이점\n",
    "- 배열생성 및 다루는 기법\n",
    "- 기술통계함수\n",
    "- 결과에 대한 분석 방법"
   ]
  },
  {
   "cell_type": "markdown",
   "id": "44e5ed20",
   "metadata": {},
   "source": [
    "#### 배열(Array)\n",
    "- 모든 원소가 같은 자료형이어야 한다 \n",
    "- 원소의 갯수를 변경할 수 없다(resizing X)\n",
    "- 배열의 차원, 크기, 타입(ndim, shape, dtype)"
   ]
  },
  {
   "cell_type": "code",
   "execution_count": 2,
   "id": "bd91ab10",
   "metadata": {},
   "outputs": [
    {
     "data": {
      "text/plain": [
       "'1.20.1'"
      ]
     },
     "execution_count": 2,
     "metadata": {},
     "output_type": "execute_result"
    }
   ],
   "source": [
    "# numpy 불러오기\n",
    "import numpy as np\n",
    "\n",
    "# numpy 버전 확인\n",
    "np.__version__"
   ]
  },
  {
   "cell_type": "code",
   "execution_count": 3,
   "id": "b81a6e40",
   "metadata": {},
   "outputs": [],
   "source": [
    "# 배열 정보를 확인하기 위한 함수\n",
    "def aryinfo(ary):\n",
    "    print('type       : {}'.format(type(ary)))\n",
    "    print('shape      : {}'.format(ary.shape))\n",
    "    print('dimension  : {}'.format(ary.ndim))\n",
    "    print('dtype      : {}'.format(ary.dtype))\n",
    "    print('Array Data : \\n', ary)"
   ]
  },
  {
   "cell_type": "markdown",
   "id": "fc79f0c1",
   "metadata": {},
   "source": [
    "#### 1차원 배열 생성\n",
    "\n",
    "- array()\n",
    "- 배열이 메모리를 적게 차지하고 빠르게 처리"
   ]
  },
  {
   "cell_type": "code",
   "execution_count": 5,
   "id": "1902db04",
   "metadata": {},
   "outputs": [
    {
     "name": "stdout",
     "output_type": "stream",
     "text": [
      "type       : <class 'numpy.ndarray'>\n",
      "shape      : (10,)\n",
      "dimension  : 1\n",
      "dtype      : int32\n",
      "Array Data : \n",
      " [0 1 2 3 4 5 6 7 8 9]\n"
     ]
    }
   ],
   "source": [
    "oneAry = np.array([0,1,2,3,4,5,6,7,8,9])\n",
    "aryinfo(oneAry)"
   ]
  },
  {
   "cell_type": "markdown",
   "id": "64e67179",
   "metadata": {},
   "source": [
    "- vectorized operation(벡터화 연산)"
   ]
  },
  {
   "cell_type": "code",
   "execution_count": 6,
   "id": "570d7bbc",
   "metadata": {},
   "outputs": [
    {
     "data": {
      "text/plain": [
       "[0, 1, 2, 3, 4, 5, 6, 7, 8, 9, 0, 1, 2, 3, 4, 5, 6, 7, 8, 9]"
      ]
     },
     "execution_count": 6,
     "metadata": {},
     "output_type": "execute_result"
    }
   ],
   "source": [
    "data = [0,1,2,3,4,5,6,7,8,9]\n",
    "data * 2"
   ]
  },
  {
   "cell_type": "code",
   "execution_count": 9,
   "id": "a515d3c3",
   "metadata": {},
   "outputs": [
    {
     "name": "stdout",
     "output_type": "stream",
     "text": [
      "[0, 2, 4, 6, 8, 10, 12, 14, 16, 18]\n",
      "[0, 2, 4, 6, 8, 10, 12, 14, 16, 18]\n",
      "[ 0  2  4  6  8 10 12 14 16 18]\n"
     ]
    }
   ],
   "source": [
    "# 각각의 요소에 *2 연산을 해주고 싶을 때\n",
    "\n",
    "# 01\n",
    "result= []\n",
    "for d in data :\n",
    "    result.append(d*2)\n",
    "print(result)\n",
    "\n",
    "# 02\n",
    "result2 = [d*2 for d in data]\n",
    "print(result2)\n",
    "\n",
    "# 03(numpy 배열을 활용)\n",
    "# numpy array 를 사용하면 수행속도가 빠르고 간편\n",
    "result3 = oneAry * 2\n",
    "print(result3)"
   ]
  },
  {
   "cell_type": "markdown",
   "id": "08a5b726",
   "metadata": {},
   "source": [
    "- 벡터와 연산은 비교, 산술, 논리 연산을 포함하는 모든 수학연산에 적용된다"
   ]
  },
  {
   "cell_type": "code",
   "execution_count": 21,
   "id": "80875484",
   "metadata": {},
   "outputs": [
    {
     "name": "stdout",
     "output_type": "stream",
     "text": [
      "<class 'list'> <class 'list'>\n",
      "<class 'numpy.ndarray'> <class 'numpy.ndarray'>\n",
      "산술연산: \n",
      "[11 22 33 44 55]\n",
      "산술연산: \n",
      "[12 24 36 48 60]\n",
      "비교연산(boolean masking): \n",
      "[False  True False False False]\n",
      "[False  True  True  True  True]\n",
      "논리연산: \n",
      "[False  True False False False]\n",
      "[False  True  True  True  True]\n"
     ]
    }
   ],
   "source": [
    "data01 = [1,2,3,4,5]\n",
    "data02 = [10,20,30,40,50]\n",
    "print(type(data01), type(data02))\n",
    "\n",
    "# 빠른 연산을 위해 'list'를 'array'로 변경\n",
    "xAry = np.array(data01)\n",
    "yAry = np.array(data02)\n",
    "print(type(xAry),type(yAry))\n",
    "\n",
    "print('산술연산: ')\n",
    "print(xAry + yAry)\n",
    "\n",
    "print('산술연산: ')\n",
    "print(2 * xAry + yAry)\n",
    "\n",
    "print('비교연산(boolean masking): ') \n",
    "print(xAry == 2)\n",
    "print(yAry > 10)\n",
    "\n",
    "print('논리연산: ')\n",
    "print((xAry == 2) & (yAry > 10)) # and 연산\n",
    "print((xAry == 2) | (yAry > 10)) # or 연산"
   ]
  },
  {
   "cell_type": "markdown",
   "id": "bc911687",
   "metadata": {},
   "source": [
    "#### 2차원 배열\n",
    "\n",
    "- N - dimensioanl Array\n",
    "- 행렬(matrix)\n",
    "- list of list -> 2차원\n",
    "- list of list of list -> 3차원\n"
   ]
  },
  {
   "cell_type": "code",
   "execution_count": 26,
   "id": "f01c685f",
   "metadata": {},
   "outputs": [
    {
     "name": "stdout",
     "output_type": "stream",
     "text": [
      "type       : <class 'numpy.ndarray'>\n",
      "shape      : (2, 3)\n",
      "dimension  : 2\n",
      "dtype      : float64\n",
      "Array Data : \n",
      " [[1. 2. 3.]\n",
      " [4. 5. 6.]]\n",
      "\n",
      "len(): \n",
      "2\n",
      "3\n",
      "3\n"
     ]
    }
   ],
   "source": [
    "# 2개의 행과 3개의 열을 가지는 배열을 만든다면 ?\n",
    "twoAry = np.array([[1,2,3],[4,5,6]], dtype = np.float64)\n",
    "aryinfo(twoAry)\n",
    "print()\n",
    "print('len() - 행의 갯수 ')\n",
    "print(len(twoAry))\n",
    "print(len(twoAry[0])) # 각 요소의 갯수\n",
    "print(len(twoAry[1]))"
   ]
  },
  {
   "cell_type": "markdown",
   "id": "0d3ce961",
   "metadata": {},
   "source": [
    "#### 3차원 배열"
   ]
  },
  {
   "cell_type": "code",
   "execution_count": 32,
   "id": "01754b61",
   "metadata": {},
   "outputs": [
    {
     "name": "stdout",
     "output_type": "stream",
     "text": [
      "type       : <class 'numpy.ndarray'>\n",
      "shape      : (2, 3, 4)\n",
      "dimension  : 3\n",
      "dtype      : int32\n",
      "Array Data : \n",
      " [[[ 1  2  3  4]\n",
      "  [ 5  6  7  8]\n",
      "  [ 9 10 11 12]]\n",
      "\n",
      " [[13 14 15 16]\n",
      "  [17 18 19 20]\n",
      "  [21 22 23 24]]]\n",
      "\n",
      "len() - dept\n",
      "2\n",
      "3\n",
      "3\n",
      "4\n"
     ]
    }
   ],
   "source": [
    "# 2 * 3 * 4 (3행 4열 데이터 2개)\n",
    "threeAry = np.array( [ [ [1,2,3,4 ],[5,6,7,8],[9,10,11,12] ] , \n",
    "                      [ [13,14,15,16], [17,18,19,20], [21,22,23,24] ] ] )\n",
    "\n",
    "aryinfo(threeAry)\n",
    "print()\n",
    "print('len() - dept')\n",
    "print(len(threeAry))\n",
    "print(len(threeAry[0]))\n",
    "print(len(threeAry[1]))\n",
    "print(len(threeAry[0][0])) # 0번째 데이터의 0번째 행 갯수"
   ]
  },
  {
   "cell_type": "markdown",
   "id": "6f121395",
   "metadata": {},
   "source": [
    "- 요소의 타입을 변경할 때 사용하는 함수 : astype()"
   ]
  },
  {
   "cell_type": "code",
   "execution_count": 33,
   "id": "5456365e",
   "metadata": {},
   "outputs": [
    {
     "name": "stdout",
     "output_type": "stream",
     "text": [
      "type       : <class 'numpy.ndarray'>\n",
      "shape      : (2, 3, 4)\n",
      "dimension  : 3\n",
      "dtype      : int32\n",
      "Array Data : \n",
      " [[[ 1  2  3  4]\n",
      "  [ 5  6  7  8]\n",
      "  [ 9 10 11 12]]\n",
      "\n",
      " [[13 14 15 16]\n",
      "  [17 18 19 20]\n",
      "  [21 22 23 24]]]\n"
     ]
    }
   ],
   "source": [
    "typeChange = threeAry.astype(np.float64)\n",
    "aryinfo(threeAry)"
   ]
  },
  {
   "cell_type": "markdown",
   "id": "31352a7e",
   "metadata": {},
   "source": [
    "- 배열의 인덱싱(indexing)"
   ]
  },
  {
   "cell_type": "code",
   "execution_count": 55,
   "id": "e7781282",
   "metadata": {},
   "outputs": [
    {
     "name": "stdout",
     "output_type": "stream",
     "text": [
      "indexing - \n",
      "2\n",
      "9\n",
      "\n",
      "ary info - \n",
      "type       : <class 'numpy.ndarray'>\n",
      "shape      : (2, 3)\n",
      "dimension  : 2\n",
      "dtype      : float64\n",
      "Array Data : \n",
      " [[1. 2. 3.]\n",
      " [4. 5. 6.]]\n",
      "\n",
      "첫번째 행의 첫번째 열\n",
      "1.0\n",
      "첫번째 행의 두번째 열\n",
      "2.0\n",
      "마지막 행의 마지막 열\n",
      "6.0\n",
      "첫번째 행의 전체\n",
      "[1. 2. 3.]\n",
      "두번째 열의 전체\n",
      "[2. 5.]\n",
      "두번째 행의 두번째부터 끝까지\n",
      "[[5. 6.]]\n"
     ]
    }
   ],
   "source": [
    "indexAry = np.array([1,2,3,4,5,6,7,8,9])\n",
    "\n",
    "print('indexing - ')\n",
    "print(indexAry[1])\n",
    "print(indexAry[-1])\n",
    "\n",
    "print()\n",
    "print('ary info - ')\n",
    "aryinfo(twoAry)\n",
    "\n",
    "print()\n",
    "print('첫번째 행의 첫번째 열')\n",
    "print(twoAry[0,0])\n",
    "\n",
    "print('첫번째 행의 두번째 열')\n",
    "print(twoAry[0,1])\n",
    "\n",
    "print('마지막 행의 마지막 열')\n",
    "print(twoAry[-1,-1])\n",
    "\n",
    "print('첫번째 행의 전체')\n",
    "print(twoAry[0,:])\n",
    "\n",
    "print('두번째 열의 전체')\n",
    "print(twoAry[:,1])\n",
    "\n",
    "\n",
    "print('두번째 행의 두번째부터 끝까지')\n",
    "print(twoAry[1:, 1:])\n"
   ]
  },
  {
   "cell_type": "code",
   "execution_count": 56,
   "id": "f00fe2eb",
   "metadata": {},
   "outputs": [
    {
     "name": "stdout",
     "output_type": "stream",
     "text": [
      "type       : <class 'numpy.ndarray'>\n",
      "shape      : (3, 5)\n",
      "dimension  : 2\n",
      "dtype      : int32\n",
      "Array Data : \n",
      " [[ 0  1  2  3  4]\n",
      " [ 5  6  7  8  9]\n",
      " [10 11 12 13 14]]\n"
     ]
    }
   ],
   "source": [
    "matrixAry = np.array([[0,1,2,3,4], \n",
    "                      [5,6,7,8,9],\n",
    "                      [10,11,12,13,14]]) # 3행 5열\n",
    "\n",
    "aryinfo(matrixAry)"
   ]
  },
  {
   "cell_type": "code",
   "execution_count": 71,
   "id": "828fe921",
   "metadata": {},
   "outputs": [
    {
     "name": "stdout",
     "output_type": "stream",
     "text": [
      "이 행렬에서 값 7 을 인덱싱한다\n",
      "7\n",
      "이 행렬에서 값 14 을 인덱싱한다.\n",
      "14\n",
      "이 행렬에서 배열 [6, 7] 을 슬라이싱한다.\n",
      "[6 7]\n",
      "이 행렬에서 배열 [7, 12] 을 슬라이싱한다.\n",
      "[ 7 12]\n",
      "이 행렬에서 배열 [[3, 4], [8, 9]] 을 슬라이싱한다.\n",
      "[[3 4]\n",
      " [8 9]]\n"
     ]
    }
   ],
   "source": [
    "# 이 행렬에서 값 7 을 인덱싱한다.\n",
    "print('이 행렬에서 값 7 을 인덱싱한다')\n",
    "print(matrixAry[1, 2])\n",
    "\n",
    "# 이 행렬에서 값 14 을 인덱싱한다.\n",
    "print('이 행렬에서 값 14 을 인덱싱한다.')\n",
    "print(matrixAry[-1, -1])\n",
    "\n",
    "# 이 행렬에서 배열 [6, 7] 을 슬라이싱한다.\n",
    "print('이 행렬에서 배열 [6, 7] 을 슬라이싱한다.')\n",
    "print(matrixAry[1, 1:3])\n",
    "\n",
    "# 이 행렬에서 배열 [7, 12] 을 슬라이싱한다.\n",
    "print('이 행렬에서 배열 [7, 12] 을 슬라이싱한다.')\n",
    "print(matrixAry[1:3, 2])\n",
    "\n",
    "# 이 행렬에서 배열 [[3, 4], [8, 9]] 을 슬라이싱한다.\n",
    "print('이 행렬에서 배열 [[3, 4], [8, 9]] 을 슬라이싱한다.')\n",
    "print(matrixAry[:2, 3:])\n"
   ]
  },
  {
   "cell_type": "markdown",
   "id": "49984fab",
   "metadata": {},
   "source": [
    "#### fancy indexing\n",
    "- boolean indexing\n",
    "- 정수 배열 indexing"
   ]
  },
  {
   "cell_type": "code",
   "execution_count": 83,
   "id": "d04aa73d",
   "metadata": {},
   "outputs": [
    {
     "name": "stdout",
     "output_type": "stream",
     "text": [
      "[0 2 4 6 8]\n",
      "[ True False  True False  True False  True False  True False]\n",
      "[0 2 4 6 8]\n",
      "[1 3 5 7 9]\n",
      "[0 2 4 6 8] [1 3 5 7 9]\n"
     ]
    }
   ],
   "source": [
    "# 짝수의 원소를 골라내기 위해 불리언 인덱스를 활용할 수 있다\n",
    "\n",
    "ary = np.array([0,1,2,3,4,5,6,7,8,9])\n",
    "# ary[ary%2 == 0]\n",
    "# print(ary%2)\n",
    "\n",
    "print(ary[ary%2 == 0])\n",
    "print(ary%2 == 0)\n",
    "\n",
    "# idx와 matching 해서 True값만 가져온다\n",
    "\n",
    "idx = np.array([True, False, True, False,True, False,True, False,True, False])\n",
    "print( ary[idx] )\n",
    "\n",
    "# 홀수의 원소를 골라내기 위해서 정수 배열 인덱스를 활용할 수 있다\n",
    "print(ary[ary%2!=0])\n",
    "evenidx = np.array([0,2,4,6,8])\n",
    "oddidx = np.array([1,3,5,7,9])\n",
    "print(ary[evenidx], ary[oddidx] )"
   ]
  },
  {
   "cell_type": "code",
   "execution_count": 93,
   "id": "c6130243",
   "metadata": {},
   "outputs": [
    {
     "name": "stdout",
     "output_type": "stream",
     "text": [
      "info - \n",
      "type       : <class 'numpy.ndarray'>\n",
      "shape      : (20,)\n",
      "dimension  : 1\n",
      "dtype      : int32\n",
      "Array Data : \n",
      " [ 1  2  3  4  5  6  7  8  9 10 11 12 13 14 15 16 17 18 19 20]\n",
      "None\n",
      "\n",
      "3의 배수를 출력 -  [ 3  6  9 12 15 18]\n",
      "4로 나누어 나머지가 1인 원소를 출력 -  [ 1  5  9 13 17]\n",
      "3의 배수이고, 4로 나누어 나머지가 1인 원소 출력 -  [9]\n"
     ]
    }
   ],
   "source": [
    "x = np.array([1,2,3,4,5,6,7,8,9,10,11,12,13,14,15,16,17,18,19,20])\n",
    "print('info - ')\n",
    "print(aryinfo(x))\n",
    "print()\n",
    "print('3의 배수를 출력 - ',x[x%3==0])\n",
    "print('4로 나누어 나머지가 1인 원소를 출력 - ',x[x%4==1])\n",
    "print('3의 배수이고, 4로 나누어 나머지가 1인 원소 출력 - ',x[(x%3==0)&(x%4==1)])"
   ]
  },
  {
   "cell_type": "code",
   "execution_count": 126,
   "id": "07e24bdf",
   "metadata": {},
   "outputs": [
    {
     "name": "stdout",
     "output_type": "stream",
     "text": [
      "type       : <class 'numpy.ndarray'>\n",
      "shape      : (3, 4)\n",
      "dimension  : 2\n",
      "dtype      : int32\n",
      "Array Data : \n",
      " [[ 1  2  3  4]\n",
      " [ 5  6  7  8]\n",
      " [ 9 10 11 12]]\n",
      "\n",
      "[[ 1  4]\n",
      " [ 5  8]\n",
      " [ 9 12]]\n",
      "\n",
      "[[ 1  4]\n",
      " [ 5  8]\n",
      " [ 9 12]]\n",
      "\n",
      "1차원 [2,10]을 출력해보자\n",
      "type       : <class 'numpy.ndarray'>\n",
      "shape      : (2,)\n",
      "dimension  : 1\n",
      "dtype      : int32\n",
      "Array Data : \n",
      " [ 2 10]\n",
      "\n",
      "2차원 [[2],[10]]을 출력해보자\n",
      "type       : <class 'numpy.ndarray'>\n",
      "shape      : (2, 1)\n",
      "dimension  : 2\n",
      "dtype      : int32\n",
      "Array Data : \n",
      " [[ 2]\n",
      " [10]]\n",
      "1,3,9,11 을 출력해보자\n"
     ]
    }
   ],
   "source": [
    "ary = np.arange(1,13,1).reshape(3,4)\n",
    "aryinfo(ary)\n",
    "print()\n",
    "\n",
    "# 정수 배열 인덱싱\n",
    "print(ary[ :,[0,3]]) \n",
    "print()\n",
    "\n",
    "# 불리언 인덱싱\n",
    "boolidx = [True, False, False, True] # 불리언은 배열의 길이와 동일해야 한다.\n",
    "print(ary[:,boolidx])\n",
    "print()\n",
    "\n",
    "print('1차원 [2,10]을 출력해보자')\n",
    "aryinfo((ary[[0,2] ,1]))\n",
    "print()\n",
    "\n",
    "print('2차원 [[2],[10]]을 출력해보자')\n",
    "aryinfo((ary[[0,2] ,1:2]))\n",
    "\n",
    "print('1,3,9,11 을 출력해보자')"
   ]
  },
  {
   "cell_type": "markdown",
   "id": "74745117",
   "metadata": {},
   "source": [
    "#### numpy 데이터 타입\n",
    "- dtype : b -> boolean / i -> integer, u -> 부호없는 정수, f -> float , U -> 문자열"
   ]
  },
  {
   "cell_type": "code",
   "execution_count": 130,
   "id": "889534db",
   "metadata": {},
   "outputs": [
    {
     "name": "stdout",
     "output_type": "stream",
     "text": [
      "type       : <class 'numpy.ndarray'>\n",
      "shape      : (4,)\n",
      "dimension  : 1\n",
      "dtype      : <U1\n",
      "Array Data : \n",
      " ['1' '2' '3' '4']\n",
      "14\n"
     ]
    }
   ],
   "source": [
    "ary = np.array([1,2,3,4,], dtype = 'U')\n",
    "aryinfo(ary)\n",
    "\n",
    "print(ary[0] + ary[3])"
   ]
  },
  {
   "cell_type": "markdown",
   "id": "0061d88f",
   "metadata": {},
   "source": [
    "#### Inf & NaN\n",
    "- Inf = infinite\n",
    "- NaN = not a number"
   ]
  },
  {
   "cell_type": "code",
   "execution_count": 131,
   "id": "41e50b22",
   "metadata": {},
   "outputs": [
    {
     "name": "stderr",
     "output_type": "stream",
     "text": [
      "<ipython-input-131-dc768ac6b521>:1: RuntimeWarning: divide by zero encountered in true_divide\n",
      "  np.array([0,1,-1,0])/np.array([1,0,0,0])\n",
      "<ipython-input-131-dc768ac6b521>:1: RuntimeWarning: invalid value encountered in true_divide\n",
      "  np.array([0,1,-1,0])/np.array([1,0,0,0])\n"
     ]
    },
    {
     "data": {
      "text/plain": [
       "array([  0.,  inf, -inf,  nan])"
      ]
     },
     "execution_count": 131,
     "metadata": {},
     "output_type": "execute_result"
    }
   ],
   "source": [
    "np.array([0,1,-1,0])/np.array([1,0,0,0])"
   ]
  },
  {
   "cell_type": "markdown",
   "id": "f6c94e00",
   "metadata": {},
   "source": [
    "#### 배열 생성 함수\n",
    "- array()\n",
    "- zeros(): 사이즈가 정해져있고, 0으로 채워지는 배열 생성 함수\n",
    "- ones()\n",
    "- zeros_like()\n",
    "- empty()\n",
    "- arange()\n",
    "- linspace()\n",
    "- logspace()"
   ]
  },
  {
   "cell_type": "code",
   "execution_count": 135,
   "id": "e7bab6a1",
   "metadata": {},
   "outputs": [
    {
     "name": "stdout",
     "output_type": "stream",
     "text": [
      "1차원\n",
      "type       : <class 'numpy.ndarray'>\n",
      "shape      : (5,)\n",
      "dimension  : 1\n",
      "dtype      : int32\n",
      "Array Data : \n",
      " [0 0 0 0 0]\n",
      "\n",
      "2차원\n",
      "type       : <class 'numpy.ndarray'>\n",
      "shape      : (3, 4)\n",
      "dimension  : 2\n",
      "dtype      : int32\n",
      "Array Data : \n",
      " [[0 0 0 0]\n",
      " [0 0 0 0]\n",
      " [0 0 0 0]]\n",
      "\n",
      "3차원\n",
      "type       : <class 'numpy.ndarray'>\n",
      "shape      : (2, 3, 4)\n",
      "dimension  : 3\n",
      "dtype      : int32\n",
      "Array Data : \n",
      " [[[0 0 0 0]\n",
      "  [0 0 0 0]\n",
      "  [0 0 0 0]]\n",
      "\n",
      " [[0 0 0 0]\n",
      "  [0 0 0 0]\n",
      "  [0 0 0 0]]]\n"
     ]
    }
   ],
   "source": [
    "print('1차원')\n",
    "zero = np.zeros(5, dtype='i')\n",
    "aryinfo(zero)\n",
    "\n",
    "print()\n",
    "print('2차원')\n",
    "zero = np.zeros((3,4), dtype='i')\n",
    "aryinfo(zero)\n",
    "\n",
    "print()\n",
    "print('2차원')\n",
    "zero = np.zeros((2, 3,4), dtype='i')\n",
    "aryinfo(zero)"
   ]
  },
  {
   "cell_type": "code",
   "execution_count": 137,
   "id": "2b280d9b",
   "metadata": {},
   "outputs": [
    {
     "name": "stdout",
     "output_type": "stream",
     "text": [
      "type       : <class 'numpy.ndarray'>\n",
      "shape      : (5,)\n",
      "dimension  : 1\n",
      "dtype      : <U1\n",
      "Array Data : \n",
      " ['1' '1' '1' '1' '1']\n"
     ]
    }
   ],
   "source": [
    "one = np.ones(5, dtype = 'U')\n",
    "aryinfo(one)"
   ]
  },
  {
   "cell_type": "code",
   "execution_count": 138,
   "id": "79c29757",
   "metadata": {},
   "outputs": [
    {
     "name": "stdout",
     "output_type": "stream",
     "text": [
      "type       : <class 'numpy.ndarray'>\n",
      "shape      : (2, 3, 4)\n",
      "dimension  : 3\n",
      "dtype      : int32\n",
      "Array Data : \n",
      " [[[0 0 0 0]\n",
      "  [0 0 0 0]\n",
      "  [0 0 0 0]]\n",
      "\n",
      " [[0 0 0 0]\n",
      "  [0 0 0 0]\n",
      "  [0 0 0 0]]]\n"
     ]
    }
   ],
   "source": [
    "z_like = np.zeros_like(zero)\n",
    "aryinfo(z_like)"
   ]
  },
  {
   "cell_type": "code",
   "execution_count": 139,
   "id": "1db92ead",
   "metadata": {},
   "outputs": [
    {
     "name": "stdout",
     "output_type": "stream",
     "text": [
      "type       : <class 'numpy.ndarray'>\n",
      "shape      : (5,)\n",
      "dimension  : 1\n",
      "dtype      : <U1\n",
      "Array Data : \n",
      " ['1' '1' '1' '1' '1']\n"
     ]
    }
   ],
   "source": [
    "o_like = np.ones_like(one)\n",
    "aryinfo(o_like)"
   ]
  },
  {
   "cell_type": "code",
   "execution_count": 140,
   "id": "c8b7e2f4",
   "metadata": {},
   "outputs": [
    {
     "name": "stdout",
     "output_type": "stream",
     "text": [
      "type       : <class 'numpy.ndarray'>\n",
      "shape      : (4, 3)\n",
      "dimension  : 2\n",
      "dtype      : float64\n",
      "Array Data : \n",
      " [[1.23680501e-311 3.16202013e-322 0.00000000e+000]\n",
      " [0.00000000e+000 0.00000000e+000 2.14256824e+160]\n",
      " [4.12121999e-061 2.64983661e-052 3.98548349e-062]\n",
      " [1.02218794e+166 3.29587736e-032 1.89936126e-052]]\n"
     ]
    }
   ],
   "source": [
    "em = np.empty((4,3))\n",
    "aryinfo(em)"
   ]
  },
  {
   "cell_type": "code",
   "execution_count": 142,
   "id": "4a59ede3",
   "metadata": {},
   "outputs": [
    {
     "data": {
      "text/plain": [
       "array([0, 2, 4, 6, 8])"
      ]
     },
     "execution_count": 142,
     "metadata": {},
     "output_type": "execute_result"
    }
   ],
   "source": [
    "np.arange(0,10, 2)"
   ]
  },
  {
   "cell_type": "code",
   "execution_count": 144,
   "id": "853911a8",
   "metadata": {},
   "outputs": [
    {
     "data": {
      "text/plain": [
       "array([[0],\n",
       "       [2],\n",
       "       [4],\n",
       "       [6],\n",
       "       [8]])"
      ]
     },
     "execution_count": 144,
     "metadata": {},
     "output_type": "execute_result"
    }
   ],
   "source": [
    "np.arange(0,10, 2).reshape(5,1)"
   ]
  },
  {
   "cell_type": "code",
   "execution_count": 145,
   "id": "bb0f93dc",
   "metadata": {},
   "outputs": [
    {
     "data": {
      "text/plain": [
       "array([  0.,  25.,  50.,  75., 100.])"
      ]
     },
     "execution_count": 145,
     "metadata": {},
     "output_type": "execute_result"
    }
   ],
   "source": [
    "np.linspace(0,100,5)"
   ]
  },
  {
   "cell_type": "markdown",
   "id": "d479c018",
   "metadata": {},
   "source": [
    "#### 전치행렬(transpose matrix?)\n",
    "행렬의 행은 열으로, 열은 행으로 바꾼 행렬을 의미\n",
    "\n",
    "- T\n",
    "- transpose operation"
   ]
  },
  {
   "cell_type": "code",
   "execution_count": 148,
   "id": "15e95003",
   "metadata": {},
   "outputs": [
    {
     "name": "stdout",
     "output_type": "stream",
     "text": [
      "type       : <class 'numpy.ndarray'>\n",
      "shape      : (2, 3)\n",
      "dimension  : 2\n",
      "dtype      : int32\n",
      "Array Data : \n",
      " [[1 2 3]\n",
      " [4 5 6]]\n"
     ]
    }
   ],
   "source": [
    "ary = np.arange(1, 7).reshape(2,3)\n",
    "aryinfo(ary)"
   ]
  },
  {
   "cell_type": "code",
   "execution_count": 149,
   "id": "2178da09",
   "metadata": {},
   "outputs": [
    {
     "name": "stdout",
     "output_type": "stream",
     "text": [
      "type       : <class 'numpy.ndarray'>\n",
      "shape      : (3, 2)\n",
      "dimension  : 2\n",
      "dtype      : int32\n",
      "Array Data : \n",
      " [[1 4]\n",
      " [2 5]\n",
      " [3 6]]\n"
     ]
    }
   ],
   "source": [
    "ary_tp = ary.T\n",
    "aryinfo(ary_tp)"
   ]
  },
  {
   "cell_type": "code",
   "execution_count": 154,
   "id": "bd78a20a",
   "metadata": {},
   "outputs": [
    {
     "name": "stdout",
     "output_type": "stream",
     "text": [
      "type       : <class 'numpy.ndarray'>\n",
      "shape      : (10,)\n",
      "dimension  : 1\n",
      "dtype      : int32\n",
      "Array Data : \n",
      " [0 1 2 3 4 5 6 7 8 9]\n",
      "벡터는 행렬이 아니기 때문에 transpose(행렬전환)이 불가능\n",
      "\n",
      "전치연산이 가능하도록 벡터를 행렬로 바꿀 수 있을까?\n",
      "\n",
      "type       : <class 'numpy.ndarray'>\n",
      "shape      : (1, 10)\n",
      "dimension  : 2\n",
      "dtype      : int32\n",
      "Array Data : \n",
      " [[0 1 2 3 4 5 6 7 8 9]]\n",
      "type       : <class 'numpy.ndarray'>\n",
      "shape      : (10, 1)\n",
      "dimension  : 2\n",
      "dtype      : int32\n",
      "Array Data : \n",
      " [[0]\n",
      " [1]\n",
      " [2]\n",
      " [3]\n",
      " [4]\n",
      " [5]\n",
      " [6]\n",
      " [7]\n",
      " [8]\n",
      " [9]]\n"
     ]
    }
   ],
   "source": [
    "vec = np.arange(10)\n",
    "aryinfo(vec)\n",
    "print(\"벡터는 행렬이 아니기 때문에 transpose(행렬전환)이 불가능\")\n",
    "\n",
    "print()\n",
    "print(\"전치연산이 가능하도록 벡터를 행렬로 바꿀 수 있을까?\")\n",
    "\n",
    "print()\n",
    "\n",
    "aryinfo(vec.reshape(1,10))\n",
    "vec_T = (vec.reshape(1,10).T)\n",
    "aryinfo(vec_T)"
   ]
  },
  {
   "cell_type": "markdown",
   "id": "8cb67397",
   "metadata": {},
   "source": [
    "- 다차원 배열을 1차원으로 만들어야 한다면?\n",
    "- flatten()"
   ]
  },
  {
   "cell_type": "code",
   "execution_count": 156,
   "id": "798a5d02",
   "metadata": {},
   "outputs": [
    {
     "name": "stdout",
     "output_type": "stream",
     "text": [
      "type       : <class 'numpy.ndarray'>\n",
      "shape      : (10,)\n",
      "dimension  : 1\n",
      "dtype      : int32\n",
      "Array Data : \n",
      " [0 1 2 3 4 5 6 7 8 9]\n"
     ]
    }
   ],
   "source": [
    "aryinfo(vec_T.flatten())"
   ]
  },
  {
   "cell_type": "markdown",
   "id": "5989eb2c",
   "metadata": {},
   "source": [
    "- 배열 사용시 주의점(차원에 대한 주의가 필요)"
   ]
  },
  {
   "cell_type": "code",
   "execution_count": 160,
   "id": "f780fdaf",
   "metadata": {},
   "outputs": [
    {
     "name": "stdout",
     "output_type": "stream",
     "text": [
      "type       : <class 'numpy.ndarray'>\n",
      "shape      : (10,)\n",
      "dimension  : 1\n",
      "dtype      : int32\n",
      "Array Data : \n",
      " [0 1 2 3 4 5 6 7 8 9]\n",
      "\n",
      "2차원 reshape - \n",
      "type       : <class 'numpy.ndarray'>\n",
      "shape      : (1, 10)\n",
      "dimension  : 2\n",
      "dtype      : int32\n",
      "Array Data : \n",
      " [[0 1 2 3 4 5 6 7 8 9]]\n"
     ]
    }
   ],
   "source": [
    "ary = np.arange(10)\n",
    "aryinfo(ary)\n",
    "\n",
    "print()\n",
    "print('2차원 reshape - ')\n",
    "aryinfo(ary.reshape(1,10))"
   ]
  },
  {
   "cell_type": "markdown",
   "id": "c6e1ecc3",
   "metadata": {},
   "source": [
    "#### ndarray(배열) 모든 원소에 대해 순차적으로 접근해야 하는 경우\n",
    "- iternext() ,finished"
   ]
  },
  {
   "cell_type": "code",
   "execution_count": 162,
   "id": "ba0b1b0e",
   "metadata": {},
   "outputs": [
    {
     "data": {
      "text/plain": [
       "array([0, 1, 2, 3, 4, 5, 6, 7, 8, 9])"
      ]
     },
     "execution_count": 162,
     "metadata": {},
     "output_type": "execute_result"
    }
   ],
   "source": [
    "ary = np.arange(10)\n",
    "ary"
   ]
  },
  {
   "cell_type": "code",
   "execution_count": 166,
   "id": "7c859076",
   "metadata": {},
   "outputs": [
    {
     "name": "stdout",
     "output_type": "stream",
     "text": [
      "0 1 2 3 4 5 6 7 8 9 "
     ]
    }
   ],
   "source": [
    "for tmp in ary :\n",
    "    print(tmp, end=\" \")"
   ]
  },
  {
   "cell_type": "code",
   "execution_count": 165,
   "id": "22a1ac93",
   "metadata": {},
   "outputs": [
    {
     "name": "stdout",
     "output_type": "stream",
     "text": [
      "1차원 ndarray에 대한 iterator - \n",
      "0 1 2 3 4 5 6 7 8 9 "
     ]
    }
   ],
   "source": [
    "print('1차원 ndarray에 대한 iterator - ')\n",
    "ite = np.nditer(ary, flags = ['c_index'])\n",
    "\n",
    "while not ite.finished:\n",
    "    idx = ite.index\n",
    "    print(ary[idx], end=\" \")\n",
    "    ite.iternext()"
   ]
  },
  {
   "cell_type": "code",
   "execution_count": 167,
   "id": "2e876c29",
   "metadata": {},
   "outputs": [
    {
     "name": "stdout",
     "output_type": "stream",
     "text": [
      "2차원 ndarray에 대한 iterator - \n"
     ]
    },
    {
     "data": {
      "text/plain": [
       "array([[0, 1, 2, 3, 4],\n",
       "       [5, 6, 7, 8, 9]])"
      ]
     },
     "execution_count": 167,
     "metadata": {},
     "output_type": "execute_result"
    }
   ],
   "source": [
    "print('2차원 ndarray에 대한 iterator - ')\n",
    "ary = ary.reshape(2,5)\n",
    "ary"
   ]
  },
  {
   "cell_type": "code",
   "execution_count": 170,
   "id": "bacfc782",
   "metadata": {},
   "outputs": [
    {
     "name": "stdout",
     "output_type": "stream",
     "text": [
      "shape- (2, 5)\n",
      "row- 2\n",
      "col- 5\n",
      "0 1 2 3 4 \n",
      "5 6 7 8 9 \n"
     ]
    }
   ],
   "source": [
    "print('shape-', ary.shape)\n",
    "print('row-', ary.shape[0])\n",
    "print('col-',ary.shape[1])\n",
    "\n",
    "for i in range(ary.shape[0]):\n",
    "    for j in range(ary.shape[1]):\n",
    "        print( ary[i][j], end = \" \")\n",
    "    print()\n",
    "    \n",
    "while not ite.finished :\n",
    "    idx = ite.multi_index\n",
    "    print(ary[idx], end = \" \")\n",
    "    ite.iternext()"
   ]
  },
  {
   "cell_type": "code",
   "execution_count": null,
   "id": "9f0f59c7",
   "metadata": {},
   "outputs": [],
   "source": []
  }
 ],
 "metadata": {
  "kernelspec": {
   "display_name": "Python 3",
   "language": "python",
   "name": "python3"
  },
  "language_info": {
   "codemirror_mode": {
    "name": "ipython",
    "version": 3
   },
   "file_extension": ".py",
   "mimetype": "text/x-python",
   "name": "python",
   "nbconvert_exporter": "python",
   "pygments_lexer": "ipython3",
   "version": "3.8.8"
  }
 },
 "nbformat": 4,
 "nbformat_minor": 5
}

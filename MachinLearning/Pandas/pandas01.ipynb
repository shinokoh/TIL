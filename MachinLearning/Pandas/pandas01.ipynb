{
 "cells": [
  {
   "cell_type": "markdown",
   "id": "d7bd6b63",
   "metadata": {},
   "source": [
    "## Pandas\n",
    "\n",
    "- 분석할려는 데이터는 Series 또는 DataFrame(표형식의 테이블)\n",
    "- Series -> 넘파이의 1차원배열과 비슷 (각 데이터의 의미를 표시하는 인덱스가 존재한다)\n",
    "- Series : index + value "
   ]
  },
  {
   "cell_type": "code",
   "execution_count": 3,
   "id": "6d6d3307",
   "metadata": {},
   "outputs": [
    {
     "name": "stdout",
     "output_type": "stream",
     "text": [
      "numpy version  -  1.20.1\n",
      "pandas version -  1.2.4\n"
     ]
    }
   ],
   "source": [
    "import numpy  as np\n",
    "import pandas as pd\n",
    "import matplotlib.pyplot as plt \n",
    "\n",
    "import warnings\n",
    "warnings.filterwarnings(action='ignore')\n",
    "\n",
    "print('numpy version  - ' , np.__version__)\n",
    "print('pandas version - ' , pd.__version__)"
   ]
  },
  {
   "cell_type": "code",
   "execution_count": 26,
   "id": "14e0f5f3",
   "metadata": {},
   "outputs": [],
   "source": [
    "def seriesInfo(ary) :\n",
    "    print('series - index + values \\n' , ary)\n",
    "    print('index - ', type(ary.index)  , ary.index)\n",
    "    print('value - ', type(ary.values) , ary.values)\n",
    "    "
   ]
  },
  {
   "cell_type": "code",
   "execution_count": 27,
   "id": "66d0bff6",
   "metadata": {},
   "outputs": [
    {
     "name": "stdout",
     "output_type": "stream",
     "text": [
      "series - index + values \n",
      " 0        1\n",
      "1        2\n",
      "2        3\n",
      "3        4\n",
      "4        5\n",
      "5    jslim\n",
      "dtype: object\n",
      "index -  <class 'pandas.core.indexes.range.RangeIndex'> RangeIndex(start=0, stop=6, step=1)\n",
      "value -  <class 'numpy.ndarray'> [1 2 3 4 5 'jslim']\n"
     ]
    }
   ],
   "source": [
    "ary = pd.Series([1, 2, 3, 4, 5, 'jslim'] , dtype=np.object)\n",
    "seriesInfo(ary)"
   ]
  },
  {
   "cell_type": "code",
   "execution_count": 28,
   "id": "dccdb877",
   "metadata": {},
   "outputs": [
    {
     "name": "stdout",
     "output_type": "stream",
     "text": [
      "series - index + values \n",
      " a    1\n",
      "b    2\n",
      "c    3\n",
      "dtype: int64\n",
      "index -  <class 'pandas.core.indexes.base.Index'> Index(['a', 'b', 'c'], dtype='object')\n",
      "value -  <class 'numpy.ndarray'> [1 2 3]\n"
     ]
    }
   ],
   "source": [
    "ary = pd.Series({'a' : 1 , 'b' : 2 , 'c' : 3} )\n",
    "seriesInfo(ary)"
   ]
  },
  {
   "cell_type": "markdown",
   "id": "3a6b1a1d",
   "metadata": {},
   "source": [
    "- 인덱스의 라벨은 정수, 문자, 날짜, 시간"
   ]
  },
  {
   "cell_type": "code",
   "execution_count": 29,
   "id": "78f5d79d",
   "metadata": {},
   "outputs": [
    {
     "name": "stdout",
     "output_type": "stream",
     "text": [
      "series - index + values \n",
      " 강남     1\n",
      "서초     2\n",
      "방배     3\n",
      "동작     4\n",
      "신도림    5\n",
      "dtype: int64\n",
      "index -  <class 'pandas.core.indexes.base.Index'> Index(['강남', '서초', '방배', '동작', '신도림'], dtype='object')\n",
      "value -  <class 'numpy.ndarray'> [1 2 3 4 5]\n"
     ]
    }
   ],
   "source": [
    "ary = pd.Series([1, 2, 3, 4, 5] , \n",
    "                index = ['강남' , '서초' , '방배' , '동작' , '신도림'] )\n",
    "seriesInfo(ary)"
   ]
  },
  {
   "cell_type": "markdown",
   "id": "4c5ea68f",
   "metadata": {},
   "source": [
    "- name , index.name 속성이 존재한다\n",
    "- name -> 시리즈 데이터에 이름을 붙여주는 역할\n",
    "- index.name -> 시리즈 인덱스에 이름을 붙여주는 역할"
   ]
  },
  {
   "cell_type": "code",
   "execution_count": 31,
   "id": "02a68513",
   "metadata": {},
   "outputs": [
    {
     "name": "stdout",
     "output_type": "stream",
     "text": [
      "series - index + values \n",
      " 구 구별\n",
      "강남     1\n",
      "서초     2\n",
      "방배     3\n",
      "동작     4\n",
      "신도림    5\n",
      "Name: 별의미없음, dtype: int64\n",
      "index -  <class 'pandas.core.indexes.base.Index'> Index(['강남', '서초', '방배', '동작', '신도림'], dtype='object', name='구 구별')\n",
      "value -  <class 'numpy.ndarray'> [1 2 3 4 5]\n"
     ]
    }
   ],
   "source": [
    "ary.name = '별의미없음'\n",
    "ary.index.name = '구 구별'\n",
    "seriesInfo(ary)"
   ]
  },
  {
   "cell_type": "code",
   "execution_count": 34,
   "id": "a94b6c75",
   "metadata": {},
   "outputs": [
    {
     "name": "stdout",
     "output_type": "stream",
     "text": [
      "series - index + values \n",
      " 이름             섭섭해\n",
      "생년월일    2021-08-31\n",
      "성별               남\n",
      "결혼여부          True\n",
      "dtype: object\n",
      "index -  <class 'pandas.core.indexes.base.Index'> Index(['이름', '생년월일', '성별', '결혼여부'], dtype='object')\n",
      "value -  <class 'numpy.ndarray'> ['섭섭해' '2021-08-31' '남' True]\n"
     ]
    }
   ],
   "source": [
    "# tuple 타입을 이용한 시리즈 객체 생성\n",
    "tup_data = ('섭섭해' , '2021-08-31' , '남' , True)\n",
    "ary = pd.Series(tup_data , dtype=np.object , index = ['이름' , '생년월일' , '성별' , '결혼여부'])\n",
    "seriesInfo(ary)"
   ]
  },
  {
   "cell_type": "markdown",
   "id": "07abf982",
   "metadata": {},
   "source": [
    "#### series 에서 원소를 선택하기 위해서는 ?\n",
    "-  정수형 위치 인덱스를 활용하는 방법\n",
    "-  인덱스의 이름을 활용하는 방법\n",
    "\n",
    "#### series 에서 여러원소를 선택하기 위해서는 ?\n",
    "- 리스트를 활용하면 된다"
   ]
  },
  {
   "cell_type": "code",
   "execution_count": 44,
   "id": "13d5710c",
   "metadata": {},
   "outputs": [
    {
     "name": "stdout",
     "output_type": "stream",
     "text": [
      "정수 인덱스 -  섭섭해 <class 'str'>\n",
      "인덱스 이름 -  섭섭해 <class 'str'>\n",
      "\n",
      "정수 인덱스 - \n",
      "\n",
      "series - index + values \n",
      " 이름             섭섭해\n",
      "생년월일    2021-08-31\n",
      "dtype: object\n",
      "index -  <class 'pandas.core.indexes.base.Index'> Index(['이름', '생년월일'], dtype='object')\n",
      "value -  <class 'numpy.ndarray'> ['섭섭해' '2021-08-31']\n",
      "\n",
      "인덱스 이름 - \n",
      "\n",
      "series - index + values \n",
      " 이름    섭섭해\n",
      "성별      남\n",
      "dtype: object\n",
      "index -  <class 'pandas.core.indexes.base.Index'> Index(['이름', '성별'], dtype='object')\n",
      "value -  <class 'numpy.ndarray'> ['섭섭해' '남']\n",
      "\n",
      "범위지정 - \n",
      "\n",
      "series - index + values \n",
      " 이름             섭섭해\n",
      "생년월일    2021-08-31\n",
      "성별               남\n",
      "dtype: object\n",
      "index -  <class 'pandas.core.indexes.base.Index'> Index(['이름', '생년월일', '성별'], dtype='object')\n",
      "value -  <class 'numpy.ndarray'> ['섭섭해' '2021-08-31' '남']\n",
      "\n",
      "series - index + values \n",
      " 이름             섭섭해\n",
      "생년월일    2021-08-31\n",
      "성별               남\n",
      "dtype: object\n",
      "index -  <class 'pandas.core.indexes.base.Index'> Index(['이름', '생년월일', '성별'], dtype='object')\n",
      "value -  <class 'numpy.ndarray'> ['섭섭해' '2021-08-31' '남']\n"
     ]
    }
   ],
   "source": [
    "print('정수 인덱스 - ' , ary[0] , type(ary[0]))\n",
    "print('인덱스 이름 - ' , ary['이름'] , type(ary['이름']))\n",
    "\n",
    "print()\n",
    "print('정수 인덱스 - \\n')\n",
    "seriesInfo(ary[ [0,1]])\n",
    "\n",
    "print()\n",
    "print('인덱스 이름 - \\n')\n",
    "seriesInfo(ary[ ['이름', '성별']])\n",
    "\n",
    "print()\n",
    "print('범위지정 - \\n')\n",
    "seriesInfo( ary['이름' : '성별'] )\n",
    "print()\n",
    "seriesInfo( ary[0 : 3] )\n"
   ]
  },
  {
   "cell_type": "code",
   "execution_count": 52,
   "id": "d35d846e",
   "metadata": {},
   "outputs": [
    {
     "name": "stdout",
     "output_type": "stream",
     "text": [
      "idx : 이름 , value : 섭섭해\n",
      "idx : 생년월일 , value : 2021-08-31\n",
      "idx : 성별 , value : 남\n",
      "idx : 결혼여부 , value : True\n",
      "\n",
      "idx : 이름 \n",
      "idx : 생년월일 \n",
      "idx : 성별 \n",
      "idx : 결혼여부 \n",
      "\n",
      "value : 섭섭해\n",
      "value : 2021-08-31\n",
      "value : 남\n",
      "value : True\n"
     ]
    }
   ],
   "source": [
    "for idx , value in ary.items() :\n",
    "    print('idx : {} , value : {}'.format(idx , value))\n",
    "print()\n",
    "\n",
    "for idx in ary.keys() :\n",
    "    print('idx : {} '.format(idx))\n",
    "\n",
    "print()\n",
    "for value in ary.values :\n",
    "    print('value : {}'.format(value))\n",
    "\n",
    "    "
   ]
  },
  {
   "cell_type": "code",
   "execution_count": 46,
   "id": "200900d0",
   "metadata": {},
   "outputs": [
    {
     "data": {
      "text/plain": [
       "Index(['이름', '생년월일', '성별', '결혼여부'], dtype='object')"
      ]
     },
     "execution_count": 46,
     "metadata": {},
     "output_type": "execute_result"
    }
   ],
   "source": [
    "ary.index"
   ]
  },
  {
   "cell_type": "code",
   "execution_count": 47,
   "id": "357fed06",
   "metadata": {},
   "outputs": [
    {
     "data": {
      "text/plain": [
       "array(['섭섭해', '2021-08-31', '남', True], dtype=object)"
      ]
     },
     "execution_count": 47,
     "metadata": {},
     "output_type": "execute_result"
    }
   ],
   "source": [
    "ary.values"
   ]
  },
  {
   "cell_type": "code",
   "execution_count": 53,
   "id": "be18a9b2",
   "metadata": {},
   "outputs": [
    {
     "name": "stdout",
     "output_type": "stream",
     "text": [
      "series - index + values \n",
      " 0     10\n",
      "1     11\n",
      "2     12\n",
      "3     13\n",
      "4     14\n",
      "5     15\n",
      "6     16\n",
      "7     17\n",
      "8     18\n",
      "9     19\n",
      "10    20\n",
      "dtype: int64\n",
      "index -  <class 'pandas.core.indexes.range.RangeIndex'> RangeIndex(start=0, stop=11, step=1)\n",
      "value -  <class 'numpy.ndarray'> [10 11 12 13 14 15 16 17 18 19 20]\n"
     ]
    }
   ],
   "source": [
    "ary = pd.Series(range(10, 21))\n",
    "seriesInfo(ary)"
   ]
  },
  {
   "cell_type": "code",
   "execution_count": 54,
   "id": "d736d21e",
   "metadata": {},
   "outputs": [
    {
     "name": "stdout",
     "output_type": "stream",
     "text": [
      "series - index + values \n",
      " 0     100\n",
      "1     110\n",
      "2     120\n",
      "3     130\n",
      "4     140\n",
      "5     150\n",
      "6     160\n",
      "7     170\n",
      "8     180\n",
      "9     190\n",
      "10    200\n",
      "dtype: int64\n",
      "index -  <class 'pandas.core.indexes.range.RangeIndex'> RangeIndex(start=0, stop=11, step=1)\n",
      "value -  <class 'numpy.ndarray'> [100 110 120 130 140 150 160 170 180 190 200]\n"
     ]
    }
   ],
   "source": [
    "# 벡터화 연산도 가능하다\n",
    "seriesInfo(ary*10)"
   ]
  },
  {
   "cell_type": "code",
   "execution_count": 59,
   "id": "3a9fbba5",
   "metadata": {},
   "outputs": [
    {
     "data": {
      "text/plain": [
       "0     10\n",
       "2     12\n",
       "4     14\n",
       "6     16\n",
       "8     18\n",
       "10    20\n",
       "dtype: int64"
      ]
     },
     "execution_count": 59,
     "metadata": {},
     "output_type": "execute_result"
    }
   ],
   "source": [
    "# 2의 배수인것만 출력한다면?\n",
    "# boolean indexing : ary%2 == 0\n",
    "ary[ ary%2 == 0 ]"
   ]
  },
  {
   "cell_type": "code",
   "execution_count": 63,
   "id": "b16d59fa",
   "metadata": {},
   "outputs": [
    {
     "name": "stdout",
     "output_type": "stream",
     "text": [
      "2021-09-01 00:00:00\n"
     ]
    }
   ],
   "source": [
    "from datetime import date, datetime, timedelta\n",
    "from dateutil.parser import parse\n",
    "\n",
    "day = datetime(2021, 8, 31)\n",
    "print(day+timedelta(days=1))"
   ]
  },
  {
   "cell_type": "markdown",
   "id": "00e3da02",
   "metadata": {},
   "source": [
    "- 평균이 50이고 편차 5인 정규분포 데이터를 10일간 만들고 싶다면?"
   ]
  },
  {
   "cell_type": "code",
   "execution_count": 69,
   "id": "8c5e6844",
   "metadata": {},
   "outputs": [],
   "source": [
    "factory01 = pd.Series( [ x for x in np.random.normal(50, 5, (10,)) ] , \n",
    "                       index = [ day+timedelta(days = d ) for d in range(10) ] ) \n",
    "# seriesInfo(factory01)\n",
    "factory02 = pd.Series( [ x for x in np.random.normal(70, 8, (10,)) ] , \n",
    "                       index = [ day+timedelta(days = d ) for d in range(10) ] ) \n"
   ]
  },
  {
   "cell_type": "code",
   "execution_count": 70,
   "id": "82cbddc5",
   "metadata": {},
   "outputs": [
    {
     "data": {
      "text/plain": [
       "2021-08-31    106.791094\n",
       "2021-09-01    132.775480\n",
       "2021-09-02    118.308893\n",
       "2021-09-03    107.028016\n",
       "2021-09-04    116.130168\n",
       "2021-09-05    130.088504\n",
       "2021-09-06    106.065393\n",
       "2021-09-07    128.905223\n",
       "2021-09-08    119.841953\n",
       "2021-09-09    100.080315\n",
       "dtype: float64"
      ]
     },
     "execution_count": 70,
     "metadata": {},
     "output_type": "execute_result"
    }
   ],
   "source": [
    "factory01 + factory02"
   ]
  },
  {
   "cell_type": "code",
   "execution_count": 71,
   "id": "a211d019",
   "metadata": {},
   "outputs": [
    {
     "data": {
      "text/plain": [
       "DatetimeIndex(['2021-08-31', '2021-09-01', '2021-09-02', '2021-09-03',\n",
       "               '2021-09-04', '2021-09-05', '2021-09-06', '2021-09-07',\n",
       "               '2021-09-08', '2021-09-09'],\n",
       "              dtype='datetime64[ns]', freq=None)"
      ]
     },
     "execution_count": 71,
     "metadata": {},
     "output_type": "execute_result"
    }
   ],
   "source": [
    "factory01.index"
   ]
  },
  {
   "cell_type": "code",
   "execution_count": 72,
   "id": "3243f9f0",
   "metadata": {},
   "outputs": [
    {
     "data": {
      "text/plain": [
       "DatetimeIndex(['2021-08-31', '2021-09-01', '2021-09-02', '2021-09-03',\n",
       "               '2021-09-04', '2021-09-05', '2021-09-06', '2021-09-07',\n",
       "               '2021-09-08', '2021-09-09'],\n",
       "              dtype='datetime64[ns]', freq=None)"
      ]
     },
     "execution_count": 72,
     "metadata": {},
     "output_type": "execute_result"
    }
   ],
   "source": [
    "factory02.index"
   ]
  },
  {
   "cell_type": "code",
   "execution_count": 75,
   "id": "b9ff119a",
   "metadata": {},
   "outputs": [],
   "source": [
    "factory01 = pd.Series( [ x for x in np.random.normal(50, 5, (10,)) ] , \n",
    "                       index = [ day+timedelta(days = d ) for d in range(10) ] ) \n",
    "# seriesInfo(factory01)\n",
    "# temp_day = datetime(2020, 8, 31)\n",
    "factory02 = pd.Series( [ x for x in np.random.normal(70, 8, (10,)) ] , \n",
    "                       index = [ day+timedelta(days = d+1 ) for d in range(10) ] ) "
   ]
  },
  {
   "cell_type": "code",
   "execution_count": 76,
   "id": "7c15ea4f",
   "metadata": {},
   "outputs": [
    {
     "data": {
      "text/plain": [
       "2021-08-31           NaN\n",
       "2021-09-01    129.877917\n",
       "2021-09-02    110.994485\n",
       "2021-09-03    116.177429\n",
       "2021-09-04    118.819863\n",
       "2021-09-05    115.045513\n",
       "2021-09-06    125.136783\n",
       "2021-09-07    128.517157\n",
       "2021-09-08    114.006850\n",
       "2021-09-09    131.580690\n",
       "2021-09-10           NaN\n",
       "dtype: float64"
      ]
     },
     "execution_count": 76,
     "metadata": {},
     "output_type": "execute_result"
    }
   ],
   "source": [
    "factory01 + factory02"
   ]
  },
  {
   "cell_type": "markdown",
   "id": "1e117ea8",
   "metadata": {},
   "source": [
    "- 데이터 갱신, 추가, 삭제"
   ]
  },
  {
   "cell_type": "code",
   "execution_count": 77,
   "id": "8e0a2402",
   "metadata": {},
   "outputs": [
    {
     "name": "stdout",
     "output_type": "stream",
     "text": [
      "series - index + values \n",
      " a    4000\n",
      "b    3000\n",
      "c    3500\n",
      "d    2000\n",
      "dtype: int64\n",
      "index -  <class 'pandas.core.indexes.base.Index'> Index(['a', 'b', 'c', 'd'], dtype='object')\n",
      "value -  <class 'numpy.ndarray'> [4000 3000 3500 2000]\n"
     ]
    }
   ],
   "source": [
    "price_series = pd.Series([4000, 3000, 3500, 2000],\n",
    "                         index = ['a', 'b', 'c', 'd'])\n",
    "seriesInfo(price_series)"
   ]
  },
  {
   "cell_type": "code",
   "execution_count": 81,
   "id": "ca32218d",
   "metadata": {},
   "outputs": [
    {
     "name": "stdout",
     "output_type": "stream",
     "text": [
      "series - index + values \n",
      " a    5000\n",
      "b    3000\n",
      "c    3500\n",
      "d    2000\n",
      "dtype: int64\n",
      "index -  <class 'pandas.core.indexes.base.Index'> Index(['a', 'b', 'c', 'd'], dtype='object')\n",
      "value -  <class 'numpy.ndarray'> [5000 3000 3500 2000]\n"
     ]
    }
   ],
   "source": [
    "# 문자인덱스를 이용한 데이터 갱신\n",
    "price_series['a'] = 5000 \n",
    "seriesInfo(price_series)"
   ]
  },
  {
   "cell_type": "code",
   "execution_count": 83,
   "id": "f34b012f",
   "metadata": {},
   "outputs": [
    {
     "name": "stdout",
     "output_type": "stream",
     "text": [
      "series - index + values \n",
      " a    6000\n",
      "b    3000\n",
      "c    3500\n",
      "d    2000\n",
      "dtype: int64\n",
      "index -  <class 'pandas.core.indexes.base.Index'> Index(['a', 'b', 'c', 'd'], dtype='object')\n",
      "value -  <class 'numpy.ndarray'> [6000 3000 3500 2000]\n"
     ]
    }
   ],
   "source": [
    "# 인덱스를 이용한 데이터 갱신\n",
    "price_series[0] = 6000 \n",
    "seriesInfo(price_series)"
   ]
  },
  {
   "cell_type": "code",
   "execution_count": 84,
   "id": "3e745664",
   "metadata": {},
   "outputs": [
    {
     "name": "stdout",
     "output_type": "stream",
     "text": [
      "series - index + values \n",
      " a    6000\n",
      "b    3000\n",
      "c    3500\n",
      "d    2000\n",
      "e    7000\n",
      "dtype: int64\n",
      "index -  <class 'pandas.core.indexes.base.Index'> Index(['a', 'b', 'c', 'd', 'e'], dtype='object')\n",
      "value -  <class 'numpy.ndarray'> [6000 3000 3500 2000 7000]\n"
     ]
    }
   ],
   "source": [
    "price_series['e'] = 7000\n",
    "seriesInfo(price_series)"
   ]
  },
  {
   "cell_type": "code",
   "execution_count": 85,
   "id": "af7b9fc8",
   "metadata": {},
   "outputs": [
    {
     "name": "stdout",
     "output_type": "stream",
     "text": [
      "series - index + values \n",
      " a    6000\n",
      "b    3000\n",
      "c    3500\n",
      "d    2000\n",
      "dtype: int64\n",
      "index -  <class 'pandas.core.indexes.base.Index'> Index(['a', 'b', 'c', 'd'], dtype='object')\n",
      "value -  <class 'numpy.ndarray'> [6000 3000 3500 2000]\n"
     ]
    }
   ],
   "source": [
    "del price_series['e']\n",
    "seriesInfo(price_series)"
   ]
  },
  {
   "cell_type": "code",
   "execution_count": 86,
   "id": "da16522c",
   "metadata": {},
   "outputs": [
    {
     "name": "stdout",
     "output_type": "stream",
     "text": [
      "series - index + values \n",
      " a    6000.0\n",
      "b    3000.0\n",
      "c    3500.0\n",
      "d    2000.0\n",
      "e       NaN\n",
      "dtype: float64\n",
      "index -  <class 'pandas.core.indexes.base.Index'> Index(['a', 'b', 'c', 'd', 'e'], dtype='object')\n",
      "value -  <class 'numpy.ndarray'> [6000. 3000. 3500. 2000.   nan]\n"
     ]
    }
   ],
   "source": [
    "price_series['e'] = np.NaN\n",
    "seriesInfo(price_series)"
   ]
  },
  {
   "cell_type": "code",
   "execution_count": 92,
   "id": "c568774f",
   "metadata": {},
   "outputs": [
    {
     "name": "stdout",
     "output_type": "stream",
     "text": [
      "isnull - \n",
      "a    False\n",
      "b    False\n",
      "c    False\n",
      "d    False\n",
      "e     True\n",
      "dtype: bool\n",
      "\n",
      "e   NaN\n",
      "dtype: float64\n",
      "\n",
      "notnull - \n",
      "a     True\n",
      "b     True\n",
      "c     True\n",
      "d     True\n",
      "e    False\n",
      "dtype: bool\n",
      "\n",
      "a    6000.0\n",
      "b    3000.0\n",
      "c    3500.0\n",
      "d    2000.0\n",
      "dtype: float64\n"
     ]
    }
   ],
   "source": [
    "print('isnull - ')\n",
    "print( pd.isnull(price_series) )\n",
    "print()\n",
    "print( price_series[ price_series.isnull() ] )\n",
    "\n",
    "print()\n",
    "print('notnull - ')\n",
    "print( pd.notnull(price_series) )\n",
    "print()\n",
    "print( price_series[ price_series.notnull() ] )\n"
   ]
  },
  {
   "cell_type": "markdown",
   "id": "3f20e5b1",
   "metadata": {},
   "source": [
    "## DataFrame\n",
    "\n",
    "- pd.DataFrame()"
   ]
  },
  {
   "cell_type": "code",
   "execution_count": 115,
   "id": "3de6385b",
   "metadata": {},
   "outputs": [],
   "source": [
    "def frmInfo(df) :\n",
    "    display('DataFrame - ' , df)\n",
    "    print('shape    - ' , df.shape )\n",
    "    print('size     - ' , df.size)\n",
    "    print('ndim     - ' , df.ndim)\n",
    "    print('index    - ' , df.index   , type(df.index))\n",
    "    print('columns  - ' , df.columns , type(df.columns))\n",
    "    print('values   - \\n' , df.values  , type(df.values))"
   ]
  },
  {
   "cell_type": "code",
   "execution_count": 116,
   "id": "71667629",
   "metadata": {},
   "outputs": [
    {
     "data": {
      "text/plain": [
       "'DataFrame - '"
      ]
     },
     "metadata": {},
     "output_type": "display_data"
    },
    {
     "data": {
      "text/html": [
       "<div>\n",
       "<style scoped>\n",
       "    .dataframe tbody tr th:only-of-type {\n",
       "        vertical-align: middle;\n",
       "    }\n",
       "\n",
       "    .dataframe tbody tr th {\n",
       "        vertical-align: top;\n",
       "    }\n",
       "\n",
       "    .dataframe thead th {\n",
       "        text-align: right;\n",
       "    }\n",
       "</style>\n",
       "<table border=\"1\" class=\"dataframe\">\n",
       "  <thead>\n",
       "    <tr style=\"text-align: right;\">\n",
       "      <th></th>\n",
       "      <th>col01</th>\n",
       "      <th>col02</th>\n",
       "      <th>col03</th>\n",
       "      <th>col04</th>\n",
       "      <th>col05</th>\n",
       "    </tr>\n",
       "  </thead>\n",
       "  <tbody>\n",
       "    <tr>\n",
       "      <th>0</th>\n",
       "      <td>1</td>\n",
       "      <td>4</td>\n",
       "      <td>7</td>\n",
       "      <td>10</td>\n",
       "      <td>13</td>\n",
       "    </tr>\n",
       "    <tr>\n",
       "      <th>1</th>\n",
       "      <td>2</td>\n",
       "      <td>5</td>\n",
       "      <td>8</td>\n",
       "      <td>11</td>\n",
       "      <td>14</td>\n",
       "    </tr>\n",
       "    <tr>\n",
       "      <th>2</th>\n",
       "      <td>3</td>\n",
       "      <td>6</td>\n",
       "      <td>9</td>\n",
       "      <td>12</td>\n",
       "      <td>15</td>\n",
       "    </tr>\n",
       "  </tbody>\n",
       "</table>\n",
       "</div>"
      ],
      "text/plain": [
       "   col01  col02  col03  col04  col05\n",
       "0      1      4      7     10     13\n",
       "1      2      5      8     11     14\n",
       "2      3      6      9     12     15"
      ]
     },
     "metadata": {},
     "output_type": "display_data"
    },
    {
     "name": "stdout",
     "output_type": "stream",
     "text": [
      "shape    -  (3, 5)\n",
      "size     -  15\n",
      "ndim     -  2\n",
      "index    -  RangeIndex(start=0, stop=3, step=1) <class 'pandas.core.indexes.range.RangeIndex'>\n",
      "columns  -  Index(['col01', 'col02', 'col03', 'col04', 'col05'], dtype='object') <class 'pandas.core.indexes.base.Index'>\n",
      "values   - \n",
      " [[ 1  4  7 10 13]\n",
      " [ 2  5  8 11 14]\n",
      " [ 3  6  9 12 15]] <class 'numpy.ndarray'>\n"
     ]
    }
   ],
   "source": [
    "# 딕셔너리를 이용한 생성\n",
    "\n",
    "dict_data = {\n",
    "    'col01' : [1,2,3] , \n",
    "    'col02' : [4,5,6] , \n",
    "    'col03' : [7,8,9] , \n",
    "    'col04' : [10,11,12] , \n",
    "    'col05' : [13,14,15] , \n",
    "}\n",
    "temp_df = pd.DataFrame(dict_data)\n",
    "frmInfo(temp_df)"
   ]
  },
  {
   "cell_type": "code",
   "execution_count": 122,
   "id": "584fc249",
   "metadata": {},
   "outputs": [
    {
     "name": "stdout",
     "output_type": "stream",
     "text": [
      "리스트를 이용한 생성 - \n"
     ]
    },
    {
     "data": {
      "text/plain": [
       "'DataFrame - '"
      ]
     },
     "metadata": {},
     "output_type": "display_data"
    },
    {
     "data": {
      "text/html": [
       "<div>\n",
       "<style scoped>\n",
       "    .dataframe tbody tr th:only-of-type {\n",
       "        vertical-align: middle;\n",
       "    }\n",
       "\n",
       "    .dataframe tbody tr th {\n",
       "        vertical-align: top;\n",
       "    }\n",
       "\n",
       "    .dataframe thead th {\n",
       "        text-align: right;\n",
       "    }\n",
       "</style>\n",
       "<table border=\"1\" class=\"dataframe\">\n",
       "  <thead>\n",
       "    <tr style=\"text-align: right;\">\n",
       "      <th></th>\n",
       "      <th>나이</th>\n",
       "      <th>성별</th>\n",
       "      <th>결혼여부</th>\n",
       "    </tr>\n",
       "  </thead>\n",
       "  <tbody>\n",
       "    <tr>\n",
       "      <th>섭섭해</th>\n",
       "      <td>20</td>\n",
       "      <td>M</td>\n",
       "      <td>False</td>\n",
       "    </tr>\n",
       "    <tr>\n",
       "      <th>임섭순</th>\n",
       "      <td>30</td>\n",
       "      <td>F</td>\n",
       "      <td>True</td>\n",
       "    </tr>\n",
       "  </tbody>\n",
       "</table>\n",
       "</div>"
      ],
      "text/plain": [
       "     나이 성별   결혼여부\n",
       "섭섭해  20  M  False\n",
       "임섭순  30  F   True"
      ]
     },
     "metadata": {},
     "output_type": "display_data"
    },
    {
     "name": "stdout",
     "output_type": "stream",
     "text": [
      "shape    -  (2, 3)\n",
      "size     -  6\n",
      "ndim     -  2\n",
      "index    -  Index(['섭섭해', '임섭순'], dtype='object') <class 'pandas.core.indexes.base.Index'>\n",
      "columns  -  Index(['나이', '성별', '결혼여부'], dtype='object') <class 'pandas.core.indexes.base.Index'>\n",
      "values   - \n",
      " [[20 'M' False]\n",
      " [30 'F' True]] <class 'numpy.ndarray'>\n"
     ]
    }
   ],
   "source": [
    "# 리스트를 이용한 생성\n",
    "print('리스트를 이용한 생성 - ')\n",
    "temp_df = pd.DataFrame([ [20 , 'M' , False ] , [30, 'F' , True] ] , \n",
    "                        index   = ['섭섭해' , '임섭순'] , \n",
    "                        columns = ['나이' , '성별' , '결혼여부'])\n",
    "frmInfo(temp_df)\n"
   ]
  },
  {
   "cell_type": "code",
   "execution_count": 127,
   "id": "f8474781",
   "metadata": {},
   "outputs": [
    {
     "name": "stdout",
     "output_type": "stream",
     "text": [
      "rename 함수를 이용한 열 이름 변경 - \n",
      "원본에 반영할려면 inplace - \n",
      "\n"
     ]
    },
    {
     "data": {
      "text/plain": [
       "'DataFrame - '"
      ]
     },
     "metadata": {},
     "output_type": "display_data"
    },
    {
     "data": {
      "text/html": [
       "<div>\n",
       "<style scoped>\n",
       "    .dataframe tbody tr th:only-of-type {\n",
       "        vertical-align: middle;\n",
       "    }\n",
       "\n",
       "    .dataframe tbody tr th {\n",
       "        vertical-align: top;\n",
       "    }\n",
       "\n",
       "    .dataframe thead th {\n",
       "        text-align: right;\n",
       "    }\n",
       "</style>\n",
       "<table border=\"1\" class=\"dataframe\">\n",
       "  <thead>\n",
       "    <tr style=\"text-align: right;\">\n",
       "      <th></th>\n",
       "      <th>연세</th>\n",
       "      <th>남녀</th>\n",
       "      <th>혼인</th>\n",
       "    </tr>\n",
       "  </thead>\n",
       "  <tbody>\n",
       "    <tr>\n",
       "      <th>학생01</th>\n",
       "      <td>20</td>\n",
       "      <td>M</td>\n",
       "      <td>False</td>\n",
       "    </tr>\n",
       "    <tr>\n",
       "      <th>학생02</th>\n",
       "      <td>30</td>\n",
       "      <td>F</td>\n",
       "      <td>True</td>\n",
       "    </tr>\n",
       "  </tbody>\n",
       "</table>\n",
       "</div>"
      ],
      "text/plain": [
       "      연세 남녀     혼인\n",
       "학생01  20  M  False\n",
       "학생02  30  F   True"
      ]
     },
     "metadata": {},
     "output_type": "display_data"
    },
    {
     "name": "stdout",
     "output_type": "stream",
     "text": [
      "shape    -  (2, 3)\n",
      "size     -  6\n",
      "ndim     -  2\n",
      "index    -  Index(['학생01', '학생02'], dtype='object') <class 'pandas.core.indexes.base.Index'>\n",
      "columns  -  Index(['연세', '남녀', '혼인'], dtype='object') <class 'pandas.core.indexes.base.Index'>\n",
      "values   - \n",
      " [[20 'M' False]\n",
      " [30 'F' True]] <class 'numpy.ndarray'>\n"
     ]
    }
   ],
   "source": [
    "print('rename 함수를 이용한 열 이름 변경 - ')\n",
    "print('원본에 반영할려면 inplace - ')\n",
    "\n",
    "temp_df.rename(columns = {'나이' : '연세' , '성별' : '남녀' , '결혼여부' : '혼인' } , inplace = True)\n",
    "temp_df.rename(index   = {'섭섭해' : '학생01' , '임섭순' : '학생02' } , inplace = True)\n",
    "\n",
    "print()\n",
    "frmInfo(temp_df)"
   ]
  },
  {
   "cell_type": "code",
   "execution_count": 130,
   "id": "16f0ecff",
   "metadata": {},
   "outputs": [
    {
     "data": {
      "text/plain": [
       "'DataFrame - '"
      ]
     },
     "metadata": {},
     "output_type": "display_data"
    },
    {
     "data": {
      "text/html": [
       "<div>\n",
       "<style scoped>\n",
       "    .dataframe tbody tr th:only-of-type {\n",
       "        vertical-align: middle;\n",
       "    }\n",
       "\n",
       "    .dataframe tbody tr th {\n",
       "        vertical-align: top;\n",
       "    }\n",
       "\n",
       "    .dataframe thead th {\n",
       "        text-align: right;\n",
       "    }\n",
       "</style>\n",
       "<table border=\"1\" class=\"dataframe\">\n",
       "  <thead>\n",
       "    <tr style=\"text-align: right;\">\n",
       "      <th></th>\n",
       "      <th>지역</th>\n",
       "      <th>2014</th>\n",
       "      <th>2016</th>\n",
       "      <th>2018</th>\n",
       "      <th>2021</th>\n",
       "      <th>증가율</th>\n",
       "    </tr>\n",
       "  </thead>\n",
       "  <tbody>\n",
       "    <tr>\n",
       "      <th>서울</th>\n",
       "      <td>수도권</td>\n",
       "      <td>5910293</td>\n",
       "      <td>7910293</td>\n",
       "      <td>8910293</td>\n",
       "      <td>9910293</td>\n",
       "      <td>0.2343</td>\n",
       "    </tr>\n",
       "    <tr>\n",
       "      <th>부산</th>\n",
       "      <td>경상권</td>\n",
       "      <td>3384050</td>\n",
       "      <td>5384050</td>\n",
       "      <td>7384050</td>\n",
       "      <td>8384050</td>\n",
       "      <td>0.0434</td>\n",
       "    </tr>\n",
       "    <tr>\n",
       "      <th>경기</th>\n",
       "      <td>수도권</td>\n",
       "      <td>4938485</td>\n",
       "      <td>7938485</td>\n",
       "      <td>5938485</td>\n",
       "      <td>2938485</td>\n",
       "      <td>0.0944</td>\n",
       "    </tr>\n",
       "    <tr>\n",
       "      <th>대구</th>\n",
       "      <td>경상권</td>\n",
       "      <td>4203948</td>\n",
       "      <td>6203948</td>\n",
       "      <td>3203948</td>\n",
       "      <td>1203948</td>\n",
       "      <td>0.0034</td>\n",
       "    </tr>\n",
       "  </tbody>\n",
       "</table>\n",
       "</div>"
      ],
      "text/plain": [
       "     지역     2014     2016     2018     2021     증가율\n",
       "서울  수도권  5910293  7910293  8910293  9910293  0.2343\n",
       "부산  경상권  3384050  5384050  7384050  8384050  0.0434\n",
       "경기  수도권  4938485  7938485  5938485  2938485  0.0944\n",
       "대구  경상권  4203948  6203948  3203948  1203948  0.0034"
      ]
     },
     "metadata": {},
     "output_type": "display_data"
    },
    {
     "name": "stdout",
     "output_type": "stream",
     "text": [
      "shape    -  (4, 6)\n",
      "size     -  24\n",
      "ndim     -  2\n",
      "index    -  Index(['서울', '부산', '경기', '대구'], dtype='object') <class 'pandas.core.indexes.base.Index'>\n",
      "columns  -  Index(['지역', '2014', '2016', '2018', '2021', '증가율'], dtype='object') <class 'pandas.core.indexes.base.Index'>\n",
      "values   - \n",
      " [['수도권' 5910293 7910293 8910293 9910293 0.2343]\n",
      " ['경상권' 3384050 5384050 7384050 8384050 0.0434]\n",
      " ['수도권' 4938485 7938485 5938485 2938485 0.0944]\n",
      " ['경상권' 4203948 6203948 3203948 1203948 0.0034]] <class 'numpy.ndarray'>\n"
     ]
    }
   ],
   "source": [
    "data = {\n",
    "    \"2021\" : [9910293, 8384050, 2938485, 1203948],\n",
    "    \"2018\" : [8910293, 7384050, 5938485, 3203948],\n",
    "    \"2016\" : [7910293, 5384050, 7938485, 6203948],\n",
    "    \"2014\" : [5910293, 3384050, 4938485, 4203948],\n",
    "    \"지역\" : ['수도권' , '경상권' , '수도권' , '경상권'],\n",
    "    \"증가율\" : [0.2343 , 0.0434 , 0.0944 , 0.0034]\n",
    "}\n",
    "\n",
    "columns = ['지역' , '2014' , '2016' , '2018' , '2021' , '증가율']\n",
    "\n",
    "pop_frm = pd.DataFrame(data , \n",
    "                       columns = columns , \n",
    "                       index   = ['서울' , '부산' , '경기' , '대구'])\n",
    "frmInfo(pop_frm)"
   ]
  },
  {
   "cell_type": "code",
   "execution_count": 135,
   "id": "295c4c16",
   "metadata": {},
   "outputs": [
    {
     "data": {
      "text/plain": [
       "'DataFrame - '"
      ]
     },
     "metadata": {},
     "output_type": "display_data"
    },
    {
     "data": {
      "text/html": [
       "<div>\n",
       "<style scoped>\n",
       "    .dataframe tbody tr th:only-of-type {\n",
       "        vertical-align: middle;\n",
       "    }\n",
       "\n",
       "    .dataframe tbody tr th {\n",
       "        vertical-align: top;\n",
       "    }\n",
       "\n",
       "    .dataframe thead th {\n",
       "        text-align: right;\n",
       "    }\n",
       "</style>\n",
       "<table border=\"1\" class=\"dataframe\">\n",
       "  <thead>\n",
       "    <tr style=\"text-align: right;\">\n",
       "      <th>feature</th>\n",
       "      <th>지역</th>\n",
       "      <th>2014</th>\n",
       "      <th>2016</th>\n",
       "      <th>2018</th>\n",
       "      <th>2021</th>\n",
       "      <th>증가율</th>\n",
       "    </tr>\n",
       "    <tr>\n",
       "      <th>city</th>\n",
       "      <th></th>\n",
       "      <th></th>\n",
       "      <th></th>\n",
       "      <th></th>\n",
       "      <th></th>\n",
       "      <th></th>\n",
       "    </tr>\n",
       "  </thead>\n",
       "  <tbody>\n",
       "    <tr>\n",
       "      <th>서울</th>\n",
       "      <td>수도권</td>\n",
       "      <td>5910293</td>\n",
       "      <td>7910293</td>\n",
       "      <td>8910293</td>\n",
       "      <td>9910293</td>\n",
       "      <td>0.2343</td>\n",
       "    </tr>\n",
       "    <tr>\n",
       "      <th>부산</th>\n",
       "      <td>경상권</td>\n",
       "      <td>3384050</td>\n",
       "      <td>5384050</td>\n",
       "      <td>7384050</td>\n",
       "      <td>8384050</td>\n",
       "      <td>0.0434</td>\n",
       "    </tr>\n",
       "    <tr>\n",
       "      <th>경기</th>\n",
       "      <td>수도권</td>\n",
       "      <td>4938485</td>\n",
       "      <td>7938485</td>\n",
       "      <td>5938485</td>\n",
       "      <td>2938485</td>\n",
       "      <td>0.0944</td>\n",
       "    </tr>\n",
       "    <tr>\n",
       "      <th>대구</th>\n",
       "      <td>경상권</td>\n",
       "      <td>4203948</td>\n",
       "      <td>6203948</td>\n",
       "      <td>3203948</td>\n",
       "      <td>1203948</td>\n",
       "      <td>0.0034</td>\n",
       "    </tr>\n",
       "  </tbody>\n",
       "</table>\n",
       "</div>"
      ],
      "text/plain": [
       "feature   지역     2014     2016     2018     2021     증가율\n",
       "city                                                    \n",
       "서울       수도권  5910293  7910293  8910293  9910293  0.2343\n",
       "부산       경상권  3384050  5384050  7384050  8384050  0.0434\n",
       "경기       수도권  4938485  7938485  5938485  2938485  0.0944\n",
       "대구       경상권  4203948  6203948  3203948  1203948  0.0034"
      ]
     },
     "metadata": {},
     "output_type": "display_data"
    },
    {
     "name": "stdout",
     "output_type": "stream",
     "text": [
      "shape    -  (4, 6)\n",
      "size     -  24\n",
      "ndim     -  2\n",
      "index    -  Index(['서울', '부산', '경기', '대구'], dtype='object', name='city') <class 'pandas.core.indexes.base.Index'>\n",
      "columns  -  Index(['지역', '2014', '2016', '2018', '2021', '증가율'], dtype='object', name='feature') <class 'pandas.core.indexes.base.Index'>\n",
      "values   - \n",
      " [['수도권' 5910293 7910293 8910293 9910293 0.2343]\n",
      " ['경상권' 3384050 5384050 7384050 8384050 0.0434]\n",
      " ['수도권' 4938485 7938485 5938485 2938485 0.0944]\n",
      " ['경상권' 4203948 6203948 3203948 1203948 0.0034]] <class 'numpy.ndarray'>\n",
      "\n",
      "index name   -  Index(['서울', '부산', '경기', '대구'], dtype='object', name='city') city\n",
      "columns name -  Index(['지역', '2014', '2016', '2018', '2021', '증가율'], dtype='object', name='feature') feature\n"
     ]
    }
   ],
   "source": [
    "pop_frm.index.name = 'city'\n",
    "pop_frm.columns.name = 'feature'\n",
    "frmInfo(pop_frm)\n",
    "print()\n",
    "print('index name   - ' , pop_frm.index   , pop_frm.index.name)\n",
    "print('columns name - ' , pop_frm.columns , pop_frm.columns.name)\n"
   ]
  },
  {
   "cell_type": "markdown",
   "id": "00340ad5",
   "metadata": {},
   "source": [
    "- 열 데이터의 갱신, 추가, 삭제"
   ]
  },
  {
   "cell_type": "code",
   "execution_count": 147,
   "id": "39cdacc7",
   "metadata": {},
   "outputs": [
    {
     "data": {
      "text/plain": [
       "'DataFrame - '"
      ]
     },
     "metadata": {},
     "output_type": "display_data"
    },
    {
     "data": {
      "text/html": [
       "<div>\n",
       "<style scoped>\n",
       "    .dataframe tbody tr th:only-of-type {\n",
       "        vertical-align: middle;\n",
       "    }\n",
       "\n",
       "    .dataframe tbody tr th {\n",
       "        vertical-align: top;\n",
       "    }\n",
       "\n",
       "    .dataframe thead th {\n",
       "        text-align: right;\n",
       "    }\n",
       "</style>\n",
       "<table border=\"1\" class=\"dataframe\">\n",
       "  <thead>\n",
       "    <tr style=\"text-align: right;\">\n",
       "      <th>feature</th>\n",
       "      <th>지역</th>\n",
       "      <th>2014</th>\n",
       "      <th>2016</th>\n",
       "      <th>2018</th>\n",
       "      <th>2021</th>\n",
       "      <th>증가율</th>\n",
       "      <th>2014-2016증가율</th>\n",
       "    </tr>\n",
       "    <tr>\n",
       "      <th>city</th>\n",
       "      <th></th>\n",
       "      <th></th>\n",
       "      <th></th>\n",
       "      <th></th>\n",
       "      <th></th>\n",
       "      <th></th>\n",
       "      <th></th>\n",
       "    </tr>\n",
       "  </thead>\n",
       "  <tbody>\n",
       "    <tr>\n",
       "      <th>서울</th>\n",
       "      <td>수도권</td>\n",
       "      <td>5910293</td>\n",
       "      <td>7910293</td>\n",
       "      <td>8910293</td>\n",
       "      <td>9910293</td>\n",
       "      <td>0.2343</td>\n",
       "      <td>33.84</td>\n",
       "    </tr>\n",
       "    <tr>\n",
       "      <th>부산</th>\n",
       "      <td>경상권</td>\n",
       "      <td>3384050</td>\n",
       "      <td>5384050</td>\n",
       "      <td>7384050</td>\n",
       "      <td>8384050</td>\n",
       "      <td>0.0434</td>\n",
       "      <td>59.10</td>\n",
       "    </tr>\n",
       "    <tr>\n",
       "      <th>경기</th>\n",
       "      <td>수도권</td>\n",
       "      <td>4938485</td>\n",
       "      <td>7938485</td>\n",
       "      <td>5938485</td>\n",
       "      <td>2938485</td>\n",
       "      <td>0.0944</td>\n",
       "      <td>60.75</td>\n",
       "    </tr>\n",
       "    <tr>\n",
       "      <th>대구</th>\n",
       "      <td>경상권</td>\n",
       "      <td>4203948</td>\n",
       "      <td>6203948</td>\n",
       "      <td>3203948</td>\n",
       "      <td>1203948</td>\n",
       "      <td>0.0034</td>\n",
       "      <td>47.57</td>\n",
       "    </tr>\n",
       "  </tbody>\n",
       "</table>\n",
       "</div>"
      ],
      "text/plain": [
       "feature   지역     2014     2016     2018     2021     증가율  2014-2016증가율\n",
       "city                                                                  \n",
       "서울       수도권  5910293  7910293  8910293  9910293  0.2343         33.84\n",
       "부산       경상권  3384050  5384050  7384050  8384050  0.0434         59.10\n",
       "경기       수도권  4938485  7938485  5938485  2938485  0.0944         60.75\n",
       "대구       경상권  4203948  6203948  3203948  1203948  0.0034         47.57"
      ]
     },
     "metadata": {},
     "output_type": "display_data"
    },
    {
     "name": "stdout",
     "output_type": "stream",
     "text": [
      "shape    -  (4, 7)\n",
      "size     -  28\n",
      "ndim     -  2\n",
      "index    -  Index(['서울', '부산', '경기', '대구'], dtype='object', name='city') <class 'pandas.core.indexes.base.Index'>\n",
      "columns  -  Index(['지역', '2014', '2016', '2018', '2021', '증가율', '2014-2016증가율'], dtype='object', name='feature') <class 'pandas.core.indexes.base.Index'>\n",
      "values   - \n",
      " [['수도권' 5910293 7910293 8910293 9910293 0.2343 33.84]\n",
      " ['경상권' 3384050 5384050 7384050 8384050 0.0434 59.1]\n",
      " ['수도권' 4938485 7938485 5938485 2938485 0.0944 60.75]\n",
      " ['경상권' 4203948 6203948 3203948 1203948 0.0034 47.57]] <class 'numpy.ndarray'>\n"
     ]
    }
   ],
   "source": [
    "# 새로운 피처추가\n",
    "pop_frm['2014-2016증가율'] = ( (pop_frm['2016'] - pop_frm['2014'] ) / pop_frm['2014'] * 100 ).round(2)\n",
    "frmInfo(pop_frm)"
   ]
  },
  {
   "cell_type": "code",
   "execution_count": 148,
   "id": "25140f15",
   "metadata": {},
   "outputs": [
    {
     "data": {
      "text/plain": [
       "'DataFrame - '"
      ]
     },
     "metadata": {},
     "output_type": "display_data"
    },
    {
     "data": {
      "text/html": [
       "<div>\n",
       "<style scoped>\n",
       "    .dataframe tbody tr th:only-of-type {\n",
       "        vertical-align: middle;\n",
       "    }\n",
       "\n",
       "    .dataframe tbody tr th {\n",
       "        vertical-align: top;\n",
       "    }\n",
       "\n",
       "    .dataframe thead th {\n",
       "        text-align: right;\n",
       "    }\n",
       "</style>\n",
       "<table border=\"1\" class=\"dataframe\">\n",
       "  <thead>\n",
       "    <tr style=\"text-align: right;\">\n",
       "      <th>feature</th>\n",
       "      <th>지역</th>\n",
       "      <th>2014</th>\n",
       "      <th>2016</th>\n",
       "      <th>2018</th>\n",
       "      <th>2021</th>\n",
       "      <th>증가율</th>\n",
       "    </tr>\n",
       "    <tr>\n",
       "      <th>city</th>\n",
       "      <th></th>\n",
       "      <th></th>\n",
       "      <th></th>\n",
       "      <th></th>\n",
       "      <th></th>\n",
       "      <th></th>\n",
       "    </tr>\n",
       "  </thead>\n",
       "  <tbody>\n",
       "    <tr>\n",
       "      <th>서울</th>\n",
       "      <td>수도권</td>\n",
       "      <td>5910293</td>\n",
       "      <td>7910293</td>\n",
       "      <td>8910293</td>\n",
       "      <td>9910293</td>\n",
       "      <td>0.2343</td>\n",
       "    </tr>\n",
       "    <tr>\n",
       "      <th>부산</th>\n",
       "      <td>경상권</td>\n",
       "      <td>3384050</td>\n",
       "      <td>5384050</td>\n",
       "      <td>7384050</td>\n",
       "      <td>8384050</td>\n",
       "      <td>0.0434</td>\n",
       "    </tr>\n",
       "    <tr>\n",
       "      <th>경기</th>\n",
       "      <td>수도권</td>\n",
       "      <td>4938485</td>\n",
       "      <td>7938485</td>\n",
       "      <td>5938485</td>\n",
       "      <td>2938485</td>\n",
       "      <td>0.0944</td>\n",
       "    </tr>\n",
       "    <tr>\n",
       "      <th>대구</th>\n",
       "      <td>경상권</td>\n",
       "      <td>4203948</td>\n",
       "      <td>6203948</td>\n",
       "      <td>3203948</td>\n",
       "      <td>1203948</td>\n",
       "      <td>0.0034</td>\n",
       "    </tr>\n",
       "  </tbody>\n",
       "</table>\n",
       "</div>"
      ],
      "text/plain": [
       "feature   지역     2014     2016     2018     2021     증가율\n",
       "city                                                    \n",
       "서울       수도권  5910293  7910293  8910293  9910293  0.2343\n",
       "부산       경상권  3384050  5384050  7384050  8384050  0.0434\n",
       "경기       수도권  4938485  7938485  5938485  2938485  0.0944\n",
       "대구       경상권  4203948  6203948  3203948  1203948  0.0034"
      ]
     },
     "metadata": {},
     "output_type": "display_data"
    },
    {
     "name": "stdout",
     "output_type": "stream",
     "text": [
      "shape    -  (4, 6)\n",
      "size     -  24\n",
      "ndim     -  2\n",
      "index    -  Index(['서울', '부산', '경기', '대구'], dtype='object', name='city') <class 'pandas.core.indexes.base.Index'>\n",
      "columns  -  Index(['지역', '2014', '2016', '2018', '2021', '증가율'], dtype='object', name='feature') <class 'pandas.core.indexes.base.Index'>\n",
      "values   - \n",
      " [['수도권' 5910293 7910293 8910293 9910293 0.2343]\n",
      " ['경상권' 3384050 5384050 7384050 8384050 0.0434]\n",
      " ['수도권' 4938485 7938485 5938485 2938485 0.0944]\n",
      " ['경상권' 4203948 6203948 3203948 1203948 0.0034]] <class 'numpy.ndarray'>\n"
     ]
    }
   ],
   "source": [
    "# 피처삭제\n",
    "del pop_frm['2014-2016증가율']\n",
    "frmInfo(pop_frm)"
   ]
  },
  {
   "cell_type": "code",
   "execution_count": 152,
   "id": "7ba5f85c",
   "metadata": {},
   "outputs": [
    {
     "data": {
      "text/plain": [
       "'DataFrame - '"
      ]
     },
     "metadata": {},
     "output_type": "display_data"
    },
    {
     "data": {
      "text/html": [
       "<div>\n",
       "<style scoped>\n",
       "    .dataframe tbody tr th:only-of-type {\n",
       "        vertical-align: middle;\n",
       "    }\n",
       "\n",
       "    .dataframe tbody tr th {\n",
       "        vertical-align: top;\n",
       "    }\n",
       "\n",
       "    .dataframe thead th {\n",
       "        text-align: right;\n",
       "    }\n",
       "</style>\n",
       "<table border=\"1\" class=\"dataframe\">\n",
       "  <thead>\n",
       "    <tr style=\"text-align: right;\">\n",
       "      <th>feature</th>\n",
       "      <th>지역</th>\n",
       "      <th>증가율</th>\n",
       "    </tr>\n",
       "    <tr>\n",
       "      <th>city</th>\n",
       "      <th></th>\n",
       "      <th></th>\n",
       "    </tr>\n",
       "  </thead>\n",
       "  <tbody>\n",
       "    <tr>\n",
       "      <th>서울</th>\n",
       "      <td>수도권</td>\n",
       "      <td>0.2343</td>\n",
       "    </tr>\n",
       "    <tr>\n",
       "      <th>부산</th>\n",
       "      <td>경상권</td>\n",
       "      <td>0.0434</td>\n",
       "    </tr>\n",
       "    <tr>\n",
       "      <th>경기</th>\n",
       "      <td>수도권</td>\n",
       "      <td>0.0944</td>\n",
       "    </tr>\n",
       "    <tr>\n",
       "      <th>대구</th>\n",
       "      <td>경상권</td>\n",
       "      <td>0.0034</td>\n",
       "    </tr>\n",
       "  </tbody>\n",
       "</table>\n",
       "</div>"
      ],
      "text/plain": [
       "feature   지역     증가율\n",
       "city                \n",
       "서울       수도권  0.2343\n",
       "부산       경상권  0.0434\n",
       "경기       수도권  0.0944\n",
       "대구       경상권  0.0034"
      ]
     },
     "metadata": {},
     "output_type": "display_data"
    },
    {
     "name": "stdout",
     "output_type": "stream",
     "text": [
      "shape    -  (4, 2)\n",
      "size     -  8\n",
      "ndim     -  2\n",
      "index    -  Index(['서울', '부산', '경기', '대구'], dtype='object', name='city') <class 'pandas.core.indexes.base.Index'>\n",
      "columns  -  Index(['지역', '증가율'], dtype='object', name='feature') <class 'pandas.core.indexes.base.Index'>\n",
      "values   - \n",
      " [['수도권' 0.2343]\n",
      " ['경상권' 0.0434]\n",
      " ['수도권' 0.0944]\n",
      " ['경상권' 0.0034]] <class 'numpy.ndarray'>\n"
     ]
    }
   ],
   "source": [
    "frmInfo( pop_frm[['지역' , '증가율']] )"
   ]
  },
  {
   "cell_type": "markdown",
   "id": "7d97823e",
   "metadata": {},
   "source": [
    "- row indexing(항상 슬라이싱해야한다)\n",
    "- 배열, 라벨 인덱싱이 가능하다\n"
   ]
  },
  {
   "cell_type": "code",
   "execution_count": 153,
   "id": "0773f1ed",
   "metadata": {},
   "outputs": [
    {
     "data": {
      "text/plain": [
       "'DataFrame - '"
      ]
     },
     "metadata": {},
     "output_type": "display_data"
    },
    {
     "data": {
      "text/html": [
       "<div>\n",
       "<style scoped>\n",
       "    .dataframe tbody tr th:only-of-type {\n",
       "        vertical-align: middle;\n",
       "    }\n",
       "\n",
       "    .dataframe tbody tr th {\n",
       "        vertical-align: top;\n",
       "    }\n",
       "\n",
       "    .dataframe thead th {\n",
       "        text-align: right;\n",
       "    }\n",
       "</style>\n",
       "<table border=\"1\" class=\"dataframe\">\n",
       "  <thead>\n",
       "    <tr style=\"text-align: right;\">\n",
       "      <th>feature</th>\n",
       "      <th>지역</th>\n",
       "      <th>2014</th>\n",
       "      <th>2016</th>\n",
       "      <th>2018</th>\n",
       "      <th>2021</th>\n",
       "      <th>증가율</th>\n",
       "    </tr>\n",
       "    <tr>\n",
       "      <th>city</th>\n",
       "      <th></th>\n",
       "      <th></th>\n",
       "      <th></th>\n",
       "      <th></th>\n",
       "      <th></th>\n",
       "      <th></th>\n",
       "    </tr>\n",
       "  </thead>\n",
       "  <tbody>\n",
       "    <tr>\n",
       "      <th>서울</th>\n",
       "      <td>수도권</td>\n",
       "      <td>5910293</td>\n",
       "      <td>7910293</td>\n",
       "      <td>8910293</td>\n",
       "      <td>9910293</td>\n",
       "      <td>0.2343</td>\n",
       "    </tr>\n",
       "    <tr>\n",
       "      <th>부산</th>\n",
       "      <td>경상권</td>\n",
       "      <td>3384050</td>\n",
       "      <td>5384050</td>\n",
       "      <td>7384050</td>\n",
       "      <td>8384050</td>\n",
       "      <td>0.0434</td>\n",
       "    </tr>\n",
       "    <tr>\n",
       "      <th>경기</th>\n",
       "      <td>수도권</td>\n",
       "      <td>4938485</td>\n",
       "      <td>7938485</td>\n",
       "      <td>5938485</td>\n",
       "      <td>2938485</td>\n",
       "      <td>0.0944</td>\n",
       "    </tr>\n",
       "    <tr>\n",
       "      <th>대구</th>\n",
       "      <td>경상권</td>\n",
       "      <td>4203948</td>\n",
       "      <td>6203948</td>\n",
       "      <td>3203948</td>\n",
       "      <td>1203948</td>\n",
       "      <td>0.0034</td>\n",
       "    </tr>\n",
       "  </tbody>\n",
       "</table>\n",
       "</div>"
      ],
      "text/plain": [
       "feature   지역     2014     2016     2018     2021     증가율\n",
       "city                                                    \n",
       "서울       수도권  5910293  7910293  8910293  9910293  0.2343\n",
       "부산       경상권  3384050  5384050  7384050  8384050  0.0434\n",
       "경기       수도권  4938485  7938485  5938485  2938485  0.0944\n",
       "대구       경상권  4203948  6203948  3203948  1203948  0.0034"
      ]
     },
     "metadata": {},
     "output_type": "display_data"
    },
    {
     "name": "stdout",
     "output_type": "stream",
     "text": [
      "shape    -  (4, 6)\n",
      "size     -  24\n",
      "ndim     -  2\n",
      "index    -  Index(['서울', '부산', '경기', '대구'], dtype='object', name='city') <class 'pandas.core.indexes.base.Index'>\n",
      "columns  -  Index(['지역', '2014', '2016', '2018', '2021', '증가율'], dtype='object', name='feature') <class 'pandas.core.indexes.base.Index'>\n",
      "values   - \n",
      " [['수도권' 5910293 7910293 8910293 9910293 0.2343]\n",
      " ['경상권' 3384050 5384050 7384050 8384050 0.0434]\n",
      " ['수도권' 4938485 7938485 5938485 2938485 0.0944]\n",
      " ['경상권' 4203948 6203948 3203948 1203948 0.0034]] <class 'numpy.ndarray'>\n"
     ]
    }
   ],
   "source": [
    "frmInfo( pop_frm )"
   ]
  },
  {
   "cell_type": "code",
   "execution_count": 159,
   "id": "86c1d458",
   "metadata": {},
   "outputs": [
    {
     "data": {
      "text/html": [
       "<div>\n",
       "<style scoped>\n",
       "    .dataframe tbody tr th:only-of-type {\n",
       "        vertical-align: middle;\n",
       "    }\n",
       "\n",
       "    .dataframe tbody tr th {\n",
       "        vertical-align: top;\n",
       "    }\n",
       "\n",
       "    .dataframe thead th {\n",
       "        text-align: right;\n",
       "    }\n",
       "</style>\n",
       "<table border=\"1\" class=\"dataframe\">\n",
       "  <thead>\n",
       "    <tr style=\"text-align: right;\">\n",
       "      <th>feature</th>\n",
       "      <th>지역</th>\n",
       "      <th>2014</th>\n",
       "      <th>2016</th>\n",
       "      <th>2018</th>\n",
       "      <th>2021</th>\n",
       "      <th>증가율</th>\n",
       "    </tr>\n",
       "    <tr>\n",
       "      <th>city</th>\n",
       "      <th></th>\n",
       "      <th></th>\n",
       "      <th></th>\n",
       "      <th></th>\n",
       "      <th></th>\n",
       "      <th></th>\n",
       "    </tr>\n",
       "  </thead>\n",
       "  <tbody>\n",
       "    <tr>\n",
       "      <th>서울</th>\n",
       "      <td>수도권</td>\n",
       "      <td>5910293</td>\n",
       "      <td>7910293</td>\n",
       "      <td>8910293</td>\n",
       "      <td>9910293</td>\n",
       "      <td>0.2343</td>\n",
       "    </tr>\n",
       "  </tbody>\n",
       "</table>\n",
       "</div>"
      ],
      "text/plain": [
       "feature   지역     2014     2016     2018     2021     증가율\n",
       "city                                                    \n",
       "서울       수도권  5910293  7910293  8910293  9910293  0.2343"
      ]
     },
     "metadata": {},
     "output_type": "display_data"
    },
    {
     "data": {
      "text/html": [
       "<div>\n",
       "<style scoped>\n",
       "    .dataframe tbody tr th:only-of-type {\n",
       "        vertical-align: middle;\n",
       "    }\n",
       "\n",
       "    .dataframe tbody tr th {\n",
       "        vertical-align: top;\n",
       "    }\n",
       "\n",
       "    .dataframe thead th {\n",
       "        text-align: right;\n",
       "    }\n",
       "</style>\n",
       "<table border=\"1\" class=\"dataframe\">\n",
       "  <thead>\n",
       "    <tr style=\"text-align: right;\">\n",
       "      <th>feature</th>\n",
       "      <th>지역</th>\n",
       "      <th>2014</th>\n",
       "      <th>2016</th>\n",
       "      <th>2018</th>\n",
       "      <th>2021</th>\n",
       "      <th>증가율</th>\n",
       "    </tr>\n",
       "    <tr>\n",
       "      <th>city</th>\n",
       "      <th></th>\n",
       "      <th></th>\n",
       "      <th></th>\n",
       "      <th></th>\n",
       "      <th></th>\n",
       "      <th></th>\n",
       "    </tr>\n",
       "  </thead>\n",
       "  <tbody>\n",
       "    <tr>\n",
       "      <th>서울</th>\n",
       "      <td>수도권</td>\n",
       "      <td>5910293</td>\n",
       "      <td>7910293</td>\n",
       "      <td>8910293</td>\n",
       "      <td>9910293</td>\n",
       "      <td>0.2343</td>\n",
       "    </tr>\n",
       "  </tbody>\n",
       "</table>\n",
       "</div>"
      ],
      "text/plain": [
       "feature   지역     2014     2016     2018     2021     증가율\n",
       "city                                                    \n",
       "서울       수도권  5910293  7910293  8910293  9910293  0.2343"
      ]
     },
     "metadata": {},
     "output_type": "display_data"
    }
   ],
   "source": [
    "display( pop_frm[ : 1] )\n",
    "display( pop_frm[ : '서울'] )"
   ]
  },
  {
   "cell_type": "code",
   "execution_count": 160,
   "id": "ad93fc79",
   "metadata": {},
   "outputs": [
    {
     "data": {
      "text/html": [
       "<div>\n",
       "<style scoped>\n",
       "    .dataframe tbody tr th:only-of-type {\n",
       "        vertical-align: middle;\n",
       "    }\n",
       "\n",
       "    .dataframe tbody tr th {\n",
       "        vertical-align: top;\n",
       "    }\n",
       "\n",
       "    .dataframe thead th {\n",
       "        text-align: right;\n",
       "    }\n",
       "</style>\n",
       "<table border=\"1\" class=\"dataframe\">\n",
       "  <thead>\n",
       "    <tr style=\"text-align: right;\">\n",
       "      <th>feature</th>\n",
       "      <th>지역</th>\n",
       "      <th>2014</th>\n",
       "      <th>2016</th>\n",
       "      <th>2018</th>\n",
       "      <th>2021</th>\n",
       "      <th>증가율</th>\n",
       "    </tr>\n",
       "    <tr>\n",
       "      <th>city</th>\n",
       "      <th></th>\n",
       "      <th></th>\n",
       "      <th></th>\n",
       "      <th></th>\n",
       "      <th></th>\n",
       "      <th></th>\n",
       "    </tr>\n",
       "  </thead>\n",
       "  <tbody>\n",
       "    <tr>\n",
       "      <th>서울</th>\n",
       "      <td>수도권</td>\n",
       "      <td>5910293</td>\n",
       "      <td>7910293</td>\n",
       "      <td>8910293</td>\n",
       "      <td>9910293</td>\n",
       "      <td>0.2343</td>\n",
       "    </tr>\n",
       "    <tr>\n",
       "      <th>부산</th>\n",
       "      <td>경상권</td>\n",
       "      <td>3384050</td>\n",
       "      <td>5384050</td>\n",
       "      <td>7384050</td>\n",
       "      <td>8384050</td>\n",
       "      <td>0.0434</td>\n",
       "    </tr>\n",
       "    <tr>\n",
       "      <th>경기</th>\n",
       "      <td>수도권</td>\n",
       "      <td>4938485</td>\n",
       "      <td>7938485</td>\n",
       "      <td>5938485</td>\n",
       "      <td>2938485</td>\n",
       "      <td>0.0944</td>\n",
       "    </tr>\n",
       "  </tbody>\n",
       "</table>\n",
       "</div>"
      ],
      "text/plain": [
       "feature   지역     2014     2016     2018     2021     증가율\n",
       "city                                                    \n",
       "서울       수도권  5910293  7910293  8910293  9910293  0.2343\n",
       "부산       경상권  3384050  5384050  7384050  8384050  0.0434\n",
       "경기       수도권  4938485  7938485  5938485  2938485  0.0944"
      ]
     },
     "metadata": {},
     "output_type": "display_data"
    },
    {
     "data": {
      "text/html": [
       "<div>\n",
       "<style scoped>\n",
       "    .dataframe tbody tr th:only-of-type {\n",
       "        vertical-align: middle;\n",
       "    }\n",
       "\n",
       "    .dataframe tbody tr th {\n",
       "        vertical-align: top;\n",
       "    }\n",
       "\n",
       "    .dataframe thead th {\n",
       "        text-align: right;\n",
       "    }\n",
       "</style>\n",
       "<table border=\"1\" class=\"dataframe\">\n",
       "  <thead>\n",
       "    <tr style=\"text-align: right;\">\n",
       "      <th>feature</th>\n",
       "      <th>지역</th>\n",
       "      <th>2014</th>\n",
       "      <th>2016</th>\n",
       "      <th>2018</th>\n",
       "      <th>2021</th>\n",
       "      <th>증가율</th>\n",
       "    </tr>\n",
       "    <tr>\n",
       "      <th>city</th>\n",
       "      <th></th>\n",
       "      <th></th>\n",
       "      <th></th>\n",
       "      <th></th>\n",
       "      <th></th>\n",
       "      <th></th>\n",
       "    </tr>\n",
       "  </thead>\n",
       "  <tbody>\n",
       "    <tr>\n",
       "      <th>서울</th>\n",
       "      <td>수도권</td>\n",
       "      <td>5910293</td>\n",
       "      <td>7910293</td>\n",
       "      <td>8910293</td>\n",
       "      <td>9910293</td>\n",
       "      <td>0.2343</td>\n",
       "    </tr>\n",
       "    <tr>\n",
       "      <th>부산</th>\n",
       "      <td>경상권</td>\n",
       "      <td>3384050</td>\n",
       "      <td>5384050</td>\n",
       "      <td>7384050</td>\n",
       "      <td>8384050</td>\n",
       "      <td>0.0434</td>\n",
       "    </tr>\n",
       "    <tr>\n",
       "      <th>경기</th>\n",
       "      <td>수도권</td>\n",
       "      <td>4938485</td>\n",
       "      <td>7938485</td>\n",
       "      <td>5938485</td>\n",
       "      <td>2938485</td>\n",
       "      <td>0.0944</td>\n",
       "    </tr>\n",
       "  </tbody>\n",
       "</table>\n",
       "</div>"
      ],
      "text/plain": [
       "feature   지역     2014     2016     2018     2021     증가율\n",
       "city                                                    \n",
       "서울       수도권  5910293  7910293  8910293  9910293  0.2343\n",
       "부산       경상권  3384050  5384050  7384050  8384050  0.0434\n",
       "경기       수도권  4938485  7938485  5938485  2938485  0.0944"
      ]
     },
     "metadata": {},
     "output_type": "display_data"
    }
   ],
   "source": [
    "display( pop_frm[ 0 : 3] )\n",
    "display( pop_frm[ '서울' : '경기' ] )"
   ]
  },
  {
   "cell_type": "markdown",
   "id": "265e86a4",
   "metadata": {},
   "source": [
    "- 개별 인덱싱(특정행, 특정열)"
   ]
  },
  {
   "cell_type": "code",
   "execution_count": 168,
   "id": "2aefd815",
   "metadata": {},
   "outputs": [
    {
     "data": {
      "text/plain": [
       "city\n",
       "서울    9910293\n",
       "대구    1203948\n",
       "Name: 2021, dtype: int64"
      ]
     },
     "execution_count": 168,
     "metadata": {},
     "output_type": "execute_result"
    }
   ],
   "source": [
    "# frmInfo( pop_frm )\n",
    "pop_frm['2021'][['서울' , '대구']]"
   ]
  },
  {
   "cell_type": "markdown",
   "id": "d20f7bbd",
   "metadata": {},
   "source": [
    "#### 해당 url 을 이용한 데이터프레임 생성\n",
    "- https://www.kobis.or.kr/kobisopenapi/homepg/apiservice/searchServiceInfo.do?serviceId=searchDailyBoxOffice"
   ]
  },
  {
   "cell_type": "code",
   "execution_count": 196,
   "id": "41c4517f",
   "metadata": {},
   "outputs": [
    {
     "name": "stdout",
     "output_type": "stream",
     "text": [
      "page - \n",
      "<http.client.HTTPResponse object at 0x000002D484D13280>\n",
      "json -  <class 'dict'>\n",
      "\n"
     ]
    },
    {
     "data": {
      "text/plain": [
       "'DataFrame - '"
      ]
     },
     "metadata": {},
     "output_type": "display_data"
    },
    {
     "data": {
      "text/html": [
       "<div>\n",
       "<style scoped>\n",
       "    .dataframe tbody tr th:only-of-type {\n",
       "        vertical-align: middle;\n",
       "    }\n",
       "\n",
       "    .dataframe tbody tr th {\n",
       "        vertical-align: top;\n",
       "    }\n",
       "\n",
       "    .dataframe thead th {\n",
       "        text-align: right;\n",
       "    }\n",
       "</style>\n",
       "<table border=\"1\" class=\"dataframe\">\n",
       "  <thead>\n",
       "    <tr style=\"text-align: right;\">\n",
       "      <th></th>\n",
       "      <th>rank</th>\n",
       "      <th>movieNm</th>\n",
       "      <th>salesAmt</th>\n",
       "    </tr>\n",
       "  </thead>\n",
       "  <tbody>\n",
       "    <tr>\n",
       "      <th>0</th>\n",
       "      <td>1</td>\n",
       "      <td>미션임파서블:고스트프로토콜</td>\n",
       "      <td>2776060500</td>\n",
       "    </tr>\n",
       "    <tr>\n",
       "      <th>1</th>\n",
       "      <td>2</td>\n",
       "      <td>마이 웨이</td>\n",
       "      <td>1189058500</td>\n",
       "    </tr>\n",
       "    <tr>\n",
       "      <th>2</th>\n",
       "      <td>3</td>\n",
       "      <td>셜록홈즈 : 그림자 게임</td>\n",
       "      <td>1176022500</td>\n",
       "    </tr>\n",
       "    <tr>\n",
       "      <th>3</th>\n",
       "      <td>4</td>\n",
       "      <td>퍼펙트 게임</td>\n",
       "      <td>644532000</td>\n",
       "    </tr>\n",
       "    <tr>\n",
       "      <th>4</th>\n",
       "      <td>5</td>\n",
       "      <td>프렌즈: 몬스터섬의비밀</td>\n",
       "      <td>436753500</td>\n",
       "    </tr>\n",
       "    <tr>\n",
       "      <th>5</th>\n",
       "      <td>6</td>\n",
       "      <td>라이온 킹</td>\n",
       "      <td>507115500</td>\n",
       "    </tr>\n",
       "    <tr>\n",
       "      <th>6</th>\n",
       "      <td>7</td>\n",
       "      <td>오싹한 연애</td>\n",
       "      <td>344871000</td>\n",
       "    </tr>\n",
       "    <tr>\n",
       "      <th>7</th>\n",
       "      <td>8</td>\n",
       "      <td>극장판 포켓몬스터 베스트 위시「비크티니와 백의 영웅 레시라무」</td>\n",
       "      <td>167809500</td>\n",
       "    </tr>\n",
       "    <tr>\n",
       "      <th>8</th>\n",
       "      <td>9</td>\n",
       "      <td>앨빈과 슈퍼밴드3</td>\n",
       "      <td>137030000</td>\n",
       "    </tr>\n",
       "    <tr>\n",
       "      <th>9</th>\n",
       "      <td>10</td>\n",
       "      <td>극장판 포켓몬스터 베스트 위시 「비크티니와 흑의 영웅 제크로무」</td>\n",
       "      <td>125535500</td>\n",
       "    </tr>\n",
       "  </tbody>\n",
       "</table>\n",
       "</div>"
      ],
      "text/plain": [
       "  rank                              movieNm    salesAmt\n",
       "0    1                       미션임파서블:고스트프로토콜  2776060500\n",
       "1    2                                마이 웨이  1189058500\n",
       "2    3                        셜록홈즈 : 그림자 게임  1176022500\n",
       "3    4                               퍼펙트 게임   644532000\n",
       "4    5                        프렌즈: 몬스터섬의비밀    436753500\n",
       "5    6                                라이온 킹   507115500\n",
       "6    7                               오싹한 연애   344871000\n",
       "7    8   극장판 포켓몬스터 베스트 위시「비크티니와 백의 영웅 레시라무」   167809500\n",
       "8    9                            앨빈과 슈퍼밴드3   137030000\n",
       "9   10  극장판 포켓몬스터 베스트 위시 「비크티니와 흑의 영웅 제크로무」   125535500"
      ]
     },
     "metadata": {},
     "output_type": "display_data"
    },
    {
     "name": "stdout",
     "output_type": "stream",
     "text": [
      "shape    -  (10, 3)\n",
      "size     -  30\n",
      "ndim     -  2\n",
      "index    -  RangeIndex(start=0, stop=10, step=1) <class 'pandas.core.indexes.range.RangeIndex'>\n",
      "columns  -  Index(['rank', 'movieNm', 'salesAmt'], dtype='object') <class 'pandas.core.indexes.base.Index'>\n",
      "values   - \n",
      " [['1' '미션임파서블:고스트프로토콜' '2776060500']\n",
      " ['2' '마이 웨이' '1189058500']\n",
      " ['3' '셜록홈즈 : 그림자 게임' '1176022500']\n",
      " ['4' '퍼펙트 게임' '644532000']\n",
      " ['5' '프렌즈: 몬스터섬의비밀 ' '436753500']\n",
      " ['6' '라이온 킹' '507115500']\n",
      " ['7' '오싹한 연애' '344871000']\n",
      " ['8' '극장판 포켓몬스터 베스트 위시「비크티니와 백의 영웅 레시라무」' '167809500']\n",
      " ['9' '앨빈과 슈퍼밴드3' '137030000']\n",
      " ['10' '극장판 포켓몬스터 베스트 위시 「비크티니와 흑의 영웅 제크로무」' '125535500']] <class 'numpy.ndarray'>\n"
     ]
    }
   ],
   "source": [
    "import json\n",
    "import urllib\n",
    "\n",
    "movie_url     = 'http://kobis.or.kr/kobisopenapi/webservice/rest/boxoffice/searchDailyBoxOfficeList.json?key=f5eef3421c602c6cb7ea224104795888&targetDt=20120101'\n",
    "response_page = urllib.request.urlopen(movie_url)\n",
    "print('page - ')\n",
    "print(page)\n",
    "\n",
    "json_page = json.loads(response_page.read())\n",
    "print('json - ' , type(json_page))\n",
    "\n",
    "print()\n",
    "# print(json_page)\n",
    "\n",
    "data = json_page['boxOfficeResult']['dailyBoxOfficeList']\n",
    "# print('type - '   , type(data))\n",
    "# print('data - \\n' , data)\n",
    "# rank, movieNm , salesAmt 담는 데이터 프레임을 만든다면?\n",
    "\n",
    "rank_list  = []\n",
    "title_list = []\n",
    "sales_list = []\n",
    "for tmp_dict in data : \n",
    "    rank_list.append(tmp_dict['rank'])\n",
    "    title_list.append(tmp_dict['movieNm'])\n",
    "    sales_list.append(tmp_dict['salesAmt'])\n",
    "\n",
    "movie_data = {\n",
    "    'rank'  : rank_list  , \n",
    "    'title' : title_list ,\n",
    "    'amt'   : sales_list\n",
    "}\n",
    "\n",
    "movie_frm = pd.DataFrame(movie_data)\n",
    "frmInfo(movie_frm)\n",
    "\n",
    "# movie_frm = pd.DataFrame(data)\n",
    "# frmInfo(movie_frm[['rank' , 'movieNm' , 'salesAmt']])\n"
   ]
  },
  {
   "cell_type": "markdown",
   "id": "5315306b",
   "metadata": {},
   "source": [
    "#### booklist_json.json 파일로부터 데이터를 읽어서 들여서 데이터프레임을 만들어 보세요[실습]"
   ]
  },
  {
   "cell_type": "markdown",
   "id": "a73754d2",
   "metadata": {},
   "source": [
    "\n"
   ]
  },
  {
   "cell_type": "markdown",
   "id": "cb25f4ab",
   "metadata": {},
   "source": [
    "#### 다음 조건을 만족하는 임의의 데이터프레임을 만들어 보자[실습]\n",
    "\n",
    "- 열의 갯수와 행의 갯수가 각각 5개 이상이여야 한다.\n",
    "- 열에는 정수, 문자열, 실수, 날짜 데이터가 각각 1개 이상 포함되어야 한다."
   ]
  },
  {
   "cell_type": "code",
   "execution_count": null,
   "id": "788492eb",
   "metadata": {},
   "outputs": [],
   "source": []
  },
  {
   "cell_type": "code",
   "execution_count": null,
   "id": "65e77509",
   "metadata": {},
   "outputs": [],
   "source": []
  },
  {
   "cell_type": "code",
   "execution_count": null,
   "id": "da0ae464",
   "metadata": {},
   "outputs": [],
   "source": []
  },
  {
   "cell_type": "code",
   "execution_count": null,
   "id": "c448c9b7",
   "metadata": {},
   "outputs": [],
   "source": []
  }
 ],
 "metadata": {
  "kernelspec": {
   "display_name": "Python 3",
   "language": "python",
   "name": "python3"
  },
  "language_info": {
   "codemirror_mode": {
    "name": "ipython",
    "version": 3
   },
   "file_extension": ".py",
   "mimetype": "text/x-python",
   "name": "python",
   "nbconvert_exporter": "python",
   "pygments_lexer": "ipython3",
   "version": "3.8.8"
  }
 },
 "nbformat": 4,
 "nbformat_minor": 5
}

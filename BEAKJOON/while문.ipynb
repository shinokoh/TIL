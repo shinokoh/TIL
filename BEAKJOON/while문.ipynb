{
 "cells": [
  {
   "cell_type": "code",
   "execution_count": 2,
   "id": "a48ac5f1",
   "metadata": {},
   "outputs": [
    {
     "name": "stdout",
     "output_type": "stream",
     "text": [
      "나무를 1번 찍었습니다\n",
      "나무를 2번 찍었습니다\n",
      "나무를 3번 찍었습니다\n",
      "나무를 4번 찍었습니다\n",
      "나무를 5번 찍었습니다\n",
      "나무를 6번 찍었습니다\n",
      "나무를 7번 찍었습니다\n",
      "나무를 8번 찍었습니다\n",
      "나무를 9번 찍었습니다\n",
      "나무를 10번 찍었습니다\n",
      "나무 넘어갑니다\n"
     ]
    }
   ],
   "source": [
    "# while문 기본\n",
    "\n",
    "treeHit = 0 \n",
    "\n",
    "while treeHit < 10:\n",
    "    treeHit = treeHit + 1\n",
    "    print('나무를 %s번 찍었습니다'% treeHit)\n",
    "    if treeHit == 10 :\n",
    "        print('나무 넘어갑니다')"
   ]
  },
  {
   "cell_type": "code",
   "execution_count": 4,
   "id": "6aac1560",
   "metadata": {},
   "outputs": [
    {
     "name": "stdout",
     "output_type": "stream",
     "text": [
      "커피제공\n",
      "커피제공\n",
      "커피제공\n",
      "커피제공\n",
      "커피제공\n",
      "커피제공\n",
      "커피제공\n",
      "커피제공\n",
      "커피제공\n",
      "커피제공\n",
      "sold out\n"
     ]
    }
   ],
   "source": [
    "coffee = 10 \n",
    "money = 300\n",
    "while money:\n",
    "    print('커피제공')\n",
    "    coffee = coffee-1\n",
    "    if coffee == 0:\n",
    "        print('sold out')\n",
    "        break"
   ]
  },
  {
   "cell_type": "code",
   "execution_count": 8,
   "id": "e03d9a6f",
   "metadata": {},
   "outputs": [
    {
     "name": "stdout",
     "output_type": "stream",
     "text": [
      "돈을 넣어주세요: 300\n",
      "커피제공\n",
      "돈을 넣어주세요: 200\n",
      "돈이 부족합니다.\n",
      "남은 커피의 양은 1개 입니다\n",
      "돈을 넣어주세요: 1000\n",
      "거스름돈: 700\n",
      "돈을 넣어주세요: 300\n",
      "커피제공\n",
      "sold out\n"
     ]
    }
   ],
   "source": [
    "coffee = 2\n",
    "while True:\n",
    "    money = int(input('돈을 넣어주세요: '))\n",
    "    if money == 300 :\n",
    "        print(\"커피제공\")\n",
    "        coffee = coffee -1\n",
    "    elif money > 300 :\n",
    "        print(\"거스름돈: %s\"%(money-300))\n",
    "        cooffee = coffee -1 \n",
    "    else :\n",
    "        print('돈이 부족합니다.')\n",
    "        print('남은 커피의 양은 %s개 입니다'% coffee)\n",
    "    if coffee == 0:\n",
    "        print('sold out')\n",
    "        break"
   ]
  },
  {
   "cell_type": "code",
   "execution_count": 9,
   "id": "742961ac",
   "metadata": {},
   "outputs": [
    {
     "name": "stdout",
     "output_type": "stream",
     "text": [
      "1 1\n",
      "2\n",
      "2 3\n",
      "5\n",
      "3 4\n",
      "7\n",
      "9 8\n",
      "17\n",
      "5 2\n",
      "7\n",
      "0 0\n"
     ]
    }
   ],
   "source": [
    "# 0 0 을 입력하면 덧셈을 중지하는 프로그램\n",
    "\n",
    "while True:\n",
    "    a,b = map(int,input().split())\n",
    "    if a>0 and b>0 :\n",
    "        print(a + b)\n",
    "    else :\n",
    "        break"
   ]
  },
  {
   "cell_type": "code",
   "execution_count": null,
   "id": "547234a6",
   "metadata": {},
   "outputs": [],
   "source": [
    "# 테스트 케이스가 주어지지 않는경우 덧셈\n",
    "\n",
    "while True:\n",
    "    try :\n",
    "        a,b = map(int, input().split)\n",
    "        print(a+b)\n",
    "    except :\n",
    "        exit()"
   ]
  },
  {
   "cell_type": "code",
   "execution_count": 8,
   "id": "70a92d68",
   "metadata": {},
   "outputs": [
    {
     "name": "stdout",
     "output_type": "stream",
     "text": [
      "24\n",
      "6\n",
      "46\n"
     ]
    }
   ],
   "source": [
    "N = int(input()) #24\n",
    "num = N \n",
    "cnt = 0\n",
    "\n",
    "sum_num = (num // 10) + (num % 10) # 2(몫) + 4(나머지) = 6\n",
    "print(sum_num)\n",
    "new_num = ((N % 10)*10) + sum_num #46\n",
    "print(new_num)\n",
    "cnt += 1 # 사이클 수 "
   ]
  },
  {
   "cell_type": "code",
   "execution_count": 15,
   "id": "6f6cd4ac",
   "metadata": {},
   "outputs": [
    {
     "name": "stdout",
     "output_type": "stream",
     "text": [
      "26\n",
      "4\n"
     ]
    }
   ],
   "source": [
    "#  더하기 사이클 구하기\n",
    "\n",
    "N = int(input())\n",
    "num = N\n",
    "cnt = 0\n",
    "\n",
    "while 1:\n",
    "    sum_num = (num // 10) + (num % 10)\n",
    "    new_num = ((num % 10)*10) + (sum_num % 10)\n",
    "    cnt += 1\n",
    "    if new_num == N:\n",
    "        break\n",
    "    num = new_num\n",
    "print(cnt)"
   ]
  },
  {
   "cell_type": "code",
   "execution_count": null,
   "id": "ea58c422",
   "metadata": {},
   "outputs": [],
   "source": []
  }
 ],
 "metadata": {
  "kernelspec": {
   "display_name": "Python 3",
   "language": "python",
   "name": "python3"
  }
 },
 "nbformat": 4,
 "nbformat_minor": 5
}

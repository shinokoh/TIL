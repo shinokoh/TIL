{
 "cells": [
  {
   "cell_type": "code",
   "execution_count": 19,
   "id": "06a29192",
   "metadata": {},
   "outputs": [
    {
     "name": "stdout",
     "output_type": "stream",
     "text": [
      "1 1\n",
      "==\n"
     ]
    }
   ],
   "source": [
    "# 두 수 비교하기\n",
    "A,B = map(int, input().split())\n",
    "\n",
    "if A > B :\n",
    "    print('>')\n",
    "elif A < B :\n",
    "    print('<')\n",
    "else :\n",
    "    print('==')"
   ]
  },
  {
   "cell_type": "code",
   "execution_count": null,
   "id": "d45f255d",
   "metadata": {},
   "outputs": [],
   "source": [
    "# 시험성적 \n",
    "A = int(input())\n",
    "\n",
    "if A >= 90 :\n",
    "    print('A')\n",
    "elif A >= 80 :\n",
    "    print('B')\n",
    "elif A >= 70 :\n",
    "    print('C')\n",
    "elif A >= 60 :\n",
    "    print('D')\n",
    "else :\n",
    "    print('F')"
   ]
  },
  {
   "cell_type": "code",
   "execution_count": 1,
   "id": "a45a1f87",
   "metadata": {},
   "outputs": [
    {
     "name": "stdout",
     "output_type": "stream",
     "text": [
      "2012\n",
      "평년입니다\n"
     ]
    }
   ],
   "source": [
    "# 윤년판별\n",
    "year = int(input())\n",
    "\n",
    "if year%4 == 0 & year%100 != 0 or year%400 == 0 : \n",
    "    print(\"윤년입니다\")\n",
    "else :\n",
    "    print(\"평년입니다\")"
   ]
  },
  {
   "cell_type": "code",
   "execution_count": 6,
   "id": "54096a4d",
   "metadata": {},
   "outputs": [
    {
     "name": "stdout",
     "output_type": "stream",
     "text": [
      "12\n",
      "5\n",
      "1\n"
     ]
    }
   ],
   "source": [
    "# 사분면\n",
    "x = int(input())\n",
    "y = int(input())\n",
    "if x > 0 and y > 0 :\n",
    "    print(1)\n",
    "elif x < 0 and y > 0 :\n",
    "    print(2)\n",
    "elif x < 0 and y < 0 :\n",
    "    print(3)\n",
    "else :\n",
    "    print(4)"
   ]
  },
  {
   "cell_type": "code",
   "execution_count": 9,
   "id": "a469ed26",
   "metadata": {},
   "outputs": [
    {
     "name": "stdout",
     "output_type": "stream",
     "text": [
      "11 11\n",
      "10 26\n"
     ]
    }
   ],
   "source": [
    "# 알람시계 \n",
    "H,M = map(int, input().split(\" \"))\n",
    "if M > 44 : \n",
    "    print(H,M-45)\n",
    "elif M < 45 and H == 0 :\n",
    "    print(23,M +15)\n",
    "else :\n",
    "    print(H-1, M+15) # M이 45미만인 경우 M+15 규칙성"
   ]
  },
  {
   "cell_type": "code",
   "execution_count": null,
   "id": "81fae97f",
   "metadata": {},
   "outputs": [],
   "source": []
  }
 ],
 "metadata": {
  "kernelspec": {
   "display_name": "Python 3",
   "language": "python",
   "name": "python3"
  },
  "language_info": {
   "codemirror_mode": {
    "name": "ipython",
    "version": 3
   },
   "file_extension": ".py",
   "mimetype": "text/x-python",
   "name": "python",
   "nbconvert_exporter": "python",
   "pygments_lexer": "ipython3",
   "version": "3.8.8"
  }
 },
 "nbformat": 4,
 "nbformat_minor": 5
}

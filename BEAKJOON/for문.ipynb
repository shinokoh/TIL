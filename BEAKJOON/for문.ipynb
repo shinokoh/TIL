{
 "cells": [
  {
   "cell_type": "code",
   "execution_count": 11,
   "id": "8f62bdd8",
   "metadata": {},
   "outputs": [
    {
     "name": "stdout",
     "output_type": "stream",
     "text": [
      "2\n",
      "2 * 1 = 2\n",
      "2 * 2 = 4\n",
      "2 * 3 = 6\n",
      "2 * 4 = 8\n",
      "2 * 5 = 10\n",
      "2 * 6 = 12\n",
      "2 * 7 = 14\n",
      "2 * 8 = 16\n",
      "2 * 9 = 18\n"
     ]
    }
   ],
   "source": [
    "#구구단 \n",
    "N = int(input())\n",
    "\n",
    "for i in range(1,10) :\n",
    "    print(N,\"*\",i,\"=\",N*i)"
   ]
  },
  {
   "cell_type": "code",
   "execution_count": 13,
   "id": "fc74092f",
   "metadata": {},
   "outputs": [
    {
     "name": "stdout",
     "output_type": "stream",
     "text": [
      "5\n",
      "1 2\n",
      "3\n",
      "3 4\n",
      "7\n",
      "1 1\n",
      "2\n",
      "3 4\n",
      "7\n",
      "5 6\n",
      "11\n"
     ]
    }
   ],
   "source": [
    "# 테스트케이스 수만큼 a+b 반복 출력\n",
    "t = int(input())\n",
    "\n",
    "for i in range(t):\n",
    "    A,B = map(int,input().split())\n",
    "    print(A+B)\n"
   ]
  },
  {
   "cell_type": "code",
   "execution_count": 26,
   "id": "4bcb655c",
   "metadata": {},
   "outputs": [
    {
     "name": "stdout",
     "output_type": "stream",
     "text": [
      "3\n",
      "6\n"
     ]
    }
   ],
   "source": [
    "# 입력한 값만큼 더하기 \n",
    "n=int(input())\n",
    "sum = 0\n",
    "\n",
    "for i in range(1,n+1):\n",
    "    sum += i\n",
    "print(sum)"
   ]
  },
  {
   "cell_type": "code",
   "execution_count": 14,
   "id": "e9a9483f",
   "metadata": {},
   "outputs": [
    {
     "name": "stdout",
     "output_type": "stream",
     "text": [
      "5\n",
      "1\n",
      "2\n",
      "3\n",
      "4\n",
      "5\n"
     ]
    }
   ],
   "source": [
    "# N찍기\n",
    "N = int(input())\n",
    "\n",
    "for i in range(1, N + 1):\n",
    "    print(i)"
   ]
  },
  {
   "cell_type": "code",
   "execution_count": 23,
   "id": "6e373a9a",
   "metadata": {},
   "outputs": [
    {
     "name": "stdout",
     "output_type": "stream",
     "text": [
      "5\n",
      "5\n",
      "4\n",
      "3\n",
      "2\n",
      "1\n"
     ]
    }
   ],
   "source": [
    "# 역순으로 N찍기\n",
    "N = int(input())\n",
    "\n",
    "for i in range(N , 0 , -1):\n",
    "    print(i)"
   ]
  },
  {
   "cell_type": "code",
   "execution_count": 24,
   "id": "c017c535",
   "metadata": {},
   "outputs": [
    {
     "name": "stdout",
     "output_type": "stream",
     "text": [
      "5\n",
      "1 1\n",
      "Case #1: 2\n",
      "1 2\n",
      "Case #2: 3\n",
      "1 5\n",
      "Case #3: 6\n",
      "5 6\n",
      "Case #4: 11\n",
      "6 3\n",
      "Case #5: 9\n"
     ]
    }
   ],
   "source": [
    "cases = int(input())\n",
    "\n",
    "for i in range(cases):\n",
    "    a,b = map(int, input().split())\n",
    "    anb = a+b\n",
    "    print(\"Case #%s: %s\"%(i+1, anb) )"
   ]
  },
  {
   "cell_type": "code",
   "execution_count": 26,
   "id": "6d6c5949",
   "metadata": {},
   "outputs": [
    {
     "name": "stdout",
     "output_type": "stream",
     "text": [
      "2\n",
      "1 2\n",
      "Case #1: 1 + 2 = 3\n",
      "3 4\n",
      "Case #2: 3 + 4 = 7\n"
     ]
    }
   ],
   "source": [
    "c = int(input())\n",
    "\n",
    "for i in range(c):\n",
    "    a,b = map(int,input().split())\n",
    "    anb = a + b\n",
    "    print(\"Case #{}: {} + {} = {}\".format(i+1 , a , b, anb))"
   ]
  },
  {
   "cell_type": "code",
   "execution_count": 32,
   "id": "cb717d38",
   "metadata": {},
   "outputs": [
    {
     "name": "stdout",
     "output_type": "stream",
     "text": [
      "5\n",
      "*\n",
      "**\n",
      "***\n",
      "****\n",
      "*****\n"
     ]
    }
   ],
   "source": [
    "# 별찍기-1\n",
    "\n",
    "n = int(input())\n",
    "\n",
    "for i in range(1, n+1):\n",
    "    print(\"*\" * i)"
   ]
  },
  {
   "cell_type": "code",
   "execution_count": 47,
   "id": "9f5b6fb2",
   "metadata": {},
   "outputs": [
    {
     "name": "stdout",
     "output_type": "stream",
     "text": [
      "5\n",
      "    *\n",
      "   **\n",
      "  ***\n",
      " ****\n",
      "*****\n"
     ]
    }
   ],
   "source": [
    "# 별찍기-2\n",
    "\n",
    "n = int(input())\n",
    "\n",
    "for i in range(1, n+1):\n",
    "    s = \"*\" * i\n",
    "    print(s.rjust(n))"
   ]
  },
  {
   "cell_type": "code",
   "execution_count": 74,
   "id": "d7654a27",
   "metadata": {},
   "outputs": [
    {
     "name": "stdout",
     "output_type": "stream",
     "text": [
      "10 5\n",
      "0 1 2 3 4 "
     ]
    }
   ],
   "source": [
    "# X보다 작은 수 추출__틀림\n",
    "\n",
    "N, X = map(int,input().split())\n",
    "num = range(N+1) # 수열 생성 \n",
    "\n",
    "for i in range(N):\n",
    "    if num[i] < X :\n",
    "        print(num[i], end=' ') # 공백으로 구분해 출력"
   ]
  },
  {
   "cell_type": "code",
   "execution_count": 75,
   "id": "25b4a7e6",
   "metadata": {},
   "outputs": [
    {
     "name": "stdout",
     "output_type": "stream",
     "text": [
      "10 5\n",
      "1 10 4 9 2 3 8 5 7 6\n",
      "1 4 2 3 "
     ]
    }
   ],
   "source": [
    "# X보다 작은 수 추출\n",
    "\n",
    "N, X = map(int,input().split())\n",
    "num = list(map(int, input().split())) # 랜덤으로 수열 생성하는게 아니라 입력값\n",
    "\n",
    "for i in range(N):\n",
    "    if num[i] < X :\n",
    "        print(num[i], end=' ') # 공백으로 구분해 출력"
   ]
  },
  {
   "cell_type": "code",
   "execution_count": null,
   "id": "36f5f091",
   "metadata": {},
   "outputs": [],
   "source": []
  }
 ],
 "metadata": {
  "kernelspec": {
   "display_name": "Python 3",
   "language": "python",
   "name": "python3"
  },
  "language_info": {
   "codemirror_mode": {
    "name": "ipython",
    "version": 3
   },
   "file_extension": ".py",
   "mimetype": "text/x-python",
   "name": "python",
   "nbconvert_exporter": "python",
   "pygments_lexer": "ipython3",
   "version": "3.8.8"
  }
 },
 "nbformat": 4,
 "nbformat_minor": 5
}

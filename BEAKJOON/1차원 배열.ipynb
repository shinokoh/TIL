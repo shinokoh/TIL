{
 "cells": [
  {
   "cell_type": "code",
   "execution_count": 2,
   "id": "58a9aca6",
   "metadata": {},
   "outputs": [
    {
     "name": "stdout",
     "output_type": "stream",
     "text": [
      "5\n",
      "20 10 35 30 7\n",
      "7 35 "
     ]
    }
   ],
   "source": [
    "# 최대값 최소값 구하기\n",
    "\n",
    "N = int(input())\n",
    "num_list = list(map(int, input().split()))\n",
    "\n",
    "print(min(num_list), max(num_list), end =\" \")"
   ]
  },
  {
   "cell_type": "code",
   "execution_count": 8,
   "id": "f62b0c2e",
   "metadata": {},
   "outputs": [
    {
     "name": "stdout",
     "output_type": "stream",
     "text": [
      "1\n",
      "2\n",
      "3\n",
      "4\n",
      "5\n",
      "6\n",
      "7\n",
      "8\n",
      "9\n",
      "9\n",
      "9\n"
     ]
    }
   ],
   "source": [
    "# 2562 최댓값\n",
    "\n",
    "n_list = []\n",
    "for i in range(9):\n",
    "    n = int(input())\n",
    "    n_list.append(n)\n",
    "    \n",
    "print(max(n_list))\n",
    "print(n_list.index(max(n_list))+1)"
   ]
  },
  {
   "cell_type": "code",
   "execution_count": 13,
   "id": "53fc1320",
   "metadata": {},
   "outputs": [
    {
     "name": "stdout",
     "output_type": "stream",
     "text": [
      "1\n",
      "5\n",
      "6\n",
      "8\n",
      "24\n",
      "94\n",
      "1\n",
      "20\n",
      "2\n",
      "94\n",
      "6\n"
     ]
    }
   ],
   "source": [
    "# comprehension\n",
    "\n",
    "\n",
    "n = [int(input()) for i in range(9)]\n",
    "\n",
    "print(max(n))\n",
    "print(n.index(max(n))+1)"
   ]
  },
  {
   "cell_type": "code",
   "execution_count": 21,
   "id": "79c6c646",
   "metadata": {},
   "outputs": [
    {
     "name": "stdout",
     "output_type": "stream",
     "text": [
      "150\n",
      "266\n",
      "427\n",
      "3\n",
      "1\n",
      "0\n",
      "2\n",
      "0\n",
      "0\n",
      "0\n",
      "2\n",
      "0\n",
      "0\n"
     ]
    }
   ],
   "source": [
    "A = int(input())\n",
    "B = int(input())\n",
    "C = int(input())\n",
    "\n",
    "X = A*B*C\n",
    "X_list = list(str(X))\n",
    "\n",
    "for i in range(10):\n",
    "    print(X_list.count(str(i))) #리스트에서 str(i) 를 찾아서 count "
   ]
  },
  {
   "cell_type": "code",
   "execution_count": 33,
   "id": "0a53b3ea",
   "metadata": {},
   "outputs": [
    {
     "name": "stdout",
     "output_type": "stream",
     "text": [
      "42\n",
      "84\n",
      "252\n",
      "420\n",
      "840\n",
      "126\n",
      "42\n",
      "84\n",
      "420\n",
      "126\n",
      "1\n"
     ]
    }
   ],
   "source": [
    "# 3052 나머지 중 서로 다른 값이 몇개 있는지 출력\n",
    "\n",
    "# 10개의 수를 입력 받는다\n",
    "A_list = []\n",
    "B = []\n",
    "\n",
    "for i in range(10):\n",
    "    A = int(input())\n",
    "    A_list.append(A)\n",
    "\n",
    "    # 각 리스트의 값을 42로 나눠 리스트에 담는다\n",
    "    B.append(A_list[i] % 42)\n",
    "    \n",
    "    # B리스트에 중복을 없애주고 리스트 값을 count 한다\n",
    "    B = set(B)\n",
    "    B = list(B)\n",
    "# 중복을 제거하고 남은 리스트 요소 갯수    \n",
    "print(len(B))"
   ]
  },
  {
   "cell_type": "code",
   "execution_count": 34,
   "id": "494b0667",
   "metadata": {},
   "outputs": [
    {
     "name": "stdout",
     "output_type": "stream",
     "text": [
      "42\n",
      "84\n",
      "252\n",
      "420\n",
      "840\n",
      "126\n",
      "42\n",
      "84\n",
      "420\n",
      "126\n",
      "1\n"
     ]
    }
   ],
   "source": [
    "# 3052 나머지\n",
    "\n",
    "A = []\n",
    "\n",
    "for i in range(10):\n",
    "    A = int(input())\n",
    "    B.append(A % 42)\n",
    "B = set(B) # 중복을 허용하지 않는 특징으로 중복을 제거하기 위한 filter 역할로 사용\n",
    "print(len(B))"
   ]
  },
  {
   "cell_type": "code",
   "execution_count": 24,
   "id": "da83d625",
   "metadata": {},
   "outputs": [
    {
     "name": "stdout",
     "output_type": "stream",
     "text": [
      "3\n",
      "40 80 60\n",
      "75.00\n"
     ]
    }
   ],
   "source": [
    "# 1546 평균\n",
    "\n",
    "N = int(input())\n",
    "score_list = list(map(int, input().split()))\n",
    "M = max(score_list)\n",
    "new_scores = []\n",
    "\n",
    "for score in score_list :\n",
    "    new_scores.append(score/M*100)\n",
    "print('%.2f' %(sum(new_scores)/N))"
   ]
  },
  {
   "cell_type": "code",
   "execution_count": 30,
   "id": "368e5f8f",
   "metadata": {},
   "outputs": [
    {
     "name": "stdout",
     "output_type": "stream",
     "text": [
      "2\n",
      "OOXXOXXOOO\n",
      "10\n",
      "OOXXOOXXOO\n",
      "9\n"
     ]
    }
   ],
   "source": [
    "# 8958 OX 퀴즈\n",
    "\n",
    "N = int(input())\n",
    "\n",
    "for i in range(N):\n",
    "    A = input()\n",
    "    score = 0\n",
    "    sum_score = 0\n",
    "    for j in A:\n",
    "        if j == 'O':\n",
    "            score += 1 \n",
    "        else :\n",
    "            score = 0 \n",
    "        sum_score += score   \n",
    "    print(sum_score)"
   ]
  },
  {
   "cell_type": "code",
   "execution_count": 38,
   "id": "30cba317",
   "metadata": {},
   "outputs": [
    {
     "name": "stdout",
     "output_type": "stream",
     "text": [
      "1\n",
      "5 50 50 70 80 100\n",
      "40.000%\n"
     ]
    }
   ],
   "source": [
    "# 4344 평균은 넘겠지\n",
    "\n",
    "C = int(input())\n",
    "\n",
    "for i in range(C):\n",
    "    N_score = list(map(int, input().split()))\n",
    "    N = N_score[0]\n",
    "    score = N_score[1:]\n",
    "    avg = sum(score)/N\n",
    "    cnt = 0\n",
    "    for j in score:\n",
    "        if j > avg :\n",
    "            cnt += 1\n",
    "        rate = cnt/N*100\n",
    "    print('{:.3f}%'.format(rate))"
   ]
  },
  {
   "cell_type": "code",
   "execution_count": null,
   "id": "0c35c26f",
   "metadata": {},
   "outputs": [],
   "source": []
  }
 ],
 "metadata": {
  "kernelspec": {
   "display_name": "Python 3",
   "language": "python",
   "name": "python3"
  },
  "language_info": {
   "codemirror_mode": {
    "name": "ipython",
    "version": 3
   },
   "file_extension": ".py",
   "mimetype": "text/x-python",
   "name": "python",
   "nbconvert_exporter": "python",
   "pygments_lexer": "ipython3",
   "version": "3.8.8"
  }
 },
 "nbformat": 4,
 "nbformat_minor": 5
}

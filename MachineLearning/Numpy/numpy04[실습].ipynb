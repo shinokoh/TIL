{
 "cells": [
  {
   "cell_type": "code",
   "execution_count": 34,
   "id": "ec8e364c",
   "metadata": {},
   "outputs": [],
   "source": [
    "import numpy as np\n",
    "\n",
    "# 배열 정보를 확인하기 위한 함수\n",
    "def aryinfo(ary):\n",
    "    print('type       : {}'.format(type(ary)))\n",
    "    print('shape      : {}'.format(ary.shape))\n",
    "    print('dimension  : {}'.format(ary.ndim))\n",
    "    print('dtype      : {}'.format(ary.dtype))\n",
    "    print('Array Data : \\n', ary)"
   ]
  },
  {
   "cell_type": "code",
   "execution_count": 35,
   "id": "3c33a204",
   "metadata": {
    "scrolled": true
   },
   "outputs": [
    {
     "name": "stdout",
     "output_type": "stream",
     "text": [
      "데이터 5행만 출력\n"
     ]
    },
    {
     "data": {
      "text/plain": [
       "array([[        1,      1193,         5, 978300760],\n",
       "       [        1,       661,         3, 978302109],\n",
       "       [        1,       914,         3, 978301968],\n",
       "       [        1,      3408,         4, 978300275],\n",
       "       [        1,      2355,         5, 978824291]], dtype=int64)"
      ]
     },
     "execution_count": 35,
     "metadata": {},
     "output_type": "execute_result"
    }
   ],
   "source": [
    "# 데이터 로드\n",
    "data = np.loadtxt('./data/ratings.dat' , delimiter = \"::\", dtype=np.int64)\n",
    "\n",
    "print(\"데이터 5행만 출력\")\n",
    "data[:5 ,:]"
   ]
  },
  {
   "cell_type": "code",
   "execution_count": 36,
   "id": "68cefbb9",
   "metadata": {},
   "outputs": [
    {
     "name": "stdout",
     "output_type": "stream",
     "text": [
      "데이터 형태 확인\n",
      "type       : <class 'numpy.ndarray'>\n",
      "shape      : (1000209, 4)\n",
      "dimension  : 2\n",
      "dtype      : int64\n",
      "Array Data : \n",
      " [[        1      1193         5 978300760]\n",
      " [        1       661         3 978302109]\n",
      " [        1       914         3 978301968]\n",
      " ...\n",
      " [     6040       562         5 956704746]\n",
      " [     6040      1096         4 956715648]\n",
      " [     6040      1097         4 956715569]]\n"
     ]
    }
   ],
   "source": [
    "print(\"데이터 형태 확인\")\n",
    "aryinfo(data)"
   ]
  },
  {
   "cell_type": "code",
   "execution_count": 37,
   "id": "299865ff",
   "metadata": {},
   "outputs": [
    {
     "name": "stdout",
     "output_type": "stream",
     "text": [
      "전체 평균 평점: 3.581564453029317\n"
     ]
    }
   ],
   "source": [
    "# 전체 평균 평점 계산\n",
    "\n",
    "MEAN = np.mean(data[:,2])\n",
    "print('전체 평균 평점:',MEAN)"
   ]
  },
  {
   "cell_type": "code",
   "execution_count": 38,
   "id": "9c38d07e",
   "metadata": {},
   "outputs": [
    {
     "name": "stdout",
     "output_type": "stream",
     "text": [
      "[   1    2    3 ... 6038 6039 6040]\n"
     ]
    }
   ],
   "source": [
    "# 사용자 아이디 수집\n",
    "user_ids = np.unique(data[:,0])\n",
    "print(user_ids)"
   ]
  },
  {
   "cell_type": "code",
   "execution_count": 49,
   "id": "f60f362e",
   "metadata": {},
   "outputs": [
    {
     "name": "stdout",
     "output_type": "stream",
     "text": [
      "사용자 아이디별 평점 평균 확인\n",
      "\n"
     ]
    },
    {
     "data": {
      "text/plain": [
       "[[1, 4.188679245283019],\n",
       " [2, 3.7131782945736433],\n",
       " [3, 3.9019607843137254],\n",
       " [4, 4.190476190476191],\n",
       " [5, 3.1464646464646466]]"
      ]
     },
     "execution_count": 49,
     "metadata": {},
     "output_type": "execute_result"
    }
   ],
   "source": [
    "# 사용자별 평점 확인을 위한 코드 구문 작성\n",
    "print(\"사용자 아이디별 평점 평균 확인\")\n",
    "print()\n",
    "mean_by_user = [] # 사용자별 평점을 담을 리스트 생성\n",
    "for user_id in user_ids :\n",
    "    data_for_user = data[ data[:,0] == user_id, : ] # 같은 user_id를 기준으로 하는 array\n",
    "    mean_for_user = data_for_user[:,2].mean() # 2열(평점)의 평균값만 추출해 저장\n",
    "    mean_by_user.append([user_id, mean_for_user ])\n",
    "\n",
    "mean_by_user[:5]"
   ]
  },
  {
   "cell_type": "code",
   "execution_count": 79,
   "id": "69b8711f",
   "metadata": {},
   "outputs": [
    {
     "name": "stdout",
     "output_type": "stream",
     "text": [
      "list를  numpy 배열로 변환\n",
      "type       : <class 'numpy.ndarray'>\n",
      "shape      : (6040, 2)\n",
      "dimension  : 2\n",
      "dtype      : float64\n",
      "Array Data : \n",
      " [[1.00000000e+00 4.18867925e+00]\n",
      " [2.00000000e+00 3.71317829e+00]\n",
      " [3.00000000e+00 3.90196078e+00]\n",
      " ...\n",
      " [6.03800000e+03 3.80000000e+00]\n",
      " [6.03900000e+03 3.87804878e+00]\n",
      " [6.04000000e+03 3.57771261e+00]]\n"
     ]
    }
   ],
   "source": [
    "# 데이터관리에 유용하도록 리스트를 array로 변환시켜준다.\n",
    "print(\"list를  numpy 배열로 변환\")\n",
    "mean_by_user = np.array(mean_by_user)\n",
    "aryinfo(mean_by_user)"
   ]
  },
  {
   "cell_type": "code",
   "execution_count": 88,
   "id": "7b6e1ddb",
   "metadata": {},
   "outputs": [
    {
     "name": "stdout",
     "output_type": "stream",
     "text": [
      "각 사용자 별 평균 평점이 4점 이상인 사용자 구하기\n"
     ]
    },
    {
     "data": {
      "text/plain": [
       "array([[ 1.        ,  4.18867925],\n",
       "       [ 4.        ,  4.19047619],\n",
       "       [ 7.        ,  4.32258065],\n",
       "       [10.        ,  4.11471322],\n",
       "       [17.        ,  4.07582938]])"
      ]
     },
     "execution_count": 88,
     "metadata": {},
     "output_type": "execute_result"
    }
   ],
   "source": [
    "print(\"각 사용자 별 평균 평점이 4점 이상인 사용자 구하기\")\n",
    "\n",
    "mean_over_four= mean_by_user[mean_by_user[:,1]>= 4]\n",
    "mean_over_four[:5]"
   ]
  },
  {
   "cell_type": "code",
   "execution_count": 90,
   "id": "ea20c0b0",
   "metadata": {},
   "outputs": [],
   "source": [
    "# 계산 결과를 csv 파일로 저장하기\n",
    "# np.savetxt(\"파일명\",저장할 array 변수명, 파이썬포맷, 구분자)\n",
    "np.savetxt(\"mean_over_four.csv\", mean_over_four, fmt ='%.3f',delimiter =\",\")"
   ]
  }
 ],
 "metadata": {
  "kernelspec": {
   "display_name": "Python 3",
   "language": "python",
   "name": "python3"
  },
  "language_info": {
   "codemirror_mode": {
    "name": "ipython",
    "version": 3
   },
   "file_extension": ".py",
   "mimetype": "text/x-python",
   "name": "python",
   "nbconvert_exporter": "python",
   "pygments_lexer": "ipython3",
   "version": "3.8.8"
  }
 },
 "nbformat": 4,
 "nbformat_minor": 5
}

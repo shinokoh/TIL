{
 "cells": [
  {
   "cell_type": "markdown",
   "id": "834aa6ec",
   "metadata": {},
   "source": [
    "# 01. Machine Learning_붓꽃 품종 예측\n",
    "\n",
    "features\n",
    "- 꽃잎 길이\n",
    "- 꽃잎 너비\n",
    "- 꽃받침 길이\n",
    "- 꽃받침 너비\n",
    "\n",
    "labels\n",
    "- 품종\n",
    "\n",
    "feature를 기반으로 꽃의 품종(label) 예측\n",
    "- 다양한 피처(독립변수)와 분류 결정값(종속변수) 데이터로 모델을 학습하고, 별도의 테스트 데이터 세트에서 미지의 레이블을 예측합니다. "
   ]
  },
  {
   "cell_type": "code",
   "execution_count": 2,
   "id": "1b69f68c",
   "metadata": {},
   "outputs": [],
   "source": [
    "from sklearn.datasets import load_iris # 데이터 로드\n",
    "from sklearn.tree import DecisionTreeClassifier # 머신러닝 알고리즘: 의사결정트리\n",
    "from sklearn.model_selection import train_test_split # 학습 및 테스트 데이터로 분리하는 함수"
   ]
  },
  {
   "cell_type": "code",
   "execution_count": 4,
   "id": "583682cd",
   "metadata": {},
   "outputs": [
    {
     "name": "stdout",
     "output_type": "stream",
     "text": [
      "iris taget 값 : [0 0 0 0 0 0 0 0 0 0 0 0 0 0 0 0 0 0 0 0 0 0 0 0 0 0 0 0 0 0 0 0 0 0 0 0 0\n",
      " 0 0 0 0 0 0 0 0 0 0 0 0 0 1 1 1 1 1 1 1 1 1 1 1 1 1 1 1 1 1 1 1 1 1 1 1 1\n",
      " 1 1 1 1 1 1 1 1 1 1 1 1 1 1 1 1 1 1 1 1 1 1 1 1 1 1 2 2 2 2 2 2 2 2 2 2 2\n",
      " 2 2 2 2 2 2 2 2 2 2 2 2 2 2 2 2 2 2 2 2 2 2 2 2 2 2 2 2 2 2 2 2 2 2 2 2 2\n",
      " 2 2]\n",
      "iris target 명: ['setosa' 'versicolor' 'virginica']\n"
     ]
    },
    {
     "data": {
      "text/html": [
       "<div>\n",
       "<style scoped>\n",
       "    .dataframe tbody tr th:only-of-type {\n",
       "        vertical-align: middle;\n",
       "    }\n",
       "\n",
       "    .dataframe tbody tr th {\n",
       "        vertical-align: top;\n",
       "    }\n",
       "\n",
       "    .dataframe thead th {\n",
       "        text-align: right;\n",
       "    }\n",
       "</style>\n",
       "<table border=\"1\" class=\"dataframe\">\n",
       "  <thead>\n",
       "    <tr style=\"text-align: right;\">\n",
       "      <th></th>\n",
       "      <th>sepal length (cm)</th>\n",
       "      <th>sepal width (cm)</th>\n",
       "      <th>petal length (cm)</th>\n",
       "      <th>petal width (cm)</th>\n",
       "      <th>label</th>\n",
       "    </tr>\n",
       "  </thead>\n",
       "  <tbody>\n",
       "    <tr>\n",
       "      <th>0</th>\n",
       "      <td>5.1</td>\n",
       "      <td>3.5</td>\n",
       "      <td>1.4</td>\n",
       "      <td>0.2</td>\n",
       "      <td>0</td>\n",
       "    </tr>\n",
       "    <tr>\n",
       "      <th>1</th>\n",
       "      <td>4.9</td>\n",
       "      <td>3.0</td>\n",
       "      <td>1.4</td>\n",
       "      <td>0.2</td>\n",
       "      <td>0</td>\n",
       "    </tr>\n",
       "    <tr>\n",
       "      <th>2</th>\n",
       "      <td>4.7</td>\n",
       "      <td>3.2</td>\n",
       "      <td>1.3</td>\n",
       "      <td>0.2</td>\n",
       "      <td>0</td>\n",
       "    </tr>\n",
       "  </tbody>\n",
       "</table>\n",
       "</div>"
      ],
      "text/plain": [
       "   sepal length (cm)  sepal width (cm)  petal length (cm)  petal width (cm)  \\\n",
       "0                5.1               3.5                1.4               0.2   \n",
       "1                4.9               3.0                1.4               0.2   \n",
       "2                4.7               3.2                1.3               0.2   \n",
       "\n",
       "   label  \n",
       "0      0  \n",
       "1      0  \n",
       "2      0  "
      ]
     },
     "execution_count": 4,
     "metadata": {},
     "output_type": "execute_result"
    }
   ],
   "source": [
    "import pandas as pd\n",
    "\n",
    "# 붓꽃 데이터 세트를 로딩합니다.\n",
    "iris = load_iris()\n",
    "\n",
    "# iris.data 는 iris 데이터 세트에서 feature 만으로 된 데이터를 numpy로 가지고 있습니다. \n",
    "# 데이터가 어떻게 구성되어 있는지 확인하기 위해 DataFrame으로 변환합니다.\n",
    "iris_data = iris.data\n",
    "\n",
    "# iris.target 은 iris 데이터 세트에서 label(결정 값) 데이터를 numpy로 가지고 있습니다.\n",
    "iris_label = iris.target\n",
    "print('iris taget 값 :',iris_label)\n",
    "print('iris target 명:',iris.target_names)\n",
    "\n",
    "# 붓꽃 데이터 세트를 자세히 보기 위해 DataFrame으로 변환합니다. \n",
    "iris_df = pd.DataFrame(iris_data, columns = iris.feature_names)\n",
    "iris_df['label'] = iris.target\n",
    "iris_df.head(3)"
   ]
  },
  {
   "cell_type": "markdown",
   "id": "4a0e3de9",
   "metadata": {},
   "source": [
    "- setosa : 0\n",
    "- versicolor : 1\n",
    "- virginica : 2"
   ]
  },
  {
   "cell_type": "markdown",
   "id": "7b79a0b7",
   "metadata": {},
   "source": [
    "## 01) 데이터 세트 분리\n",
    "#### 데이터를 학습 데이터와 테스트 데이터로 분리합니다. \n",
    "\n",
    "- 학습용 feature 데이터 세트 --> X_train (학습_피처)\n",
    "- 학습용 lebel 데이터 세트--> y_train (학습_결과)\n",
    "- 테스트용 feature 데이터 세트 --> X_test (예측_피처)\n",
    "- 테스트용 label 데이터 세트 --> y_test (예측_결과)"
   ]
  },
  {
   "cell_type": "code",
   "execution_count": 10,
   "id": "073f4219",
   "metadata": {},
   "outputs": [],
   "source": [
    "X_train, X_test, y_train, y_test = train_test_split(iris_data, iris_label, \n",
    "                                                   test_size = 0.2, # 학습데이터와 테스트 데이터를 8:2로 분리합니다.\n",
    "                                                   random_state = 11 # 동일한 데이터 세트로 분리하기 위해 난수 발생 값을 일정한 숫자 값으로 부여합니다. \n",
    "                                                   )\n",
    "                                                    "
   ]
  },
  {
   "cell_type": "markdown",
   "id": "53435d2c",
   "metadata": {},
   "source": [
    "## 02) 모델 학습\n",
    "#### 학습 데이터를 기반으로 ML 알고리즘을 적용해 모델을 학습시킵니다. \n",
    "\n",
    "- 01) DecisionTreeClassifier 객체 생성 (DecisionTreeClassifier())\n",
    "- 02) 학습 수행 (.fit(학습용 피처 데이터, 결정값 데이터) 매서드)"
   ]
  },
  {
   "cell_type": "code",
   "execution_count": 12,
   "id": "25907a3d",
   "metadata": {},
   "outputs": [],
   "source": [
    "# DecisionTreeClassifier 객체 생성\n",
    "dt_clf = DecisionTreeClassifier(random_state =11) # 예제 코드 수행시 동일한 학습 및 예측 결과를 출력하기 위한 용도"
   ]
  },
  {
   "cell_type": "code",
   "execution_count": 14,
   "id": "f8436253",
   "metadata": {},
   "outputs": [
    {
     "data": {
      "text/plain": [
       "DecisionTreeClassifier(random_state=11)"
      ]
     },
     "execution_count": 14,
     "metadata": {},
     "output_type": "execute_result"
    }
   ],
   "source": [
    "# 학습 수행\n",
    "dt_clf.fit(X_train, y_train) "
   ]
  },
  {
   "cell_type": "markdown",
   "id": "03fa76c5",
   "metadata": {},
   "source": [
    "## 03) 예측 수행\n",
    "#### 학습된 ML 모델을 이용해 테스트 데이터 분류(붓꽃 종류)를 예측합니다. \n",
    "\n",
    "- 예측 수행 (.predict(테스트용 피처 데이터))"
   ]
  },
  {
   "cell_type": "code",
   "execution_count": 15,
   "id": "2a338970",
   "metadata": {},
   "outputs": [],
   "source": [
    "pred = dt_clf.predict(X_test)"
   ]
  },
  {
   "cell_type": "markdown",
   "id": "cb17a444",
   "metadata": {},
   "source": [
    "## 04) 평가\n",
    "#### 예측된 결과값과 테스트 데이터의 실제 결과값을 비교해 ML 모델 성능을 평가합니다.\n",
    "\n",
    "- accuracy_score()"
   ]
  },
  {
   "cell_type": "code",
   "execution_count": 16,
   "id": "3ab4a545",
   "metadata": {},
   "outputs": [
    {
     "name": "stdout",
     "output_type": "stream",
     "text": [
      "예측 정확도: 0.933333\n"
     ]
    }
   ],
   "source": [
    "from sklearn.metrics import accuracy_score\n",
    "print('예측 정확도: {0:4f}'.format(accuracy_score(y_test, pred)))"
   ]
  },
  {
   "cell_type": "code",
   "execution_count": null,
   "id": "411d49b6",
   "metadata": {},
   "outputs": [],
   "source": []
  }
 ],
 "metadata": {
  "kernelspec": {
   "display_name": "Python 3",
   "language": "python",
   "name": "python3"
  },
  "language_info": {
   "codemirror_mode": {
    "name": "ipython",
    "version": 3
   },
   "file_extension": ".py",
   "mimetype": "text/x-python",
   "name": "python",
   "nbconvert_exporter": "python",
   "pygments_lexer": "ipython3",
   "version": "3.8.8"
  }
 },
 "nbformat": 4,
 "nbformat_minor": 5
}

{
  "nbformat": 4,
  "nbformat_minor": 0,
  "metadata": {
    "colab": {
      "name": "ml_tensor_keras[01]-MLP.ipynb",
      "provenance": [],
      "collapsed_sections": [],
      "toc_visible": true
    },
    "kernelspec": {
      "name": "python3",
      "display_name": "Python 3"
    },
    "language_info": {
      "name": "python"
    },
    "accelerator": "GPU"
  },
  "cells": [
    {
      "cell_type": "code",
      "metadata": {
        "colab": {
          "base_uri": "https://localhost:8080/"
        },
        "id": "RdrBxnf_5hfF",
        "outputId": "b55adeec-eed4-4928-d7f9-8c0845b0db18"
      },
      "source": [
        "print('다층 퍼셉트론(MLP)')\n",
        "print('입력층 - 은닉층 - 출력층')\n",
        "print('회귀에 적용한다면 - ')"
      ],
      "execution_count": 1,
      "outputs": [
        {
          "output_type": "stream",
          "name": "stdout",
          "text": [
            "다층 퍼셉트론(MLP)\n",
            "입력층 - 은닉층 - 출력층\n",
            "회귀에 적용한다면 - \n"
          ]
        }
      ]
    },
    {
      "cell_type": "code",
      "metadata": {
        "id": "YDFky5ktLaqe"
      },
      "source": [
        "from tensorflow.keras.datasets import boston_housing\n",
        "from tensorflow.keras.models   import Sequential\n",
        "from tensorflow.keras.layers   import Activation , Dense \n",
        "from tensorflow.keras          import optimizers"
      ],
      "execution_count": 3,
      "outputs": []
    },
    {
      "cell_type": "code",
      "metadata": {
        "id": "elE5n5tntTLN"
      },
      "source": [
        ""
      ],
      "execution_count": null,
      "outputs": []
    },
    {
      "cell_type": "code",
      "metadata": {
        "colab": {
          "base_uri": "https://localhost:8080/"
        },
        "id": "2WJNymE0Lsx1",
        "outputId": "8504c1af-afe4-45de-ef02-edca5675d634"
      },
      "source": [
        "(X_train , y_train) , (X_test , y_test) =  boston_housing.load_data()\n",
        "X_train.shape , y_train.shape , X_test.shape , y_test.shape"
      ],
      "execution_count": 2,
      "outputs": [
        {
          "output_type": "stream",
          "name": "stdout",
          "text": [
            "Downloading data from https://storage.googleapis.com/tensorflow/tf-keras-datasets/boston_housing.npz\n",
            "57344/57026 [==============================] - 0s 0us/step\n",
            "65536/57026 [==================================] - 0s 0us/step\n"
          ]
        },
        {
          "output_type": "execute_result",
          "data": {
            "text/plain": [
              "((404, 13), (404,), (102, 13), (102,))"
            ]
          },
          "metadata": {},
          "execution_count": 2
        }
      ]
    },
    {
      "cell_type": "code",
      "metadata": {
        "colab": {
          "base_uri": "https://localhost:8080/"
        },
        "id": "ADradMHWMBHE",
        "outputId": "cf68e9fe-bd9b-4ad7-883a-de9f9ae47efd"
      },
      "source": [
        "print('모델만들기 - ')\n",
        "\n",
        "model = Sequential()\n"
      ],
      "execution_count": 13,
      "outputs": [
        {
          "output_type": "stream",
          "name": "stdout",
          "text": [
            "모델만들기 - \n"
          ]
        }
      ]
    },
    {
      "cell_type": "code",
      "metadata": {
        "id": "mAka2Qy_M-ME"
      },
      "source": [
        "print('레이어 추가 - ')\n",
        "print('입력층 명시 - ')\n",
        "model.add(Dense(10 , input_shape = (13,) ) ) \n",
        "model.add(Activation('sigmoid')) \n",
        "\n",
        "print('은닉층 명시 1 - ')\n",
        "model.add(Dense(10)) \n",
        "model.add(Activation('sigmoid')) \n",
        "\n",
        "print('은닉층 명시 2 - ')\n",
        "model.add(Dense(10)) \n",
        "model.add(Activation('sigmoid')) \n",
        "\n",
        "print('출력층')\n",
        "model.add(Dense(1))"
      ],
      "execution_count": null,
      "outputs": []
    },
    {
      "cell_type": "code",
      "metadata": {
        "id": "YLrjMk3lPGFs"
      },
      "source": [
        "model.add(Dense(10, input_shape=(13,) , activation = 'sigmoid'))\n",
        "model.add(Dense(10, activation = 'sigmoid'))\n",
        "model.add(Dense(10, activation = 'sigmoid'))\n",
        "model.add(Dense(1)) \n"
      ],
      "execution_count": 14,
      "outputs": []
    },
    {
      "cell_type": "code",
      "metadata": {
        "colab": {
          "base_uri": "https://localhost:8080/"
        },
        "id": "xadprB8UP4pa",
        "outputId": "439c6927-d93f-4ed8-8b29-00682f48384b"
      },
      "source": [
        "print('모델을 만들었으면 학습 이전에 모델의 컴파일 선행되어야 한다 - ')"
      ],
      "execution_count": 15,
      "outputs": [
        {
          "output_type": "stream",
          "name": "stdout",
          "text": [
            "모델을 만들었으면 학습 이전에 모델의 컴파일 선행되어야 한다 - \n"
          ]
        }
      ]
    },
    {
      "cell_type": "code",
      "metadata": {
        "id": "aSCJn4RXQD9V"
      },
      "source": [
        "opt = optimizers.SGD(lr = 0.01) \n",
        "model.compile(optimizer = opt , \n",
        "              loss    = 'mean_squared_error' , \n",
        "              metrics = ['mse']) \n",
        "\n",
        "model.summary()"
      ],
      "execution_count": null,
      "outputs": []
    },
    {
      "cell_type": "code",
      "metadata": {
        "id": "GqgYcjIDRZlA"
      },
      "source": [
        "print('모델 학습 - ')\n",
        "print('batch_size : 한번에 몇 개의 데이터를 학습할 것인가?')\n",
        "print('epochs : 모델 학습 횟수')\n",
        "print('verbose : 학습과정을 출력할지 결정')\n",
        "\n",
        "model.fit(X_train , y_train , batch_size = 50 , epochs = 100 , verbose = 1) "
      ],
      "execution_count": null,
      "outputs": []
    },
    {
      "cell_type": "code",
      "metadata": {
        "colab": {
          "base_uri": "https://localhost:8080/"
        },
        "id": "2zVzfSGiT1Rf",
        "outputId": "5f849e00-2c36-4d0f-a1a5-66fe298c4a37"
      },
      "source": [
        "print('모델 평가 - ')\n",
        "\n",
        "eval_result = model.evaluate(X_test , y_test)\n",
        "print(model.metrics_names)\n",
        "print('loss function - ' , eval_result[0])\n",
        "print('mse           - ' , eval_result[1])"
      ],
      "execution_count": 22,
      "outputs": [
        {
          "output_type": "stream",
          "name": "stdout",
          "text": [
            "모델 평가 - \n",
            "4/4 [==============================] - 0s 6ms/step - loss: 83.9371 - mse: 83.9371\n",
            "['loss', 'mse']\n",
            "loss function -  83.93709564208984\n",
            "mse           -  83.93709564208984\n"
          ]
        }
      ]
    },
    {
      "cell_type": "code",
      "metadata": {
        "colab": {
          "base_uri": "https://localhost:8080/"
        },
        "id": "u0AvyYpqT1U2",
        "outputId": "4e3c2d65-7e7c-4124-bdc6-0d6044f3aafb"
      },
      "source": [
        "print('다층 퍼셉트론(MLP)')\n",
        "print('입력층 - 은닉층 - 출력층')\n",
        "print('분류에 적용한다면 - ')"
      ],
      "execution_count": 23,
      "outputs": [
        {
          "output_type": "stream",
          "name": "stdout",
          "text": [
            "다층 퍼셉트론(MLP)\n",
            "입력층 - 은닉층 - 출력층\n",
            "분류에 적용한다면 - \n"
          ]
        }
      ]
    },
    {
      "cell_type": "code",
      "metadata": {
        "id": "VgPu7PaIT1X3"
      },
      "source": [
        "from   sklearn.datasets import load_iris , load_breast_cancer , load_digits\n",
        "from   sklearn.model_selection import train_test_split , KFold , StratifiedKFold , cross_val_score , cross_validate , GridSearchCV"
      ],
      "execution_count": 25,
      "outputs": []
    },
    {
      "cell_type": "code",
      "metadata": {
        "colab": {
          "base_uri": "https://localhost:8080/"
        },
        "id": "l5muoPXAT1a2",
        "outputId": "b7038e88-887e-451a-85af-8eb2cb4b24ce"
      },
      "source": [
        "cancer = load_breast_cancer()\n",
        "print('type - ' , type(cancer))\n",
        "print('keys - ' , cancer.keys())"
      ],
      "execution_count": 28,
      "outputs": [
        {
          "output_type": "stream",
          "name": "stdout",
          "text": [
            "type -  <class 'sklearn.utils.Bunch'>\n",
            "keys -  dict_keys(['data', 'target', 'target_names', 'DESCR', 'feature_names', 'filename'])\n"
          ]
        }
      ]
    },
    {
      "cell_type": "code",
      "metadata": {
        "colab": {
          "base_uri": "https://localhost:8080/"
        },
        "id": "e0EtJf4hT1du",
        "outputId": "157177c0-8b94-4978-8a4c-97e5beafcfef"
      },
      "source": [
        "X_train , X_test , y_train , y_test = train_test_split(cancer.data , cancer.target , test_size = 0.2 , random_state = 111)\n",
        "X_train.shape , X_test.shape , y_train.shape , y_test.shape "
      ],
      "execution_count": 29,
      "outputs": [
        {
          "output_type": "execute_result",
          "data": {
            "text/plain": [
              "((455, 30), (114, 30), (455,), (114,))"
            ]
          },
          "metadata": {},
          "execution_count": 29
        }
      ]
    },
    {
      "cell_type": "code",
      "metadata": {
        "id": "Mf3rnyWnT1gu"
      },
      "source": [
        "cancer_model = Sequential()"
      ],
      "execution_count": 30,
      "outputs": []
    },
    {
      "cell_type": "code",
      "metadata": {
        "id": "2axWpS_UT1jp"
      },
      "source": [
        "print('레이어 추가 - ')\n",
        "print('입력층 명시 - ')\n",
        "cancer_model.add(Dense(10 , input_shape = (30,) ) ) \n",
        "cancer_model.add(Activation('sigmoid')) \n",
        "\n",
        "print('은닉층 명시 1 - ')\n",
        "cancer_model.add(Dense(10)) \n",
        "cancer_model.add(Activation('sigmoid')) \n",
        "\n",
        "print('은닉층 명시 2 - ')\n",
        "cancer_model.add(Dense(10)) \n",
        "cancer_model.add(Activation('sigmoid')) \n",
        "\n",
        "print('출력층')\n",
        "cancer_model.add(Dense(1))\n",
        "cancer_model.add(Activation('sigmoid')) \n"
      ],
      "execution_count": null,
      "outputs": []
    },
    {
      "cell_type": "code",
      "metadata": {
        "id": "he4Of8t3baF3"
      },
      "source": [
        "opt = optimizers.SGD(lr = 0.01) \n",
        "cancer_model.compile(optimizer = opt , \n",
        "              loss    = 'binary_crossentropy' , \n",
        "              metrics = ['accuracy']) \n",
        "\n",
        "cancer_model.summary()"
      ],
      "execution_count": null,
      "outputs": []
    },
    {
      "cell_type": "code",
      "metadata": {
        "id": "Ms1GvTUEbzLn"
      },
      "source": [
        "cancer_model.fit(X_train , y_train , batch_size = 50 , epochs = 100 , verbose = 1) "
      ],
      "execution_count": null,
      "outputs": []
    },
    {
      "cell_type": "code",
      "metadata": {
        "id": "f0fbwdIKcJYJ"
      },
      "source": [
        "cancer_eval_result = cancer_model.evaluate(X_test , y_test)\n",
        "print(cancer_eval_result)\n",
        "print('loss function - ' , cancer_eval_result[0])\n",
        "print('acc           - ' , cancer_eval_result[1])"
      ],
      "execution_count": null,
      "outputs": []
    },
    {
      "cell_type": "code",
      "metadata": {
        "colab": {
          "base_uri": "https://localhost:8080/"
        },
        "id": "vqSnhePpceNr",
        "outputId": "08d52de3-4945-43d3-aab4-88a051255a40"
      },
      "source": [
        "print('MNIST 데이터세트를 이용한 이미지 모델 만들기 - ')"
      ],
      "execution_count": 2,
      "outputs": [
        {
          "output_type": "stream",
          "name": "stdout",
          "text": [
            "MNIST 데이터세트를 이용한 이미지 모델 만들기 - \n"
          ]
        }
      ]
    },
    {
      "cell_type": "code",
      "metadata": {
        "id": "XFkU_98UxU_d"
      },
      "source": [
        "from tensorflow.keras.datasets import boston_housing , mnist\n",
        "from tensorflow.keras.models   import Sequential , Model\n",
        "from tensorflow.keras.layers   import Activation , Dense  , Input \n",
        "from tensorflow.keras          import optimizers\n",
        "\n",
        "import matplotlib.pyplot       as plt\n",
        "\n",
        "from keras.utils.np_utils          import to_categorical\n",
        "\n",
        "import seaborn as sns"
      ],
      "execution_count": 68,
      "outputs": []
    },
    {
      "cell_type": "code",
      "metadata": {
        "colab": {
          "base_uri": "https://localhost:8080/"
        },
        "id": "SiXYMZUvykvb",
        "outputId": "764643ef-f90e-4af9-cb26-237c091c2622"
      },
      "source": [
        "(X_train , y_train) , (X_test , y_test) = mnist.load_data()\n",
        "X_train.shape , X_test.shape , y_train.shape , y_test.shape "
      ],
      "execution_count": 38,
      "outputs": [
        {
          "output_type": "execute_result",
          "data": {
            "text/plain": [
              "((60000, 28, 28), (10000, 28, 28), (60000,), (10000,))"
            ]
          },
          "metadata": {},
          "execution_count": 38
        }
      ]
    },
    {
      "cell_type": "code",
      "metadata": {
        "colab": {
          "base_uri": "https://localhost:8080/"
        },
        "id": "0OiB5Ot9yzcz",
        "outputId": "6eff2853-a189-493d-c7d9-3263eba91e28"
      },
      "source": [
        "print('target - ')\n",
        "print()\n",
        "for idx in range(10) :\n",
        "  print(y_train[idx])"
      ],
      "execution_count": 39,
      "outputs": [
        {
          "output_type": "stream",
          "name": "stdout",
          "text": [
            "target - \n",
            "\n",
            "5\n",
            "0\n",
            "4\n",
            "1\n",
            "9\n",
            "2\n",
            "1\n",
            "3\n",
            "1\n",
            "4\n"
          ]
        }
      ]
    },
    {
      "cell_type": "code",
      "metadata": {
        "colab": {
          "base_uri": "https://localhost:8080/",
          "height": 320
        },
        "id": "Pw5crzG6zFQT",
        "outputId": "0828a978-817c-4195-b48b-bd7ed1e2f513"
      },
      "source": [
        "print('feature - ')\n",
        "print()\n",
        "plt.imshow(X_train[0] , cmap = plt.cm.binary)\n",
        "\n",
        "plt.grid(False)\n",
        "plt.axis('off')\n",
        "plt.show()\n",
        "print()\n",
        "print('target - ' , y_train[0])"
      ],
      "execution_count": 41,
      "outputs": [
        {
          "output_type": "stream",
          "name": "stdout",
          "text": [
            "feature - \n",
            "\n"
          ]
        },
        {
          "output_type": "display_data",
          "data": {
            "image/png": "[encoded data removed]",
            "text/plain": [
              "<Figure size 432x288 with 1 Axes>"
            ]
          },
          "metadata": {
            "needs_background": "light"
          }
        },
        {
          "output_type": "stream",
          "name": "stdout",
          "text": [
            "\n",
            "target -  5\n"
          ]
        }
      ]
    },
    {
      "cell_type": "code",
      "metadata": {
        "colab": {
          "base_uri": "https://localhost:8080/",
          "height": 320
        },
        "id": "QeLJgLk0zd6b",
        "outputId": "5141911a-0732-45af-fdd4-125558daa34f"
      },
      "source": [
        "print('feature - ')\n",
        "print()\n",
        "plt.imshow(X_test[0] ,  cmap = plt.cm.binary)\n",
        "\n",
        "plt.grid(False)\n",
        "plt.axis('off')\n",
        "\n",
        "plt.show()\n",
        "print()\n",
        "print('target - ' , y_test[0])"
      ],
      "execution_count": 43,
      "outputs": [
        {
          "output_type": "stream",
          "name": "stdout",
          "text": [
            "feature - \n",
            "\n"
          ]
        },
        {
          "output_type": "display_data",
          "data": {
            "image/png": "[encoded data removed]",
            "text/plain": [
              "<Figure size 432x288 with 1 Axes>"
            ]
          },
          "metadata": {
            "needs_background": "light"
          }
        },
        {
          "output_type": "stream",
          "name": "stdout",
          "text": [
            "\n",
            "target -  7\n"
          ]
        }
      ]
    },
    {
      "cell_type": "code",
      "metadata": {
        "colab": {
          "base_uri": "https://localhost:8080/"
        },
        "id": "ULgYIGfwzrT6",
        "outputId": "2e674e6b-54bf-4560-b998-57c94aa4845e"
      },
      "source": [
        "print('행렬의 형태는 퍼셉트론 모델의 피처로 사용하기 부적합하다 - ')\n",
        "print('그래서 1차원의 벡터로 변환 - ')\n",
        "print('reshape 28 * 28 -> 784')\n",
        "print()\n",
        "\n",
        "# print( X_train.reshape( (X_train.shape[0] , -1) ) )\n",
        "\n",
        "X_train = X_train.reshape( (X_train.shape[0] , -1) ) \n",
        "X_test  = X_test.reshape( (X_test.shape[0] , -1) ) \n"
      ],
      "execution_count": 44,
      "outputs": [
        {
          "output_type": "stream",
          "name": "stdout",
          "text": [
            "행렬의 형태는 퍼셉트론 모델의 피처로 사용하기 부적합하다 - \n",
            "그래서 1차원의 벡터로 변환 - \n",
            "reshape 28 * 28 -> 784\n",
            "\n"
          ]
        }
      ]
    },
    {
      "cell_type": "code",
      "metadata": {
        "colab": {
          "base_uri": "https://localhost:8080/"
        },
        "id": "vVFVhXVI0vpc",
        "outputId": "ce852431-45cb-4639-cd5b-211e4fadba96"
      },
      "source": [
        "X_train.shape , X_test.shape , y_train.shape , y_test.shape "
      ],
      "execution_count": 45,
      "outputs": [
        {
          "output_type": "execute_result",
          "data": {
            "text/plain": [
              "((60000, 784), (10000, 784), (60000,), (10000,))"
            ]
          },
          "metadata": {},
          "execution_count": 45
        }
      ]
    },
    {
      "cell_type": "code",
      "metadata": {
        "id": "gdrcUgYD1jiV"
      },
      "source": [
        "y_train = to_categorical(y_train)\n",
        "y_test  = to_categorical(y_test)"
      ],
      "execution_count": 46,
      "outputs": []
    },
    {
      "cell_type": "code",
      "metadata": {
        "colab": {
          "base_uri": "https://localhost:8080/"
        },
        "id": "Sc9VgTiZ3Boj",
        "outputId": "8b0867ec-fad7-4c26-9c1d-9f61d4fe2899"
      },
      "source": [
        "X_train.shape , X_test.shape , y_train.shape , y_test.shape "
      ],
      "execution_count": 47,
      "outputs": [
        {
          "output_type": "execute_result",
          "data": {
            "text/plain": [
              "((60000, 784), (10000, 784), (60000, 10), (10000, 10))"
            ]
          },
          "metadata": {},
          "execution_count": 47
        }
      ]
    },
    {
      "cell_type": "code",
      "metadata": {
        "colab": {
          "base_uri": "https://localhost:8080/"
        },
        "id": "u2_fmKLh3MOL",
        "outputId": "9cdf8f8f-7b7b-4337-a3ed-712004c678c3"
      },
      "source": [
        "for idx in range(10) :\n",
        "  print(y_train[idx])"
      ],
      "execution_count": 48,
      "outputs": [
        {
          "output_type": "stream",
          "name": "stdout",
          "text": [
            "[0. 0. 0. 0. 0. 1. 0. 0. 0. 0.]\n",
            "[1. 0. 0. 0. 0. 0. 0. 0. 0. 0.]\n",
            "[0. 0. 0. 0. 1. 0. 0. 0. 0. 0.]\n",
            "[0. 1. 0. 0. 0. 0. 0. 0. 0. 0.]\n",
            "[0. 0. 0. 0. 0. 0. 0. 0. 0. 1.]\n",
            "[0. 0. 1. 0. 0. 0. 0. 0. 0. 0.]\n",
            "[0. 1. 0. 0. 0. 0. 0. 0. 0. 0.]\n",
            "[0. 0. 0. 1. 0. 0. 0. 0. 0. 0.]\n",
            "[0. 1. 0. 0. 0. 0. 0. 0. 0. 0.]\n",
            "[0. 0. 0. 0. 1. 0. 0. 0. 0. 0.]\n"
          ]
        }
      ]
    },
    {
      "cell_type": "code",
      "metadata": {
        "colab": {
          "base_uri": "https://localhost:8080/"
        },
        "id": "H7GK8tO83Y7j",
        "outputId": "8aeee495-56ba-4670-f0f1-634033d2eaec"
      },
      "source": [
        "mnist_model = Sequential()\n",
        "\n",
        "mnist_model.add(Dense(50 , input_shape = (784,) ) ) \n",
        "mnist_model.add(Activation('sigmoid')) \n",
        "\n",
        "mnist_model.add(Dense(50) ) \n",
        "mnist_model.add(Activation('sigmoid')) \n",
        "\n",
        "mnist_model.add(Dense(50) ) \n",
        "mnist_model.add(Activation('sigmoid')) \n",
        "\n",
        "mnist_model.add(Dense(50) ) \n",
        "mnist_model.add(Activation('sigmoid')) \n",
        "\n",
        "mnist_model.add(Dense(10) ) \n",
        "mnist_model.add(Activation('softmax')) \n",
        "\n",
        "mnist_model.summary()\n",
        "\n",
        "\n"
      ],
      "execution_count": 59,
      "outputs": [
        {
          "output_type": "stream",
          "name": "stdout",
          "text": [
            "Model: \"sequential_4\"\n",
            "_________________________________________________________________\n",
            "Layer (type)                 Output Shape              Param #   \n",
            "=================================================================\n",
            "dense_15 (Dense)             (None, 50)                39250     \n",
            "_________________________________________________________________\n",
            "activation_15 (Activation)   (None, 50)                0         \n",
            "_________________________________________________________________\n",
            "dense_16 (Dense)             (None, 50)                2550      \n",
            "_________________________________________________________________\n",
            "activation_16 (Activation)   (None, 50)                0         \n",
            "_________________________________________________________________\n",
            "dense_17 (Dense)             (None, 50)                2550      \n",
            "_________________________________________________________________\n",
            "activation_17 (Activation)   (None, 50)                0         \n",
            "_________________________________________________________________\n",
            "dense_18 (Dense)             (None, 50)                2550      \n",
            "_________________________________________________________________\n",
            "activation_18 (Activation)   (None, 50)                0         \n",
            "_________________________________________________________________\n",
            "dense_19 (Dense)             (None, 10)                510       \n",
            "_________________________________________________________________\n",
            "activation_19 (Activation)   (None, 10)                0         \n",
            "=================================================================\n",
            "Total params: 47,410\n",
            "Trainable params: 47,410\n",
            "Non-trainable params: 0\n",
            "_________________________________________________________________\n"
          ]
        }
      ]
    },
    {
      "cell_type": "code",
      "metadata": {
        "colab": {
          "base_uri": "https://localhost:8080/"
        },
        "id": "D_2_XSJQ3_37",
        "outputId": "3b6c27ca-180e-4239-b580-d88e87de018f"
      },
      "source": [
        "opt = optimizers.SGD(lr = 0.01) \n",
        "mnist_model.compile(optimizer = opt , \n",
        "                     loss    = 'categorical_crossentropy' , \n",
        "                     metrics = ['accuracy']) \n",
        "\n",
        "mnist_model.summary()"
      ],
      "execution_count": 60,
      "outputs": [
        {
          "output_type": "stream",
          "name": "stdout",
          "text": [
            "Model: \"sequential_4\"\n",
            "_________________________________________________________________\n",
            "Layer (type)                 Output Shape              Param #   \n",
            "=================================================================\n",
            "dense_15 (Dense)             (None, 50)                39250     \n",
            "_________________________________________________________________\n",
            "activation_15 (Activation)   (None, 50)                0         \n",
            "_________________________________________________________________\n",
            "dense_16 (Dense)             (None, 50)                2550      \n",
            "_________________________________________________________________\n",
            "activation_16 (Activation)   (None, 50)                0         \n",
            "_________________________________________________________________\n",
            "dense_17 (Dense)             (None, 50)                2550      \n",
            "_________________________________________________________________\n",
            "activation_17 (Activation)   (None, 50)                0         \n",
            "_________________________________________________________________\n",
            "dense_18 (Dense)             (None, 50)                2550      \n",
            "_________________________________________________________________\n",
            "activation_18 (Activation)   (None, 50)                0         \n",
            "_________________________________________________________________\n",
            "dense_19 (Dense)             (None, 10)                510       \n",
            "_________________________________________________________________\n",
            "activation_19 (Activation)   (None, 10)                0         \n",
            "=================================================================\n",
            "Total params: 47,410\n",
            "Trainable params: 47,410\n",
            "Non-trainable params: 0\n",
            "_________________________________________________________________\n"
          ]
        },
        {
          "output_type": "stream",
          "name": "stderr",
          "text": [
            "/usr/local/lib/python3.7/dist-packages/keras/optimizer_v2/optimizer_v2.py:356: UserWarning: The `lr` argument is deprecated, use `learning_rate` instead.\n",
            "  \"The `lr` argument is deprecated, use `learning_rate` instead.\")\n"
          ]
        }
      ]
    },
    {
      "cell_type": "code",
      "metadata": {
        "id": "ai5xAS6u53ub"
      },
      "source": [
        "mnist_result = mnist_model.fit(X_train, y_train, batch_size = 300 , validation_split = 0.3 , epochs = 100 , verbose = 1) \n"
      ],
      "execution_count": null,
      "outputs": []
    },
    {
      "cell_type": "code",
      "metadata": {
        "colab": {
          "base_uri": "https://localhost:8080/"
        },
        "id": "zTBadTnK62Gz",
        "outputId": "9ee451c9-bdd3-416c-88da-f81bf705f7cb"
      },
      "source": [
        "mnist_result.history.keys()"
      ],
      "execution_count": 62,
      "outputs": [
        {
          "output_type": "execute_result",
          "data": {
            "text/plain": [
              "dict_keys(['loss', 'accuracy', 'val_loss', 'val_accuracy'])"
            ]
          },
          "metadata": {},
          "execution_count": 62
        }
      ]
    },
    {
      "cell_type": "code",
      "metadata": {
        "colab": {
          "base_uri": "https://localhost:8080/",
          "height": 320
        },
        "id": "onBCNg5K_dPm",
        "outputId": "7e6fc5cf-6d87-45e7-c5ed-4d140ca8d05b"
      },
      "source": [
        "plt.figure(figsize=(10,5))\n",
        "\n",
        "plt.plot( mnist_result.history['accuracy'])\n",
        "plt.plot( mnist_result.history['val_accuracy'])\n",
        "\n",
        "plt.legend(['training' , 'validation'] , loc='best')\n",
        "\n",
        "plt.show()"
      ],
      "execution_count": 63,
      "outputs": [
        {
          "output_type": "display_data",
          "data": {
            "image/png": "[encoded data removed]",
            "text/plain": [
              "<Figure size 720x360 with 1 Axes>"
            ]
          },
          "metadata": {
            "needs_background": "light"
          }
        }
      ]
    },
    {
      "cell_type": "code",
      "metadata": {
        "colab": {
          "base_uri": "https://localhost:8080/"
        },
        "id": "ATFSSAN0_zPN",
        "outputId": "9d42a215-fec2-4af8-9320-d2eccf6b4c94"
      },
      "source": [
        "mnist_model.evaluate(X_test , y_test)"
      ],
      "execution_count": 64,
      "outputs": [
        {
          "output_type": "stream",
          "name": "stdout",
          "text": [
            "313/313 [==============================] - 2s 5ms/step - loss: 1.0363 - accuracy: 0.7098\n"
          ]
        },
        {
          "output_type": "execute_result",
          "data": {
            "text/plain": [
              "[1.0363121032714844, 0.7098000049591064]"
            ]
          },
          "metadata": {},
          "execution_count": 64
        }
      ]
    },
    {
      "cell_type": "code",
      "metadata": {
        "colab": {
          "base_uri": "https://localhost:8080/"
        },
        "id": "mhV_uwCZBKlm",
        "outputId": "5bd7707e-edcc-48a7-ed55-737f5778bb9e"
      },
      "source": [
        "print('모델을 구성하는 두번째 방법으로 함수형 API - ')\n",
        "print()\n",
        "\n",
        "print('데이터 로드 - ')\n",
        "(X_train , y_train) , (X_test , y_test) = mnist.load_data()\n",
        "\n",
        "print('피처를 단일벡터로 변환 - ')\n",
        "X_train = X_train.reshape( (X_train.shape[0] , -1) ) \n",
        "X_test  = X_test.reshape( (X_test.shape[0] , -1) ) \n",
        "\n",
        "print('타켓에 대한 원-핫 인코딩')\n",
        "y_train = to_categorical(y_train)\n",
        "y_test  = to_categorical(y_test)"
      ],
      "execution_count": 93,
      "outputs": [
        {
          "output_type": "stream",
          "name": "stdout",
          "text": [
            "모델을 구성하는 두번째 방법으로 함수형 API - \n",
            "\n",
            "데이터 로드 - \n",
            "피처를 단일벡터로 변환 - \n",
            "타켓에 대한 원-핫 인코딩\n"
          ]
        }
      ]
    },
    {
      "cell_type": "code",
      "metadata": {
        "colab": {
          "base_uri": "https://localhost:8080/"
        },
        "id": "PjXqe9sCBhTm",
        "outputId": "163bb095-9012-41b8-e980-405d38b8a895"
      },
      "source": [
        "X_train.shape , X_test.shape , y_train.shape , y_test.shape "
      ],
      "execution_count": 94,
      "outputs": [
        {
          "output_type": "execute_result",
          "data": {
            "text/plain": [
              "((60000, 784), (10000, 784), (60000, 10), (10000, 10))"
            ]
          },
          "metadata": {},
          "execution_count": 94
        }
      ]
    },
    {
      "cell_type": "code",
      "metadata": {
        "colab": {
          "base_uri": "https://localhost:8080/"
        },
        "id": "F8YSn6hUDOuF",
        "outputId": "26486e1c-1e22-42b2-8cf8-6ccccb7ab1f8"
      },
      "source": [
        "input = Input(shape=(784,) , name='input') \n",
        "\n",
        "hidden_layer01 = Dense(256 , activation='relu' , name='hidden01')(input)\n",
        "hidden_layer02 = Dense(128 , activation='relu' , name='hidden02')(hidden_layer01)\n",
        "hidden_layer03 = Dense(64  , activation='relu' , name='hidden03')(hidden_layer02)\n",
        "hidden_layer04 = Dense(32  , activation='relu' , name='hidden04')(hidden_layer03)\n",
        "\n",
        "output = Dense(10 ,  activation='softmax' , name='output')(hidden_layer04)\n",
        "\n",
        "case02_mnist_model = Model(inputs=[input] , outputs = [output]) \n",
        "case02_mnist_model.summary()"
      ],
      "execution_count": 95,
      "outputs": [
        {
          "output_type": "stream",
          "name": "stdout",
          "text": [
            "Model: \"model_2\"\n",
            "_________________________________________________________________\n",
            "Layer (type)                 Output Shape              Param #   \n",
            "=================================================================\n",
            "input (InputLayer)           [(None, 784)]             0         \n",
            "_________________________________________________________________\n",
            "hidden01 (Dense)             (None, 256)               200960    \n",
            "_________________________________________________________________\n",
            "hidden02 (Dense)             (None, 128)               32896     \n",
            "_________________________________________________________________\n",
            "hidden03 (Dense)             (None, 64)                8256      \n",
            "_________________________________________________________________\n",
            "hidden04 (Dense)             (None, 32)                2080      \n",
            "_________________________________________________________________\n",
            "output (Dense)               (None, 10)                330       \n",
            "=================================================================\n",
            "Total params: 244,522\n",
            "Trainable params: 244,522\n",
            "Non-trainable params: 0\n",
            "_________________________________________________________________\n"
          ]
        }
      ]
    },
    {
      "cell_type": "code",
      "metadata": {
        "colab": {
          "base_uri": "https://localhost:8080/"
        },
        "id": "q-dLB45WEj-c",
        "outputId": "202a7216-e0fd-45ea-b8f8-a9fef497e87b"
      },
      "source": [
        "opt = optimizers.SGD(lr = 0.01) \n",
        "case02_mnist_model.compile(optimizer = opt , \n",
        "                     loss    = 'categorical_crossentropy' , \n",
        "                     metrics = ['accuracy']) \n",
        "\n",
        "case02_mnist_model.summary()"
      ],
      "execution_count": 101,
      "outputs": [
        {
          "output_type": "stream",
          "name": "stdout",
          "text": [
            "Model: \"model_2\"\n",
            "_________________________________________________________________\n",
            "Layer (type)                 Output Shape              Param #   \n",
            "=================================================================\n",
            "input (InputLayer)           [(None, 784)]             0         \n",
            "_________________________________________________________________\n",
            "hidden01 (Dense)             (None, 256)               200960    \n",
            "_________________________________________________________________\n",
            "hidden02 (Dense)             (None, 128)               32896     \n",
            "_________________________________________________________________\n",
            "hidden03 (Dense)             (None, 64)                8256      \n",
            "_________________________________________________________________\n",
            "hidden04 (Dense)             (None, 32)                2080      \n",
            "_________________________________________________________________\n",
            "output (Dense)               (None, 10)                330       \n",
            "=================================================================\n",
            "Total params: 244,522\n",
            "Trainable params: 244,522\n",
            "Non-trainable params: 0\n",
            "_________________________________________________________________\n"
          ]
        },
        {
          "output_type": "stream",
          "name": "stderr",
          "text": [
            "/usr/local/lib/python3.7/dist-packages/keras/optimizer_v2/optimizer_v2.py:356: UserWarning: The `lr` argument is deprecated, use `learning_rate` instead.\n",
            "  \"The `lr` argument is deprecated, use `learning_rate` instead.\")\n"
          ]
        }
      ]
    },
    {
      "cell_type": "code",
      "metadata": {
        "colab": {
          "base_uri": "https://localhost:8080/"
        },
        "id": "R0gZbeHeFaln",
        "outputId": "3ee505cb-19bf-4c07-b435-b7da6ac4caa1"
      },
      "source": [
        "case02_mnist_result = case02_mnist_model.fit(X_train, y_train, batch_size = 300 , validation_split = 0.3 , epochs = 50 , verbose = 1) \n"
      ],
      "execution_count": 102,
      "outputs": [
        {
          "output_type": "stream",
          "name": "stdout",
          "text": [
            "Epoch 1/50\n",
            "140/140 [==============================] - 2s 6ms/step - loss: 0.0522 - accuracy: 0.9866 - val_loss: 0.2025 - val_accuracy: 0.9621\n",
            "Epoch 2/50\n",
            "140/140 [==============================] - 1s 5ms/step - loss: 0.0427 - accuracy: 0.9881 - val_loss: 0.2023 - val_accuracy: 0.9624\n",
            "Epoch 3/50\n",
            "140/140 [==============================] - 1s 4ms/step - loss: 0.0381 - accuracy: 0.9895 - val_loss: 0.2011 - val_accuracy: 0.9632\n",
            "Epoch 4/50\n",
            "140/140 [==============================] - 1s 5ms/step - loss: 0.0351 - accuracy: 0.9900 - val_loss: 0.2002 - val_accuracy: 0.9629\n",
            "Epoch 5/50\n",
            "140/140 [==============================] - 1s 4ms/step - loss: 0.0331 - accuracy: 0.9907 - val_loss: 0.1998 - val_accuracy: 0.9633\n",
            "Epoch 6/50\n",
            "140/140 [==============================] - 1s 4ms/step - loss: 0.0312 - accuracy: 0.9911 - val_loss: 0.2011 - val_accuracy: 0.9633\n",
            "Epoch 7/50\n",
            "140/140 [==============================] - 1s 4ms/step - loss: 0.0300 - accuracy: 0.9914 - val_loss: 0.1993 - val_accuracy: 0.9634\n",
            "Epoch 8/50\n",
            "140/140 [==============================] - 1s 4ms/step - loss: 0.0289 - accuracy: 0.9919 - val_loss: 0.2029 - val_accuracy: 0.9638\n",
            "Epoch 9/50\n",
            "140/140 [==============================] - 1s 4ms/step - loss: 0.0278 - accuracy: 0.9922 - val_loss: 0.2027 - val_accuracy: 0.9641\n",
            "Epoch 10/50\n",
            "140/140 [==============================] - 1s 4ms/step - loss: 0.0269 - accuracy: 0.9924 - val_loss: 0.2060 - val_accuracy: 0.9634\n",
            "Epoch 11/50\n",
            "140/140 [==============================] - 1s 4ms/step - loss: 0.0261 - accuracy: 0.9927 - val_loss: 0.2025 - val_accuracy: 0.9643\n",
            "Epoch 12/50\n",
            "140/140 [==============================] - 1s 4ms/step - loss: 0.0255 - accuracy: 0.9928 - val_loss: 0.2047 - val_accuracy: 0.9639\n",
            "Epoch 13/50\n",
            "140/140 [==============================] - 1s 4ms/step - loss: 0.0248 - accuracy: 0.9932 - val_loss: 0.2062 - val_accuracy: 0.9642\n",
            "Epoch 14/50\n",
            "140/140 [==============================] - 1s 4ms/step - loss: 0.0244 - accuracy: 0.9932 - val_loss: 0.2086 - val_accuracy: 0.9643\n",
            "Epoch 15/50\n",
            "140/140 [==============================] - 1s 5ms/step - loss: 0.0238 - accuracy: 0.9934 - val_loss: 0.2096 - val_accuracy: 0.9639\n",
            "Epoch 16/50\n",
            "140/140 [==============================] - 1s 4ms/step - loss: 0.0234 - accuracy: 0.9935 - val_loss: 0.2108 - val_accuracy: 0.9639\n",
            "Epoch 17/50\n",
            "140/140 [==============================] - 1s 4ms/step - loss: 0.0231 - accuracy: 0.9935 - val_loss: 0.2120 - val_accuracy: 0.9644\n",
            "Epoch 18/50\n",
            "140/140 [==============================] - 1s 5ms/step - loss: 0.0225 - accuracy: 0.9938 - val_loss: 0.2133 - val_accuracy: 0.9643\n",
            "Epoch 19/50\n",
            "140/140 [==============================] - 1s 4ms/step - loss: 0.0222 - accuracy: 0.9938 - val_loss: 0.2137 - val_accuracy: 0.9644\n",
            "Epoch 20/50\n",
            "140/140 [==============================] - 1s 5ms/step - loss: 0.0217 - accuracy: 0.9939 - val_loss: 0.2143 - val_accuracy: 0.9642\n",
            "Epoch 21/50\n",
            "140/140 [==============================] - 1s 4ms/step - loss: 0.0212 - accuracy: 0.9941 - val_loss: 0.2147 - val_accuracy: 0.9644\n",
            "Epoch 22/50\n",
            "140/140 [==============================] - 1s 5ms/step - loss: 0.0210 - accuracy: 0.9941 - val_loss: 0.2182 - val_accuracy: 0.9645\n",
            "Epoch 23/50\n",
            "140/140 [==============================] - 1s 5ms/step - loss: 0.0206 - accuracy: 0.9942 - val_loss: 0.2180 - val_accuracy: 0.9652\n",
            "Epoch 24/50\n",
            "140/140 [==============================] - 1s 4ms/step - loss: 0.0203 - accuracy: 0.9944 - val_loss: 0.2180 - val_accuracy: 0.9642\n",
            "Epoch 25/50\n",
            "140/140 [==============================] - 1s 5ms/step - loss: 0.0199 - accuracy: 0.9945 - val_loss: 0.2229 - val_accuracy: 0.9650\n",
            "Epoch 26/50\n",
            "140/140 [==============================] - 1s 4ms/step - loss: 0.0196 - accuracy: 0.9944 - val_loss: 0.2222 - val_accuracy: 0.9650\n",
            "Epoch 27/50\n",
            "140/140 [==============================] - 1s 5ms/step - loss: 0.0192 - accuracy: 0.9945 - val_loss: 0.2239 - val_accuracy: 0.9651\n",
            "Epoch 28/50\n",
            "140/140 [==============================] - 1s 5ms/step - loss: 0.0191 - accuracy: 0.9948 - val_loss: 0.2255 - val_accuracy: 0.9650\n",
            "Epoch 29/50\n",
            "140/140 [==============================] - 1s 5ms/step - loss: 0.0188 - accuracy: 0.9946 - val_loss: 0.2259 - val_accuracy: 0.9649\n",
            "Epoch 30/50\n",
            "140/140 [==============================] - 1s 4ms/step - loss: 0.0185 - accuracy: 0.9949 - val_loss: 0.2266 - val_accuracy: 0.9645\n",
            "Epoch 31/50\n",
            "140/140 [==============================] - 1s 4ms/step - loss: 0.0182 - accuracy: 0.9949 - val_loss: 0.2254 - val_accuracy: 0.9652\n",
            "Epoch 32/50\n",
            "140/140 [==============================] - 1s 5ms/step - loss: 0.0179 - accuracy: 0.9950 - val_loss: 0.2276 - val_accuracy: 0.9649\n",
            "Epoch 33/50\n",
            "140/140 [==============================] - 1s 5ms/step - loss: 0.0178 - accuracy: 0.9949 - val_loss: 0.2282 - val_accuracy: 0.9648\n",
            "Epoch 34/50\n",
            "140/140 [==============================] - 1s 5ms/step - loss: 0.0175 - accuracy: 0.9951 - val_loss: 0.2301 - val_accuracy: 0.9647\n",
            "Epoch 35/50\n",
            "140/140 [==============================] - 1s 5ms/step - loss: 0.0172 - accuracy: 0.9953 - val_loss: 0.2325 - val_accuracy: 0.9652\n",
            "Epoch 36/50\n",
            "140/140 [==============================] - 1s 5ms/step - loss: 0.0170 - accuracy: 0.9953 - val_loss: 0.2353 - val_accuracy: 0.9647\n",
            "Epoch 37/50\n",
            "140/140 [==============================] - 1s 4ms/step - loss: 0.0169 - accuracy: 0.9955 - val_loss: 0.2378 - val_accuracy: 0.9651\n",
            "Epoch 38/50\n",
            "140/140 [==============================] - 1s 4ms/step - loss: 0.0167 - accuracy: 0.9954 - val_loss: 0.2368 - val_accuracy: 0.9647\n",
            "Epoch 39/50\n",
            "140/140 [==============================] - 1s 5ms/step - loss: 0.0163 - accuracy: 0.9955 - val_loss: 0.2377 - val_accuracy: 0.9644\n",
            "Epoch 40/50\n",
            "140/140 [==============================] - 1s 5ms/step - loss: 0.0162 - accuracy: 0.9957 - val_loss: 0.2414 - val_accuracy: 0.9646\n",
            "Epoch 41/50\n",
            "140/140 [==============================] - 1s 4ms/step - loss: 0.0159 - accuracy: 0.9956 - val_loss: 0.2433 - val_accuracy: 0.9648\n",
            "Epoch 42/50\n",
            "140/140 [==============================] - 1s 4ms/step - loss: 0.0157 - accuracy: 0.9957 - val_loss: 0.2424 - val_accuracy: 0.9648\n",
            "Epoch 43/50\n",
            "140/140 [==============================] - 1s 5ms/step - loss: 0.0156 - accuracy: 0.9956 - val_loss: 0.2426 - val_accuracy: 0.9648\n",
            "Epoch 44/50\n",
            "140/140 [==============================] - 1s 4ms/step - loss: 0.0153 - accuracy: 0.9958 - val_loss: 0.2458 - val_accuracy: 0.9648\n",
            "Epoch 45/50\n",
            "140/140 [==============================] - 1s 5ms/step - loss: 0.0152 - accuracy: 0.9958 - val_loss: 0.2489 - val_accuracy: 0.9651\n",
            "Epoch 46/50\n",
            "140/140 [==============================] - 1s 4ms/step - loss: 0.0150 - accuracy: 0.9957 - val_loss: 0.2528 - val_accuracy: 0.9648\n",
            "Epoch 47/50\n",
            "140/140 [==============================] - 1s 4ms/step - loss: 0.0149 - accuracy: 0.9958 - val_loss: 0.2537 - val_accuracy: 0.9643\n",
            "Epoch 48/50\n",
            "140/140 [==============================] - 1s 5ms/step - loss: 0.0147 - accuracy: 0.9958 - val_loss: 0.2509 - val_accuracy: 0.9646\n",
            "Epoch 49/50\n",
            "140/140 [==============================] - 1s 5ms/step - loss: 0.0145 - accuracy: 0.9959 - val_loss: 0.2544 - val_accuracy: 0.9647\n",
            "Epoch 50/50\n",
            "140/140 [==============================] - 1s 5ms/step - loss: 0.0143 - accuracy: 0.9960 - val_loss: 0.2577 - val_accuracy: 0.9649\n"
          ]
        }
      ]
    },
    {
      "cell_type": "code",
      "metadata": {
        "colab": {
          "base_uri": "https://localhost:8080/"
        },
        "id": "UPgD70-iF41d",
        "outputId": "08ed98d2-f04d-46ad-fd8f-57f6f41da5a6"
      },
      "source": [
        "case02_mnist_result.history.keys()"
      ],
      "execution_count": 103,
      "outputs": [
        {
          "output_type": "execute_result",
          "data": {
            "text/plain": [
              "dict_keys(['loss', 'accuracy', 'val_loss', 'val_accuracy'])"
            ]
          },
          "metadata": {},
          "execution_count": 103
        }
      ]
    },
    {
      "cell_type": "code",
      "metadata": {
        "colab": {
          "base_uri": "https://localhost:8080/",
          "height": 386
        },
        "id": "xtxJIPTgGeMl",
        "outputId": "7d303617-09dd-4a8e-b8b7-b2925efb04b7"
      },
      "source": [
        "print('loss , accuracy 별 시각화 - ')\n",
        "print()\n",
        "\n",
        "fig = plt.figure(figsize=(15,5))\n",
        "\n",
        "epoch = range(1, len(case02_mnist_result.history['loss'])+1 ) \n",
        "\n",
        "area01 = fig.add_subplot(1, 2, 1)\n",
        "area01.set_title('loss')\n",
        "\n",
        "area01.plot(epoch , case02_mnist_result.history['loss']     , color='blue' , label='train loss')\n",
        "area01.plot(epoch , case02_mnist_result.history['val_loss'] , color='red'  , label='val loss')\n",
        "\n",
        "area01.set_xlabel('Epoch')\n",
        "area01.set_ylabel('Loss')\n",
        "\n",
        "area01.legend()\n",
        "\n",
        "area02 = fig.add_subplot(1, 2, 2)\n",
        "area02.set_title('acc')\n",
        "area02.plot(epoch , case02_mnist_result.history['accuracy']     , color='blue' , label='train acc')\n",
        "area02.plot(epoch , case02_mnist_result.history['val_accuracy'] , color='red'  , label='val acc')\n",
        "area02.set_xlabel('Epoch')\n",
        "area02.set_ylabel('Accuracy')\n",
        "area02.legend()\n",
        "\n",
        "\n",
        "plt.show()\n",
        "plt.close()\n",
        "\n"
      ],
      "execution_count": 104,
      "outputs": [
        {
          "output_type": "stream",
          "name": "stdout",
          "text": [
            "loss , accuracy 별 시각화 - \n",
            "\n"
          ]
        },
        {
          "output_type": "display_data",
          "data": {
            "image/png": "[encoded data removed]",
            "text/plain": [
              "<Figure size 1080x360 with 2 Axes>"
            ]
          },
          "metadata": {
            "needs_background": "light"
          }
        }
      ]
    },
    {
      "cell_type": "code",
      "metadata": {
        "colab": {
          "base_uri": "https://localhost:8080/"
        },
        "id": "N1jnfsi-K-Ft",
        "outputId": "fb266830-24dd-418e-e01f-9d984aef3320"
      },
      "source": [
        "case02_mnist_model.evaluate(X_test , y_test)"
      ],
      "execution_count": 105,
      "outputs": [
        {
          "output_type": "stream",
          "name": "stdout",
          "text": [
            "313/313 [==============================] - 1s 3ms/step - loss: 0.2238 - accuracy: 0.9690\n"
          ]
        },
        {
          "output_type": "execute_result",
          "data": {
            "text/plain": [
              "[0.2238301783800125, 0.968999981880188]"
            ]
          },
          "metadata": {},
          "execution_count": 105
        }
      ]
    },
    {
      "cell_type": "code",
      "metadata": {
        "id": "6Mgq5R_xOGiq"
      },
      "source": [
        ""
      ],
      "execution_count": null,
      "outputs": []
    }
  ]
}
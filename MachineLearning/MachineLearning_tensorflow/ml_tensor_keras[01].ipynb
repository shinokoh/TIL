{
 "cells": [
  {
   "cell_type": "code",
   "execution_count": 1,
   "metadata": {
    "colab": {
     "base_uri": "https://localhost:8080/"
    },
    "id": "RdrBxnf_5hfF",
    "outputId": "94d6afac-f958-4b8d-b2b7-37f5ecc8b448"
   },
   "outputs": [
    {
     "name": "stdout",
     "output_type": "stream",
     "text": [
      "다층 퍼셉트론(MLP)\n",
      "입력층 - 은닉층 - 출력층\n",
      "회귀에 적용한다면 - \n"
     ]
    }
   ],
   "source": [
    "print('다층 퍼셉트론(MLP)')\n",
    "print('입력층 - 은닉층 - 출력층')\n",
    "print('회귀에 적용한다면 - ')"
   ]
  },
  {
   "cell_type": "code",
   "execution_count": 22,
   "metadata": {
    "id": "YDFky5ktLaqe"
   },
   "outputs": [],
   "source": [
    "from tensorflow.keras.datasets import boston_housing,mnist\n",
    "from tensorflow.keras.models   import Sequential\n",
    "from tensorflow.keras.layers   import Activation , Dense \n",
    "from tensorflow.keras          import optimizers\n",
    "\n",
    "import matplotlib.pyplot as plt"
   ]
  },
  {
   "cell_type": "code",
   "execution_count": 3,
   "metadata": {
    "colab": {
     "base_uri": "https://localhost:8080/"
    },
    "id": "2WJNymE0Lsx1",
    "outputId": "8504c1af-afe4-45de-ef02-edca5675d634"
   },
   "outputs": [
    {
     "data": {
      "text/plain": [
       "((404, 13), (404,), (102, 13), (102,))"
      ]
     },
     "execution_count": 3,
     "metadata": {},
     "output_type": "execute_result"
    }
   ],
   "source": [
    "(X_train , y_train) , (X_test , y_test) =  boston_housing.load_data()\n",
    "X_train.shape , y_train.shape , X_test.shape , y_test.shape"
   ]
  },
  {
   "cell_type": "code",
   "execution_count": 4,
   "metadata": {
    "colab": {
     "base_uri": "https://localhost:8080/"
    },
    "id": "ADradMHWMBHE",
    "outputId": "cf68e9fe-bd9b-4ad7-883a-de9f9ae47efd"
   },
   "outputs": [
    {
     "name": "stdout",
     "output_type": "stream",
     "text": [
      "모델만들기 - \n"
     ]
    }
   ],
   "source": [
    "print('모델만들기 - ')\n",
    "\n",
    "model = Sequential()\n"
   ]
  },
  {
   "cell_type": "code",
   "execution_count": 5,
   "metadata": {
    "colab": {
     "base_uri": "https://localhost:8080/"
    },
    "id": "mAka2Qy_M-ME",
    "outputId": "8d401816-5845-4b44-afec-066a8627d15e"
   },
   "outputs": [
    {
     "name": "stdout",
     "output_type": "stream",
     "text": [
      "레이어 추가 - \n",
      "입력층 명시 - \n",
      "은닉층 명시 1 - \n",
      "은닉층 명시 2 - \n",
      "출력층\n"
     ]
    }
   ],
   "source": [
    "print('레이어 추가 - ')\n",
    "print('입력층 명시 - ')\n",
    "model.add(Dense(10 , input_shape = (13,) ) ) \n",
    "model.add(Activation('sigmoid')) \n",
    "\n",
    "print('은닉층 명시 1 - ')\n",
    "model.add(Dense(10)) \n",
    "model.add(Activation('sigmoid')) \n",
    "\n",
    "print('은닉층 명시 2 - ')\n",
    "model.add(Dense(10)) \n",
    "model.add(Activation('sigmoid')) \n",
    "\n",
    "print('출력층')\n",
    "model.add(Dense(1))"
   ]
  },
  {
   "cell_type": "code",
   "execution_count": 6,
   "metadata": {
    "id": "YLrjMk3lPGFs"
   },
   "outputs": [],
   "source": [
    "model.add(Dense(10, input_shape=(13,) , activation = 'sigmoid'))\n",
    "model.add(Dense(10, activation = 'sigmoid'))\n",
    "model.add(Dense(10, activation = 'sigmoid'))\n",
    "model.add(Dense(1)) \n"
   ]
  },
  {
   "cell_type": "code",
   "execution_count": 7,
   "metadata": {
    "colab": {
     "base_uri": "https://localhost:8080/"
    },
    "id": "xadprB8UP4pa",
    "outputId": "439c6927-d93f-4ed8-8b29-00682f48384b"
   },
   "outputs": [
    {
     "name": "stdout",
     "output_type": "stream",
     "text": [
      "모델을 만들었으면 학습 이전에 모델의 컴파일 선행되어야 한다 - \n"
     ]
    }
   ],
   "source": [
    "print('모델을 만들었으면 학습 이전에 모델의 컴파일 선행되어야 한다 - ')"
   ]
  },
  {
   "cell_type": "code",
   "execution_count": 8,
   "metadata": {
    "colab": {
     "base_uri": "https://localhost:8080/"
    },
    "id": "aSCJn4RXQD9V",
    "outputId": "0bbd1a1a-faf6-444a-fe3d-e142eac55353"
   },
   "outputs": [
    {
     "name": "stdout",
     "output_type": "stream",
     "text": [
      "Model: \"sequential\"\n",
      "_________________________________________________________________\n",
      "Layer (type)                 Output Shape              Param #   \n",
      "=================================================================\n",
      "dense (Dense)                (None, 10)                140       \n",
      "_________________________________________________________________\n",
      "activation (Activation)      (None, 10)                0         \n",
      "_________________________________________________________________\n",
      "dense_1 (Dense)              (None, 10)                110       \n",
      "_________________________________________________________________\n",
      "activation_1 (Activation)    (None, 10)                0         \n",
      "_________________________________________________________________\n",
      "dense_2 (Dense)              (None, 10)                110       \n",
      "_________________________________________________________________\n",
      "activation_2 (Activation)    (None, 10)                0         \n",
      "_________________________________________________________________\n",
      "dense_3 (Dense)              (None, 1)                 11        \n",
      "_________________________________________________________________\n",
      "dense_4 (Dense)              (None, 10)                20        \n",
      "_________________________________________________________________\n",
      "dense_5 (Dense)              (None, 10)                110       \n",
      "_________________________________________________________________\n",
      "dense_6 (Dense)              (None, 10)                110       \n",
      "_________________________________________________________________\n",
      "dense_7 (Dense)              (None, 1)                 11        \n",
      "=================================================================\n",
      "Total params: 622\n",
      "Trainable params: 622\n",
      "Non-trainable params: 0\n",
      "_________________________________________________________________\n"
     ]
    }
   ],
   "source": [
    "opt = optimizers.SGD(lr = 0.01) \n",
    "model.compile(optimizer = opt , \n",
    "              loss    = 'mean_squared_error' , \n",
    "              metrics = ['mse']) \n",
    "\n",
    "model.summary()"
   ]
  },
  {
   "cell_type": "code",
   "execution_count": 9,
   "metadata": {
    "colab": {
     "base_uri": "https://localhost:8080/"
    },
    "id": "GqgYcjIDRZlA",
    "outputId": "7ccbcef7-766f-49ac-dd53-2008dfb8f4c2"
   },
   "outputs": [
    {
     "name": "stdout",
     "output_type": "stream",
     "text": [
      "모델 학습 - \n",
      "batch_size : 한번에 몇 개의 데이터를 학습할 것인가?\n",
      "epochs : 모델 학습 횟수\n",
      "verbose : 학습과정을 출력할지 결정\n",
      "Epoch 1/100\n",
      "9/9 [==============================] - 0s 3ms/step - loss: 319.8140 - mse: 319.8140\n",
      "Epoch 2/100\n",
      "9/9 [==============================] - 0s 2ms/step - loss: 93.0625 - mse: 93.0625\n",
      "Epoch 3/100\n",
      "9/9 [==============================] - 0s 3ms/step - loss: 84.9018 - mse: 84.9018\n",
      "Epoch 4/100\n",
      "9/9 [==============================] - 0s 3ms/step - loss: 85.1142 - mse: 85.1142\n",
      "Epoch 5/100\n",
      "9/9 [==============================] - 0s 2ms/step - loss: 85.4413 - mse: 85.4413\n",
      "Epoch 6/100\n",
      "9/9 [==============================] - 0s 2ms/step - loss: 84.9225 - mse: 84.9225\n",
      "Epoch 7/100\n",
      "9/9 [==============================] - 0s 3ms/step - loss: 85.1334 - mse: 85.1334\n",
      "Epoch 8/100\n",
      "9/9 [==============================] - 0s 3ms/step - loss: 84.7980 - mse: 84.7980\n",
      "Epoch 9/100\n",
      "9/9 [==============================] - 0s 2ms/step - loss: 84.9623 - mse: 84.9623\n",
      "Epoch 10/100\n",
      "9/9 [==============================] - 0s 2ms/step - loss: 86.3239 - mse: 86.3239\n",
      "Epoch 11/100\n",
      "9/9 [==============================] - 0s 3ms/step - loss: 84.6808 - mse: 84.6808\n",
      "Epoch 12/100\n",
      "9/9 [==============================] - 0s 3ms/step - loss: 84.9813 - mse: 84.9813\n",
      "Epoch 13/100\n",
      "9/9 [==============================] - 0s 3ms/step - loss: 86.6146 - mse: 86.6146\n",
      "Epoch 14/100\n",
      "9/9 [==============================] - 0s 3ms/step - loss: 85.0501 - mse: 85.0501\n",
      "Epoch 15/100\n",
      "9/9 [==============================] - 0s 2ms/step - loss: 85.9634 - mse: 85.9634\n",
      "Epoch 16/100\n",
      "9/9 [==============================] - 0s 3ms/step - loss: 84.6671 - mse: 84.6671\n",
      "Epoch 17/100\n",
      "9/9 [==============================] - 0s 3ms/step - loss: 84.7793 - mse: 84.7793\n",
      "Epoch 18/100\n",
      "9/9 [==============================] - 0s 2ms/step - loss: 85.8082 - mse: 85.8082\n",
      "Epoch 19/100\n",
      "9/9 [==============================] - 0s 3ms/step - loss: 85.4721 - mse: 85.4721\n",
      "Epoch 20/100\n",
      "9/9 [==============================] - 0s 3ms/step - loss: 84.8199 - mse: 84.8199\n",
      "Epoch 21/100\n",
      "9/9 [==============================] - 0s 2ms/step - loss: 84.7657 - mse: 84.7657\n",
      "Epoch 22/100\n",
      "9/9 [==============================] - 0s 2ms/step - loss: 84.8394 - mse: 84.8394\n",
      "Epoch 23/100\n",
      "9/9 [==============================] - 0s 2ms/step - loss: 86.5171 - mse: 86.5171\n",
      "Epoch 24/100\n",
      "9/9 [==============================] - 0s 2ms/step - loss: 85.1438 - mse: 85.1438\n",
      "Epoch 25/100\n",
      "9/9 [==============================] - 0s 3ms/step - loss: 85.6466 - mse: 85.6466\n",
      "Epoch 26/100\n",
      "9/9 [==============================] - 0s 2ms/step - loss: 84.8178 - mse: 84.8178\n",
      "Epoch 27/100\n",
      "9/9 [==============================] - 0s 4ms/step - loss: 85.0577 - mse: 85.0577\n",
      "Epoch 28/100\n",
      "9/9 [==============================] - 0s 2ms/step - loss: 85.1045 - mse: 85.1045\n",
      "Epoch 29/100\n",
      "9/9 [==============================] - 0s 4ms/step - loss: 84.9316 - mse: 84.9316\n",
      "Epoch 30/100\n",
      "9/9 [==============================] - 0s 2ms/step - loss: 84.9340 - mse: 84.9340\n",
      "Epoch 31/100\n",
      "9/9 [==============================] - 0s 5ms/step - loss: 84.5868 - mse: 84.5868\n",
      "Epoch 32/100\n",
      "9/9 [==============================] - 0s 3ms/step - loss: 86.2997 - mse: 86.2997\n",
      "Epoch 33/100\n",
      "9/9 [==============================] - 0s 4ms/step - loss: 84.6511 - mse: 84.6511\n",
      "Epoch 34/100\n",
      "9/9 [==============================] - 0s 2ms/step - loss: 86.0868 - mse: 86.0868\n",
      "Epoch 35/100\n",
      "9/9 [==============================] - 0s 4ms/step - loss: 85.9152 - mse: 85.9152\n",
      "Epoch 36/100\n",
      "9/9 [==============================] - 0s 2ms/step - loss: 84.8883 - mse: 84.8883\n",
      "Epoch 37/100\n",
      "9/9 [==============================] - 0s 2ms/step - loss: 85.2991 - mse: 85.2991\n",
      "Epoch 38/100\n",
      "9/9 [==============================] - 0s 3ms/step - loss: 84.7982 - mse: 84.7982\n",
      "Epoch 39/100\n",
      "9/9 [==============================] - 0s 2ms/step - loss: 85.6416 - mse: 85.6416\n",
      "Epoch 40/100\n",
      "9/9 [==============================] - 0s 3ms/step - loss: 85.0616 - mse: 85.0616\n",
      "Epoch 41/100\n",
      "9/9 [==============================] - 0s 2ms/step - loss: 85.0879 - mse: 85.0879\n",
      "Epoch 42/100\n",
      "9/9 [==============================] - 0s 2ms/step - loss: 85.0884 - mse: 85.0884\n",
      "Epoch 43/100\n",
      "9/9 [==============================] - 0s 2ms/step - loss: 85.3486 - mse: 85.3486\n",
      "Epoch 44/100\n",
      "9/9 [==============================] - 0s 3ms/step - loss: 84.9460 - mse: 84.9460\n",
      "Epoch 45/100\n",
      "9/9 [==============================] - 0s 2ms/step - loss: 85.3861 - mse: 85.3861\n",
      "Epoch 46/100\n",
      "9/9 [==============================] - 0s 2ms/step - loss: 84.8048 - mse: 84.8048\n",
      "Epoch 47/100\n",
      "9/9 [==============================] - 0s 4ms/step - loss: 86.5294 - mse: 86.5294\n",
      "Epoch 48/100\n",
      "9/9 [==============================] - 0s 2ms/step - loss: 84.7309 - mse: 84.7309\n",
      "Epoch 49/100\n",
      "9/9 [==============================] - 0s 3ms/step - loss: 84.7729 - mse: 84.7729\n",
      "Epoch 50/100\n",
      "9/9 [==============================] - 0s 2ms/step - loss: 85.2687 - mse: 85.2687\n",
      "Epoch 51/100\n",
      "9/9 [==============================] - 0s 4ms/step - loss: 84.9909 - mse: 84.9909\n",
      "Epoch 52/100\n",
      "9/9 [==============================] - 0s 2ms/step - loss: 84.8498 - mse: 84.8498\n",
      "Epoch 53/100\n",
      "9/9 [==============================] - 0s 4ms/step - loss: 84.9687 - mse: 84.9687\n",
      "Epoch 54/100\n",
      "9/9 [==============================] - 0s 2ms/step - loss: 86.1524 - mse: 86.1524\n",
      "Epoch 55/100\n",
      "9/9 [==============================] - 0s 3ms/step - loss: 85.4291 - mse: 85.4291\n",
      "Epoch 56/100\n",
      "9/9 [==============================] - 0s 2ms/step - loss: 84.7019 - mse: 84.7019\n",
      "Epoch 57/100\n",
      "9/9 [==============================] - 0s 2ms/step - loss: 85.0886 - mse: 85.0886\n",
      "Epoch 58/100\n",
      "9/9 [==============================] - 0s 3ms/step - loss: 84.8768 - mse: 84.8768\n",
      "Epoch 59/100\n",
      "9/9 [==============================] - 0s 3ms/step - loss: 85.5301 - mse: 85.5301\n",
      "Epoch 60/100\n",
      "9/9 [==============================] - 0s 3ms/step - loss: 84.8350 - mse: 84.8350\n",
      "Epoch 61/100\n",
      "9/9 [==============================] - ETA: 0s - loss: 69.1047 - mse: 69.104 - 0s 3ms/step - loss: 85.2912 - mse: 85.2913\n",
      "Epoch 62/100\n",
      "9/9 [==============================] - 0s 3ms/step - loss: 85.3821 - mse: 85.3821\n",
      "Epoch 63/100\n",
      "9/9 [==============================] - 0s 1ms/step - loss: 85.4639 - mse: 85.4639\n",
      "Epoch 64/100\n",
      "9/9 [==============================] - 0s 3ms/step - loss: 85.2995 - mse: 85.2995\n",
      "Epoch 65/100\n",
      "9/9 [==============================] - 0s 2ms/step - loss: 85.3376 - mse: 85.3376\n",
      "Epoch 66/100\n",
      "9/9 [==============================] - 0s 2ms/step - loss: 84.9228 - mse: 84.9228\n",
      "Epoch 67/100\n",
      "9/9 [==============================] - 0s 2ms/step - loss: 85.4245 - mse: 85.4245\n",
      "Epoch 68/100\n",
      "9/9 [==============================] - 0s 2ms/step - loss: 85.3049 - mse: 85.3049\n",
      "Epoch 69/100\n",
      "9/9 [==============================] - 0s 2ms/step - loss: 84.9014 - mse: 84.9014\n",
      "Epoch 70/100\n",
      "9/9 [==============================] - 0s 1ms/step - loss: 85.0434 - mse: 85.0434\n",
      "Epoch 71/100\n",
      "9/9 [==============================] - 0s 3ms/step - loss: 84.8030 - mse: 84.8030\n",
      "Epoch 72/100\n",
      "9/9 [==============================] - 0s 1ms/step - loss: 85.2401 - mse: 85.2401\n",
      "Epoch 73/100\n",
      "9/9 [==============================] - 0s 2ms/step - loss: 85.1016 - mse: 85.1016\n",
      "Epoch 74/100\n",
      "9/9 [==============================] - 0s 2ms/step - loss: 85.0204 - mse: 85.0204\n",
      "Epoch 75/100\n",
      "9/9 [==============================] - 0s 3ms/step - loss: 84.9849 - mse: 84.9849\n",
      "Epoch 76/100\n",
      "9/9 [==============================] - 0s 1ms/step - loss: 85.0019 - mse: 85.0019\n",
      "Epoch 77/100\n",
      "9/9 [==============================] - 0s 3ms/step - loss: 85.1650 - mse: 85.1650\n",
      "Epoch 78/100\n",
      "9/9 [==============================] - 0s 2ms/step - loss: 84.8981 - mse: 84.8981\n",
      "Epoch 79/100\n",
      "9/9 [==============================] - 0s 2ms/step - loss: 85.6236 - mse: 85.6236\n",
      "Epoch 80/100\n",
      "9/9 [==============================] - 0s 2ms/step - loss: 84.9161 - mse: 84.9161\n",
      "Epoch 81/100\n",
      "9/9 [==============================] - 0s 3ms/step - loss: 84.9676 - mse: 84.9676\n",
      "Epoch 82/100\n",
      "9/9 [==============================] - 0s 2ms/step - loss: 85.0492 - mse: 85.0492\n",
      "Epoch 83/100\n",
      "9/9 [==============================] - 0s 3ms/step - loss: 85.0235 - mse: 85.0235\n",
      "Epoch 84/100\n",
      "9/9 [==============================] - 0s 3ms/step - loss: 84.7900 - mse: 84.7901\n",
      "Epoch 85/100\n",
      "9/9 [==============================] - 0s 2ms/step - loss: 85.1891 - mse: 85.1891\n"
     ]
    },
    {
     "name": "stdout",
     "output_type": "stream",
     "text": [
      "Epoch 86/100\n",
      "9/9 [==============================] - 0s 4ms/step - loss: 84.7636 - mse: 84.7636\n",
      "Epoch 87/100\n",
      "9/9 [==============================] - 0s 3ms/step - loss: 85.2805 - mse: 85.2805\n",
      "Epoch 88/100\n",
      "9/9 [==============================] - 0s 3ms/step - loss: 85.3917 - mse: 85.3917\n",
      "Epoch 89/100\n",
      "9/9 [==============================] - 0s 2ms/step - loss: 84.8999 - mse: 84.8999\n",
      "Epoch 90/100\n",
      "9/9 [==============================] - 0s 2ms/step - loss: 85.6312 - mse: 85.6312\n",
      "Epoch 91/100\n",
      "9/9 [==============================] - 0s 2ms/step - loss: 85.1263 - mse: 85.1263\n",
      "Epoch 92/100\n",
      "9/9 [==============================] - 0s 2ms/step - loss: 86.1013 - mse: 86.1013\n",
      "Epoch 93/100\n",
      "9/9 [==============================] - 0s 2ms/step - loss: 85.5652 - mse: 85.5652\n",
      "Epoch 94/100\n",
      "9/9 [==============================] - 0s 4ms/step - loss: 85.3914 - mse: 85.3914\n",
      "Epoch 95/100\n",
      "9/9 [==============================] - 0s 2ms/step - loss: 85.7920 - mse: 85.7920\n",
      "Epoch 96/100\n",
      "9/9 [==============================] - 0s 3ms/step - loss: 85.2068 - mse: 85.2068\n",
      "Epoch 97/100\n",
      "9/9 [==============================] - 0s 2ms/step - loss: 85.2802 - mse: 85.2802\n",
      "Epoch 98/100\n",
      "9/9 [==============================] - 0s 2ms/step - loss: 85.0089 - mse: 85.0089\n",
      "Epoch 99/100\n",
      "9/9 [==============================] - 0s 3ms/step - loss: 84.7935 - mse: 84.7935\n",
      "Epoch 100/100\n",
      "9/9 [==============================] - 0s 2ms/step - loss: 85.2559 - mse: 85.2559\n"
     ]
    },
    {
     "data": {
      "text/plain": [
       "<tensorflow.python.keras.callbacks.History at 0x21612c8dc70>"
      ]
     },
     "execution_count": 9,
     "metadata": {},
     "output_type": "execute_result"
    }
   ],
   "source": [
    "print('모델 학습 - ')\n",
    "print('batch_size : 한번에 몇 개의 데이터를 학습할 것인가?')\n",
    "print('epochs : 모델 학습 횟수')\n",
    "print('verbose : 학습과정을 출력할지 결정')\n",
    "\n",
    "model.fit(X_train , y_train , batch_size = 50 , epochs = 100 , verbose = 1) "
   ]
  },
  {
   "cell_type": "code",
   "execution_count": 10,
   "metadata": {
    "colab": {
     "base_uri": "https://localhost:8080/"
    },
    "id": "2zVzfSGiT1Rf",
    "outputId": "5f849e00-2c36-4d0f-a1a5-66fe298c4a37"
   },
   "outputs": [
    {
     "name": "stdout",
     "output_type": "stream",
     "text": [
      "모델 평가 - \n",
      "4/4 [==============================] - 0s 3ms/step - loss: 83.5533 - mse: 83.5533\n",
      "['loss', 'mse']\n",
      "loss function -  83.55330657958984\n",
      "mse           -  83.55330657958984\n"
     ]
    }
   ],
   "source": [
    "print('모델 평가 - ')\n",
    "\n",
    "eval_result = model.evaluate(X_test , y_test)\n",
    "print(model.metrics_names)\n",
    "print('loss function - ' , eval_result[0])\n",
    "print('mse           - ' , eval_result[1])"
   ]
  },
  {
   "cell_type": "code",
   "execution_count": 11,
   "metadata": {
    "colab": {
     "base_uri": "https://localhost:8080/"
    },
    "id": "u0AvyYpqT1U2",
    "outputId": "4e3c2d65-7e7c-4124-bdc6-0d6044f3aafb"
   },
   "outputs": [
    {
     "name": "stdout",
     "output_type": "stream",
     "text": [
      "다층 퍼셉트론(MLP)\n",
      "입력층 - 은닉층 - 출력층\n",
      "분류에 적용한다면 - \n"
     ]
    }
   ],
   "source": [
    "print('다층 퍼셉트론(MLP)')\n",
    "print('입력층 - 은닉층 - 출력층')\n",
    "print('분류에 적용한다면 - ')"
   ]
  },
  {
   "cell_type": "code",
   "execution_count": 12,
   "metadata": {
    "id": "VgPu7PaIT1X3"
   },
   "outputs": [],
   "source": [
    "from   sklearn.datasets import load_iris , load_breast_cancer , load_digits\n",
    "from   sklearn.model_selection import train_test_split , KFold , StratifiedKFold , cross_val_score , cross_validate , GridSearchCV"
   ]
  },
  {
   "cell_type": "code",
   "execution_count": 13,
   "metadata": {
    "colab": {
     "base_uri": "https://localhost:8080/"
    },
    "id": "l5muoPXAT1a2",
    "outputId": "b7038e88-887e-451a-85af-8eb2cb4b24ce"
   },
   "outputs": [
    {
     "name": "stdout",
     "output_type": "stream",
     "text": [
      "type -  <class 'sklearn.utils.Bunch'>\n",
      "keys -  dict_keys(['data', 'target', 'frame', 'target_names', 'DESCR', 'feature_names', 'filename'])\n"
     ]
    }
   ],
   "source": [
    "cancer = load_breast_cancer()\n",
    "print('type - ' , type(cancer))\n",
    "print('keys - ' , cancer.keys())"
   ]
  },
  {
   "cell_type": "code",
   "execution_count": 14,
   "metadata": {
    "colab": {
     "base_uri": "https://localhost:8080/"
    },
    "id": "e0EtJf4hT1du",
    "outputId": "157177c0-8b94-4978-8a4c-97e5beafcfef"
   },
   "outputs": [
    {
     "data": {
      "text/plain": [
       "((455, 30), (114, 30), (455,), (114,))"
      ]
     },
     "execution_count": 14,
     "metadata": {},
     "output_type": "execute_result"
    }
   ],
   "source": [
    "X_train , X_test , y_train , y_test = train_test_split(cancer.data , cancer.target , test_size = 0.2 , random_state = 111)\n",
    "X_train.shape , X_test.shape , y_train.shape , y_test.shape "
   ]
  },
  {
   "cell_type": "code",
   "execution_count": 15,
   "metadata": {
    "id": "Mf3rnyWnT1gu"
   },
   "outputs": [],
   "source": [
    "cancer_model = Sequential()"
   ]
  },
  {
   "cell_type": "code",
   "execution_count": 16,
   "metadata": {
    "id": "2axWpS_UT1jp"
   },
   "outputs": [
    {
     "name": "stdout",
     "output_type": "stream",
     "text": [
      "레이어 추가 - \n",
      "입력층 명시 - \n",
      "은닉층 명시 1 - \n",
      "은닉층 명시 2 - \n",
      "출력층\n"
     ]
    }
   ],
   "source": [
    "print('레이어 추가 - ')\n",
    "print('입력층 명시 - ')\n",
    "cancer_model.add(Dense(10 , input_shape = (30,) ) ) \n",
    "cancer_model.add(Activation('sigmoid')) \n",
    "\n",
    "print('은닉층 명시 1 - ')\n",
    "cancer_model.add(Dense(10)) \n",
    "cancer_model.add(Activation('sigmoid')) \n",
    "\n",
    "print('은닉층 명시 2 - ')\n",
    "cancer_model.add(Dense(10)) \n",
    "cancer_model.add(Activation('sigmoid')) \n",
    "\n",
    "print('출력층')\n",
    "cancer_model.add(Dense(1))\n",
    "cancer_model.add(Activation('sigmoid')) \n"
   ]
  },
  {
   "cell_type": "code",
   "execution_count": 17,
   "metadata": {
    "id": "he4Of8t3baF3"
   },
   "outputs": [
    {
     "name": "stdout",
     "output_type": "stream",
     "text": [
      "Model: \"sequential_1\"\n",
      "_________________________________________________________________\n",
      "Layer (type)                 Output Shape              Param #   \n",
      "=================================================================\n",
      "dense_8 (Dense)              (None, 10)                310       \n",
      "_________________________________________________________________\n",
      "activation_3 (Activation)    (None, 10)                0         \n",
      "_________________________________________________________________\n",
      "dense_9 (Dense)              (None, 10)                110       \n",
      "_________________________________________________________________\n",
      "activation_4 (Activation)    (None, 10)                0         \n",
      "_________________________________________________________________\n",
      "dense_10 (Dense)             (None, 10)                110       \n",
      "_________________________________________________________________\n",
      "activation_5 (Activation)    (None, 10)                0         \n",
      "_________________________________________________________________\n",
      "dense_11 (Dense)             (None, 1)                 11        \n",
      "_________________________________________________________________\n",
      "activation_6 (Activation)    (None, 1)                 0         \n",
      "=================================================================\n",
      "Total params: 541\n",
      "Trainable params: 541\n",
      "Non-trainable params: 0\n",
      "_________________________________________________________________\n"
     ]
    }
   ],
   "source": [
    "opt = optimizers.SGD(lr = 0.01) \n",
    "cancer_model.compile(optimizer = opt , \n",
    "              loss    = 'binary_crossentropy' , \n",
    "              metrics = ['accuracy']) \n",
    "\n",
    "cancer_model.summary()"
   ]
  },
  {
   "cell_type": "code",
   "execution_count": 18,
   "metadata": {
    "id": "Ms1GvTUEbzLn"
   },
   "outputs": [
    {
     "name": "stdout",
     "output_type": "stream",
     "text": [
      "Epoch 1/100\n",
      "10/10 [==============================] - 0s 2ms/step - loss: 0.6773 - accuracy: 0.6308\n",
      "Epoch 2/100\n",
      "10/10 [==============================] - 0s 2ms/step - loss: 0.6749 - accuracy: 0.6308\n",
      "Epoch 3/100\n",
      "10/10 [==============================] - 0s 2ms/step - loss: 0.6717 - accuracy: 0.6308\n",
      "Epoch 4/100\n",
      "10/10 [==============================] - 0s 3ms/step - loss: 0.6685 - accuracy: 0.6308\n",
      "Epoch 5/100\n",
      "10/10 [==============================] - 0s 3ms/step - loss: 0.6660 - accuracy: 0.6308\n",
      "Epoch 6/100\n",
      "10/10 [==============================] - 0s 3ms/step - loss: 0.6648 - accuracy: 0.6308\n",
      "Epoch 7/100\n",
      "10/10 [==============================] - 0s 2ms/step - loss: 0.6637 - accuracy: 0.6308\n",
      "Epoch 8/100\n",
      "10/10 [==============================] - 0s 3ms/step - loss: 0.6627 - accuracy: 0.6308\n",
      "Epoch 9/100\n",
      "10/10 [==============================] - 0s 3ms/step - loss: 0.6622 - accuracy: 0.6308\n",
      "Epoch 10/100\n",
      "10/10 [==============================] - 0s 3ms/step - loss: 0.6612 - accuracy: 0.6308\n",
      "Epoch 11/100\n",
      "10/10 [==============================] - 0s 2ms/step - loss: 0.6602 - accuracy: 0.6308\n",
      "Epoch 12/100\n",
      "10/10 [==============================] - 0s 3ms/step - loss: 0.6597 - accuracy: 0.6308\n",
      "Epoch 13/100\n",
      "10/10 [==============================] - 0s 2ms/step - loss: 0.6595 - accuracy: 0.6308\n",
      "Epoch 14/100\n",
      "10/10 [==============================] - 0s 3ms/step - loss: 0.6593 - accuracy: 0.6308\n",
      "Epoch 15/100\n",
      "10/10 [==============================] - 0s 2ms/step - loss: 0.6586 - accuracy: 0.6308\n",
      "Epoch 16/100\n",
      "10/10 [==============================] - 0s 4ms/step - loss: 0.6580 - accuracy: 0.6308\n",
      "Epoch 17/100\n",
      "10/10 [==============================] - 0s 2ms/step - loss: 0.6576 - accuracy: 0.6308\n",
      "Epoch 18/100\n",
      "10/10 [==============================] - 0s 3ms/step - loss: 0.6574 - accuracy: 0.6308\n",
      "Epoch 19/100\n",
      "10/10 [==============================] - 0s 2ms/step - loss: 0.6571 - accuracy: 0.6308\n",
      "Epoch 20/100\n",
      "10/10 [==============================] - 0s 3ms/step - loss: 0.6570 - accuracy: 0.6308\n",
      "Epoch 21/100\n",
      "10/10 [==============================] - 0s 3ms/step - loss: 0.6567 - accuracy: 0.6308\n",
      "Epoch 22/100\n",
      "10/10 [==============================] - 0s 3ms/step - loss: 0.6565 - accuracy: 0.6308\n",
      "Epoch 23/100\n",
      "10/10 [==============================] - 0s 3ms/step - loss: 0.6565 - accuracy: 0.6308\n",
      "Epoch 24/100\n",
      "10/10 [==============================] - 0s 3ms/step - loss: 0.6563 - accuracy: 0.6308\n",
      "Epoch 25/100\n",
      "10/10 [==============================] - 0s 2ms/step - loss: 0.6564 - accuracy: 0.6308\n",
      "Epoch 26/100\n",
      "10/10 [==============================] - 0s 2ms/step - loss: 0.6562 - accuracy: 0.6308\n",
      "Epoch 27/100\n",
      "10/10 [==============================] - 0s 2ms/step - loss: 0.6560 - accuracy: 0.6308\n",
      "Epoch 28/100\n",
      "10/10 [==============================] - 0s 2ms/step - loss: 0.6559 - accuracy: 0.6308\n",
      "Epoch 29/100\n",
      "10/10 [==============================] - 0s 3ms/step - loss: 0.6558 - accuracy: 0.6308\n",
      "Epoch 30/100\n",
      "10/10 [==============================] - 0s 3ms/step - loss: 0.6558 - accuracy: 0.6308\n",
      "Epoch 31/100\n",
      "10/10 [==============================] - 0s 2ms/step - loss: 0.6557 - accuracy: 0.6308\n",
      "Epoch 32/100\n",
      "10/10 [==============================] - 0s 2ms/step - loss: 0.6556 - accuracy: 0.6308\n",
      "Epoch 33/100\n",
      "10/10 [==============================] - 0s 3ms/step - loss: 0.6555 - accuracy: 0.6308\n",
      "Epoch 34/100\n",
      "10/10 [==============================] - 0s 2ms/step - loss: 0.6555 - accuracy: 0.6308\n",
      "Epoch 35/100\n",
      "10/10 [==============================] - 0s 4ms/step - loss: 0.6554 - accuracy: 0.6308\n",
      "Epoch 36/100\n",
      "10/10 [==============================] - 0s 2ms/step - loss: 0.6553 - accuracy: 0.6308\n",
      "Epoch 37/100\n",
      "10/10 [==============================] - 0s 3ms/step - loss: 0.6551 - accuracy: 0.6308\n",
      "Epoch 38/100\n",
      "10/10 [==============================] - 0s 2ms/step - loss: 0.6551 - accuracy: 0.6308\n",
      "Epoch 39/100\n",
      "10/10 [==============================] - 0s 2ms/step - loss: 0.6550 - accuracy: 0.6308\n",
      "Epoch 40/100\n",
      "10/10 [==============================] - 0s 3ms/step - loss: 0.6549 - accuracy: 0.6308\n",
      "Epoch 41/100\n",
      "10/10 [==============================] - 0s 2ms/step - loss: 0.6549 - accuracy: 0.6308\n",
      "Epoch 42/100\n",
      "10/10 [==============================] - 0s 3ms/step - loss: 0.6548 - accuracy: 0.6308\n",
      "Epoch 43/100\n",
      "10/10 [==============================] - 0s 2ms/step - loss: 0.6546 - accuracy: 0.6308\n",
      "Epoch 44/100\n",
      "10/10 [==============================] - 0s 1ms/step - loss: 0.6546 - accuracy: 0.6308\n",
      "Epoch 45/100\n",
      "10/10 [==============================] - 0s 3ms/step - loss: 0.6545 - accuracy: 0.6308\n",
      "Epoch 46/100\n",
      "10/10 [==============================] - 0s 2ms/step - loss: 0.6544 - accuracy: 0.6308\n",
      "Epoch 47/100\n",
      "10/10 [==============================] - 0s 2ms/step - loss: 0.6544 - accuracy: 0.6308\n",
      "Epoch 48/100\n",
      "10/10 [==============================] - 0s 2ms/step - loss: 0.6543 - accuracy: 0.6308\n",
      "Epoch 49/100\n",
      "10/10 [==============================] - 0s 2ms/step - loss: 0.6542 - accuracy: 0.6308\n",
      "Epoch 50/100\n",
      "10/10 [==============================] - 0s 3ms/step - loss: 0.6541 - accuracy: 0.6308\n",
      "Epoch 51/100\n",
      "10/10 [==============================] - 0s 2ms/step - loss: 0.6540 - accuracy: 0.6308\n",
      "Epoch 52/100\n",
      "10/10 [==============================] - 0s 2ms/step - loss: 0.6540 - accuracy: 0.6308\n",
      "Epoch 53/100\n",
      "10/10 [==============================] - 0s 1ms/step - loss: 0.6538 - accuracy: 0.6308\n",
      "Epoch 54/100\n",
      "10/10 [==============================] - 0s 2ms/step - loss: 0.6537 - accuracy: 0.6308\n",
      "Epoch 55/100\n",
      "10/10 [==============================] - 0s 2ms/step - loss: 0.6536 - accuracy: 0.6308\n",
      "Epoch 56/100\n",
      "10/10 [==============================] - 0s 3ms/step - loss: 0.6535 - accuracy: 0.6308\n",
      "Epoch 57/100\n",
      "10/10 [==============================] - 0s 2ms/step - loss: 0.6535 - accuracy: 0.6308\n",
      "Epoch 58/100\n",
      "10/10 [==============================] - 0s 2ms/step - loss: 0.6534 - accuracy: 0.6308\n",
      "Epoch 59/100\n",
      "10/10 [==============================] - 0s 1ms/step - loss: 0.6533 - accuracy: 0.6308\n",
      "Epoch 60/100\n",
      "10/10 [==============================] - 0s 1ms/step - loss: 0.6532 - accuracy: 0.6308\n",
      "Epoch 61/100\n",
      "10/10 [==============================] - 0s 2ms/step - loss: 0.6532 - accuracy: 0.6308\n",
      "Epoch 62/100\n",
      "10/10 [==============================] - 0s 2ms/step - loss: 0.6530 - accuracy: 0.6308\n",
      "Epoch 63/100\n",
      "10/10 [==============================] - 0s 2ms/step - loss: 0.6530 - accuracy: 0.6308\n",
      "Epoch 64/100\n",
      "10/10 [==============================] - 0s 2ms/step - loss: 0.6529 - accuracy: 0.6308\n",
      "Epoch 65/100\n",
      "10/10 [==============================] - 0s 2ms/step - loss: 0.6529 - accuracy: 0.6308\n",
      "Epoch 66/100\n",
      "10/10 [==============================] - 0s 2ms/step - loss: 0.6527 - accuracy: 0.6308\n",
      "Epoch 67/100\n",
      "10/10 [==============================] - 0s 2ms/step - loss: 0.6527 - accuracy: 0.6308\n",
      "Epoch 68/100\n",
      "10/10 [==============================] - 0s 2ms/step - loss: 0.6527 - accuracy: 0.6308\n",
      "Epoch 69/100\n",
      "10/10 [==============================] - 0s 1ms/step - loss: 0.6526 - accuracy: 0.6308\n",
      "Epoch 70/100\n",
      "10/10 [==============================] - 0s 2ms/step - loss: 0.6525 - accuracy: 0.6308\n",
      "Epoch 71/100\n",
      "10/10 [==============================] - 0s 1ms/step - loss: 0.6524 - accuracy: 0.6308\n",
      "Epoch 72/100\n",
      "10/10 [==============================] - 0s 2ms/step - loss: 0.6522 - accuracy: 0.6308\n",
      "Epoch 73/100\n",
      "10/10 [==============================] - 0s 2ms/step - loss: 0.6520 - accuracy: 0.6308\n",
      "Epoch 74/100\n",
      "10/10 [==============================] - 0s 2ms/step - loss: 0.6519 - accuracy: 0.6308\n",
      "Epoch 75/100\n",
      "10/10 [==============================] - 0s 2ms/step - loss: 0.6518 - accuracy: 0.6308\n",
      "Epoch 76/100\n",
      "10/10 [==============================] - 0s 2ms/step - loss: 0.6518 - accuracy: 0.6308\n",
      "Epoch 77/100\n",
      "10/10 [==============================] - 0s 1ms/step - loss: 0.6518 - accuracy: 0.6308\n",
      "Epoch 78/100\n",
      "10/10 [==============================] - 0s 3ms/step - loss: 0.6516 - accuracy: 0.6308\n",
      "Epoch 79/100\n",
      "10/10 [==============================] - 0s 2ms/step - loss: 0.6516 - accuracy: 0.6308\n",
      "Epoch 80/100\n",
      "10/10 [==============================] - 0s 1ms/step - loss: 0.6516 - accuracy: 0.6308\n",
      "Epoch 81/100\n",
      "10/10 [==============================] - 0s 2ms/step - loss: 0.6513 - accuracy: 0.6308\n",
      "Epoch 82/100\n",
      "10/10 [==============================] - 0s 1ms/step - loss: 0.6512 - accuracy: 0.6308\n",
      "Epoch 83/100\n"
     ]
    },
    {
     "name": "stdout",
     "output_type": "stream",
     "text": [
      "10/10 [==============================] - 0s 2ms/step - loss: 0.6511 - accuracy: 0.6308\n",
      "Epoch 84/100\n",
      "10/10 [==============================] - 0s 2ms/step - loss: 0.6510 - accuracy: 0.6308\n",
      "Epoch 85/100\n",
      "10/10 [==============================] - 0s 2ms/step - loss: 0.6509 - accuracy: 0.6308\n",
      "Epoch 86/100\n",
      "10/10 [==============================] - 0s 2ms/step - loss: 0.6508 - accuracy: 0.6308\n",
      "Epoch 87/100\n",
      "10/10 [==============================] - 0s 2ms/step - loss: 0.6506 - accuracy: 0.6308\n",
      "Epoch 88/100\n",
      "10/10 [==============================] - 0s 1ms/step - loss: 0.6505 - accuracy: 0.6308\n",
      "Epoch 89/100\n",
      "10/10 [==============================] - 0s 3ms/step - loss: 0.6502 - accuracy: 0.6308\n",
      "Epoch 90/100\n",
      "10/10 [==============================] - 0s 2ms/step - loss: 0.6501 - accuracy: 0.6308\n",
      "Epoch 91/100\n",
      "10/10 [==============================] - 0s 2ms/step - loss: 0.6500 - accuracy: 0.6308\n",
      "Epoch 92/100\n",
      "10/10 [==============================] - 0s 2ms/step - loss: 0.6498 - accuracy: 0.6308\n",
      "Epoch 93/100\n",
      "10/10 [==============================] - 0s 3ms/step - loss: 0.6497 - accuracy: 0.6308\n",
      "Epoch 94/100\n",
      "10/10 [==============================] - 0s 2ms/step - loss: 0.6497 - accuracy: 0.6308\n",
      "Epoch 95/100\n",
      "10/10 [==============================] - 0s 3ms/step - loss: 0.6496 - accuracy: 0.6308\n",
      "Epoch 96/100\n",
      "10/10 [==============================] - 0s 3ms/step - loss: 0.6493 - accuracy: 0.6308\n",
      "Epoch 97/100\n",
      "10/10 [==============================] - 0s 2ms/step - loss: 0.6492 - accuracy: 0.6308\n",
      "Epoch 98/100\n",
      "10/10 [==============================] - 0s 2ms/step - loss: 0.6491 - accuracy: 0.6308\n",
      "Epoch 99/100\n",
      "10/10 [==============================] - 0s 2ms/step - loss: 0.6492 - accuracy: 0.6308\n",
      "Epoch 100/100\n",
      "10/10 [==============================] - 0s 2ms/step - loss: 0.6488 - accuracy: 0.6308\n"
     ]
    },
    {
     "data": {
      "text/plain": [
       "<tensorflow.python.keras.callbacks.History at 0x216165ee4c0>"
      ]
     },
     "execution_count": 18,
     "metadata": {},
     "output_type": "execute_result"
    }
   ],
   "source": [
    "cancer_model.fit(X_train , y_train , batch_size = 50 , epochs = 100 , verbose = 1) "
   ]
  },
  {
   "cell_type": "code",
   "execution_count": 19,
   "metadata": {
    "id": "f0fbwdIKcJYJ"
   },
   "outputs": [
    {
     "name": "stdout",
     "output_type": "stream",
     "text": [
      "4/4 [==============================] - 0s 1ms/step - loss: 0.6580 - accuracy: 0.6140\n",
      "[0.6580209732055664, 0.6140350699424744]\n",
      "loss function -  0.6580209732055664\n",
      "acc           -  0.6140350699424744\n"
     ]
    }
   ],
   "source": [
    "cancer_eval_result = cancer_model.evaluate(X_test , y_test)\n",
    "print(cancer_eval_result)\n",
    "print('loss function - ' , cancer_eval_result[0])\n",
    "print('acc           - ' , cancer_eval_result[1])"
   ]
  },
  {
   "cell_type": "code",
   "execution_count": 20,
   "metadata": {
    "id": "vqSnhePpceNr"
   },
   "outputs": [
    {
     "name": "stdout",
     "output_type": "stream",
     "text": [
      "MNIST 데이터세트를 이용한 이미지 모델 만들기\n"
     ]
    }
   ],
   "source": [
    "print(\"MNIST 데이터세트를 이용한 이미지 모델 만들기\")"
   ]
  },
  {
   "cell_type": "code",
   "execution_count": 24,
   "metadata": {},
   "outputs": [],
   "source": [
    "(X_train, y_train), (X_test, y_test) = mnist.load_data()"
   ]
  },
  {
   "cell_type": "code",
   "execution_count": 26,
   "metadata": {},
   "outputs": [
    {
     "name": "stdout",
     "output_type": "stream",
     "text": [
      "target - \n",
      "5\n",
      "0\n",
      "4\n",
      "1\n",
      "9\n",
      "2\n",
      "1\n",
      "3\n",
      "1\n",
      "4\n"
     ]
    }
   ],
   "source": [
    "print('target - ')\n",
    "for idx in range(10) :\n",
    "    print(y_train[idx])"
   ]
  },
  {
   "cell_type": "code",
   "execution_count": 28,
   "metadata": {},
   "outputs": [
    {
     "name": "stdout",
     "output_type": "stream",
     "text": [
      "feature -\n",
      "\n"
     ]
    },
    {
     "data": {
      "image/png": "[encoded data removed]",
      "text/plain": [
       "<Figure size 432x288 with 1 Axes>"
      ]
     },
     "metadata": {
      "needs_background": "light"
     },
     "output_type": "display_data"
    },
    {
     "name": "stdout",
     "output_type": "stream",
     "text": [
      "\n",
      "target - 5\n"
     ]
    }
   ],
   "source": [
    "print('feature -')\n",
    "print()\n",
    "plt.imshow(X_train[0])\n",
    "plt.show()\n",
    "print()\n",
    "print('target -',y_train[0])"
   ]
  },
  {
   "cell_type": "code",
   "execution_count": 29,
   "metadata": {},
   "outputs": [
    {
     "name": "stdout",
     "output_type": "stream",
     "text": [
      "feature -\n",
      "\n"
     ]
    },
    {
     "data": {
      "image/png": "[encoded data removed]",
      "text/plain": [
       "<Figure size 432x288 with 1 Axes>"
      ]
     },
     "metadata": {
      "needs_background": "light"
     },
     "output_type": "display_data"
    },
    {
     "name": "stdout",
     "output_type": "stream",
     "text": [
      "\n",
      "target - 7\n"
     ]
    }
   ],
   "source": [
    "print('feature -')\n",
    "print()\n",
    "plt.imshow(X_test[0])\n",
    "plt.show()\n",
    "print()\n",
    "print('target -',y_test[0])"
   ]
  },
  {
   "cell_type": "code",
   "execution_count": null,
   "metadata": {},
   "outputs": [],
   "source": []
  }
 ],
 "metadata": {
  "accelerator": "GPU",
  "colab": {
   "name": "ml_tensor_keras[01].ipynb",
   "provenance": []
  },
  "kernelspec": {
   "display_name": "Python 3 (ipykernel)",
   "language": "python",
   "name": "python3"
  },
  "language_info": {
   "codemirror_mode": {
    "name": "ipython",
    "version": 3
   },
   "file_extension": ".py",
   "mimetype": "text/x-python",
   "name": "python",
   "nbconvert_exporter": "python",
   "pygments_lexer": "ipython3",
   "version": "3.8.11"
  }
 },
 "nbformat": 4,
 "nbformat_minor": 1
}

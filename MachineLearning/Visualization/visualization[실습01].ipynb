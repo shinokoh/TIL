{
 "cells": [
  {
   "cell_type": "code",
   "execution_count": 3,
   "id": "6778148c",
   "metadata": {},
   "outputs": [
    {
     "name": "stdout",
     "output_type": "stream",
     "text": [
      "numpy version  -  1.20.1\n",
      "pandas version -  1.2.4\n"
     ]
    }
   ],
   "source": [
    "import numpy  as np\n",
    "import pandas as pd\n",
    "import matplotlib.pyplot as plt \n",
    "%matplotlib inline\n",
    "\n",
    "\n",
    "import json \n",
    "\n",
    "import warnings\n",
    "warnings.filterwarnings(action='ignore')\n",
    "\n",
    "from datetime import date, datetime, timedelta\n",
    "from dateutil.parser import parse\n",
    "\n",
    "\n",
    "print('numpy version  - ' , np.__version__)\n",
    "print('pandas version - ' , pd.__version__)\n",
    "\n",
    "# 한글 폰트 문제 해결\n",
    "import platform\n",
    "\n",
    "from matplotlib import font_manager, rc\n",
    "\n",
    "if platform.system() == 'Darwin':\n",
    "    rc('font', family='AppleGothic')\n",
    "elif platform.system() == 'Windows':\n",
    "    path = \"c:/Windows/Fonts/malgun.ttf\"\n",
    "    font_name = font_manager.FontProperties(fname=path).get_name()\n",
    "    rc('font', family=font_name)\n",
    "else:\n",
    "    print('Unknown system... sorry~~~~') \n",
    "\n",
    "\n",
    "# 차트 축 <- 음수 부호 지원\n",
    "import matplotlib\n",
    "matplotlib.rcParams['axes.unicode_minus'] = False"
   ]
  },
  {
   "cell_type": "code",
   "execution_count": 10,
   "id": "467fa713",
   "metadata": {},
   "outputs": [
    {
     "data": {
      "text/html": [
       "<div>\n",
       "<style scoped>\n",
       "    .dataframe tbody tr th:only-of-type {\n",
       "        vertical-align: middle;\n",
       "    }\n",
       "\n",
       "    .dataframe tbody tr th {\n",
       "        vertical-align: top;\n",
       "    }\n",
       "\n",
       "    .dataframe thead th {\n",
       "        text-align: right;\n",
       "    }\n",
       "</style>\n",
       "<table border=\"1\" class=\"dataframe\">\n",
       "  <thead>\n",
       "    <tr style=\"text-align: right;\">\n",
       "      <th></th>\n",
       "      <th>manufacturer</th>\n",
       "      <th>model</th>\n",
       "      <th>displ</th>\n",
       "      <th>year</th>\n",
       "      <th>cyl</th>\n",
       "      <th>trans</th>\n",
       "      <th>drv</th>\n",
       "      <th>cty</th>\n",
       "      <th>hwy</th>\n",
       "      <th>fl</th>\n",
       "      <th>class</th>\n",
       "    </tr>\n",
       "  </thead>\n",
       "  <tbody>\n",
       "    <tr>\n",
       "      <th>0</th>\n",
       "      <td>audi</td>\n",
       "      <td>a4</td>\n",
       "      <td>1.8</td>\n",
       "      <td>1999</td>\n",
       "      <td>4</td>\n",
       "      <td>auto(l5)</td>\n",
       "      <td>f</td>\n",
       "      <td>18</td>\n",
       "      <td>29</td>\n",
       "      <td>p</td>\n",
       "      <td>compact</td>\n",
       "    </tr>\n",
       "    <tr>\n",
       "      <th>1</th>\n",
       "      <td>audi</td>\n",
       "      <td>a4</td>\n",
       "      <td>1.8</td>\n",
       "      <td>1999</td>\n",
       "      <td>4</td>\n",
       "      <td>manual(m5)</td>\n",
       "      <td>f</td>\n",
       "      <td>21</td>\n",
       "      <td>29</td>\n",
       "      <td>p</td>\n",
       "      <td>compact</td>\n",
       "    </tr>\n",
       "    <tr>\n",
       "      <th>2</th>\n",
       "      <td>audi</td>\n",
       "      <td>a4</td>\n",
       "      <td>2.0</td>\n",
       "      <td>2008</td>\n",
       "      <td>4</td>\n",
       "      <td>manual(m6)</td>\n",
       "      <td>f</td>\n",
       "      <td>20</td>\n",
       "      <td>31</td>\n",
       "      <td>p</td>\n",
       "      <td>compact</td>\n",
       "    </tr>\n",
       "    <tr>\n",
       "      <th>3</th>\n",
       "      <td>audi</td>\n",
       "      <td>a4</td>\n",
       "      <td>2.0</td>\n",
       "      <td>2008</td>\n",
       "      <td>4</td>\n",
       "      <td>auto(av)</td>\n",
       "      <td>f</td>\n",
       "      <td>21</td>\n",
       "      <td>30</td>\n",
       "      <td>p</td>\n",
       "      <td>compact</td>\n",
       "    </tr>\n",
       "    <tr>\n",
       "      <th>4</th>\n",
       "      <td>audi</td>\n",
       "      <td>a4</td>\n",
       "      <td>2.8</td>\n",
       "      <td>1999</td>\n",
       "      <td>6</td>\n",
       "      <td>auto(l5)</td>\n",
       "      <td>f</td>\n",
       "      <td>16</td>\n",
       "      <td>26</td>\n",
       "      <td>p</td>\n",
       "      <td>compact</td>\n",
       "    </tr>\n",
       "    <tr>\n",
       "      <th>...</th>\n",
       "      <td>...</td>\n",
       "      <td>...</td>\n",
       "      <td>...</td>\n",
       "      <td>...</td>\n",
       "      <td>...</td>\n",
       "      <td>...</td>\n",
       "      <td>...</td>\n",
       "      <td>...</td>\n",
       "      <td>...</td>\n",
       "      <td>...</td>\n",
       "      <td>...</td>\n",
       "    </tr>\n",
       "    <tr>\n",
       "      <th>229</th>\n",
       "      <td>volkswagen</td>\n",
       "      <td>passat</td>\n",
       "      <td>2.0</td>\n",
       "      <td>2008</td>\n",
       "      <td>4</td>\n",
       "      <td>auto(s6)</td>\n",
       "      <td>f</td>\n",
       "      <td>19</td>\n",
       "      <td>28</td>\n",
       "      <td>p</td>\n",
       "      <td>midsize</td>\n",
       "    </tr>\n",
       "    <tr>\n",
       "      <th>230</th>\n",
       "      <td>volkswagen</td>\n",
       "      <td>passat</td>\n",
       "      <td>2.0</td>\n",
       "      <td>2008</td>\n",
       "      <td>4</td>\n",
       "      <td>manual(m6)</td>\n",
       "      <td>f</td>\n",
       "      <td>21</td>\n",
       "      <td>29</td>\n",
       "      <td>p</td>\n",
       "      <td>midsize</td>\n",
       "    </tr>\n",
       "    <tr>\n",
       "      <th>231</th>\n",
       "      <td>volkswagen</td>\n",
       "      <td>passat</td>\n",
       "      <td>2.8</td>\n",
       "      <td>1999</td>\n",
       "      <td>6</td>\n",
       "      <td>auto(l5)</td>\n",
       "      <td>f</td>\n",
       "      <td>16</td>\n",
       "      <td>26</td>\n",
       "      <td>p</td>\n",
       "      <td>midsize</td>\n",
       "    </tr>\n",
       "    <tr>\n",
       "      <th>232</th>\n",
       "      <td>volkswagen</td>\n",
       "      <td>passat</td>\n",
       "      <td>2.8</td>\n",
       "      <td>1999</td>\n",
       "      <td>6</td>\n",
       "      <td>manual(m5)</td>\n",
       "      <td>f</td>\n",
       "      <td>18</td>\n",
       "      <td>26</td>\n",
       "      <td>p</td>\n",
       "      <td>midsize</td>\n",
       "    </tr>\n",
       "    <tr>\n",
       "      <th>233</th>\n",
       "      <td>volkswagen</td>\n",
       "      <td>passat</td>\n",
       "      <td>3.6</td>\n",
       "      <td>2008</td>\n",
       "      <td>6</td>\n",
       "      <td>auto(s6)</td>\n",
       "      <td>f</td>\n",
       "      <td>17</td>\n",
       "      <td>26</td>\n",
       "      <td>p</td>\n",
       "      <td>midsize</td>\n",
       "    </tr>\n",
       "  </tbody>\n",
       "</table>\n",
       "<p>234 rows × 11 columns</p>\n",
       "</div>"
      ],
      "text/plain": [
       "    manufacturer   model  displ  year  cyl       trans drv  cty  hwy fl  \\\n",
       "0           audi      a4    1.8  1999    4    auto(l5)   f   18   29  p   \n",
       "1           audi      a4    1.8  1999    4  manual(m5)   f   21   29  p   \n",
       "2           audi      a4    2.0  2008    4  manual(m6)   f   20   31  p   \n",
       "3           audi      a4    2.0  2008    4    auto(av)   f   21   30  p   \n",
       "4           audi      a4    2.8  1999    6    auto(l5)   f   16   26  p   \n",
       "..           ...     ...    ...   ...  ...         ...  ..  ...  ... ..   \n",
       "229   volkswagen  passat    2.0  2008    4    auto(s6)   f   19   28  p   \n",
       "230   volkswagen  passat    2.0  2008    4  manual(m6)   f   21   29  p   \n",
       "231   volkswagen  passat    2.8  1999    6    auto(l5)   f   16   26  p   \n",
       "232   volkswagen  passat    2.8  1999    6  manual(m5)   f   18   26  p   \n",
       "233   volkswagen  passat    3.6  2008    6    auto(s6)   f   17   26  p   \n",
       "\n",
       "       class  \n",
       "0    compact  \n",
       "1    compact  \n",
       "2    compact  \n",
       "3    compact  \n",
       "4    compact  \n",
       "..       ...  \n",
       "229  midsize  \n",
       "230  midsize  \n",
       "231  midsize  \n",
       "232  midsize  \n",
       "233  midsize  \n",
       "\n",
       "[234 rows x 11 columns]"
      ]
     },
     "execution_count": 10,
     "metadata": {},
     "output_type": "execute_result"
    }
   ],
   "source": [
    "dataset = pd.read_excel('./data/mpg_visualization.xlsx' , header = 0 )\n",
    "dataset.drop('Unnamed: 0' , axis = 1 , inplace = True)\n",
    "dataset"
   ]
  },
  {
   "cell_type": "code",
   "execution_count": 10,
   "id": "f73c045c",
   "metadata": {},
   "outputs": [
    {
     "name": "stdout",
     "output_type": "stream",
     "text": [
      "<class 'pandas.core.frame.DataFrame'>\n",
      "RangeIndex: 234 entries, 0 to 233\n",
      "Data columns (total 11 columns):\n",
      " #   Column        Non-Null Count  Dtype  \n",
      "---  ------        --------------  -----  \n",
      " 0   manufacturer  234 non-null    object \n",
      " 1   model         234 non-null    object \n",
      " 2   displ         234 non-null    float64\n",
      " 3   year          234 non-null    int64  \n",
      " 4   cyl           234 non-null    int64  \n",
      " 5   trans         234 non-null    object \n",
      " 6   drv           234 non-null    object \n",
      " 7   cty           234 non-null    int64  \n",
      " 8   hwy           234 non-null    int64  \n",
      " 9   fl            234 non-null    object \n",
      " 10  class         234 non-null    object \n",
      "dtypes: float64(1), int64(4), object(6)\n",
      "memory usage: 20.2+ KB\n"
     ]
    }
   ],
   "source": [
    "dataset.info()"
   ]
  },
  {
   "cell_type": "code",
   "execution_count": 13,
   "id": "8ec497de",
   "metadata": {},
   "outputs": [
    {
     "data": {
      "text/plain": [
       "<AxesSubplot:>"
      ]
     },
     "execution_count": 13,
     "metadata": {},
     "output_type": "execute_result"
    },
    {
     "data": {
      "image/png": "[encoded data removed]",
      "text/plain": [
       "<Figure size 432x288 with 1 Axes>"
      ]
     },
     "metadata": {
      "needs_background": "light"
     },
     "output_type": "display_data"
    }
   ],
   "source": [
    "# 양적 자료의 데이터 분포 확인(boxplot)\n",
    "dataset[['displ' , 'cyl' , 'cty', 'hwy']].boxplot()\n"
   ]
  },
  {
   "cell_type": "code",
   "execution_count": 14,
   "id": "85db3ff0",
   "metadata": {},
   "outputs": [
    {
     "data": {
      "text/plain": [
       "dodge         37\n",
       "toyota        34\n",
       "volkswagen    27\n",
       "ford          25\n",
       "chevrolet     19\n",
       "audi          18\n",
       "subaru        14\n",
       "hyundai       14\n",
       "nissan        13\n",
       "honda          9\n",
       "jeep           8\n",
       "pontiac        5\n",
       "land rover     4\n",
       "mercury        4\n",
       "lincoln        3\n",
       "Name: manufacturer, dtype: int64"
      ]
     },
     "execution_count": 14,
     "metadata": {},
     "output_type": "execute_result"
    }
   ],
   "source": [
    "# 질적 자료에 대한 데이터 빈도 확인(value_counts())\n",
    "# 제조회사, 모델명, 변속기 종류, 구동방식, 연료종류, 자동차 종류  \n",
    "\n",
    "dataset['manufacturer'].value_counts()"
   ]
  },
  {
   "cell_type": "code",
   "execution_count": 9,
   "id": "d5af0d57",
   "metadata": {},
   "outputs": [
    {
     "name": "stdout",
     "output_type": "stream",
     "text": [
      "hwy 4 under displ mean -  25.96319018404908\n",
      "hwy 5 over  displ mean -  18.07894736842105\n",
      "\n",
      "hwy 4 under displ mean -  25.96319018404908\n",
      "hwy 5 over  displ mean -  18.07894736842105\n"
     ]
    }
   ],
   "source": [
    "# 문제01]\n",
    "# 자동차 배기량(displ)에 따라 고속도로 연비(hwy)가 다른지를 알아보자\n",
    "# 배기량이 4 이하인 자동차화 5이상인 자동차 중 어떤 자동차의 고속도로연비가 평균적으로 \n",
    "# 높은지 알아보자\n",
    "# dataframe - query()\n",
    "\n",
    "print('hwy 4 under displ mean - ' , dataset[ dataset['displ'] <= 4 ]['hwy'].mean())\n",
    "print('hwy 5 over  displ mean - ' , dataset[ dataset['displ'] >= 5 ]['hwy'].mean())\n",
    "print()\n",
    "print('hwy 4 under displ mean - ' , dataset.query('displ <= 4')['hwy'].mean() )\n",
    "print('hwy 5 over  displ mean - ' , dataset.query('displ >= 5')['hwy'].mean() )\n"
   ]
  },
  {
   "cell_type": "code",
   "execution_count": 11,
   "id": "77ea13cf",
   "metadata": {},
   "outputs": [
    {
     "name": "stdout",
     "output_type": "stream",
     "text": [
      "audi   -  17.61111111111111\n",
      "toyota -  18.529411764705884\n"
     ]
    }
   ],
   "source": [
    "# 문제 02]\n",
    "# 자동차 제조 회사에 따라 도시 연비가 다른지 알아보려고 한다. \n",
    "# audi와 toyota 중 어느 manufacturer(자동차 제조 회사)의 cty(도시연비)가 평균적으로 더 높은지 알아보시오.\n",
    "\n",
    "print('audi   - ' , dataset[ dataset['manufacturer'] == 'audi' ]['cty'].mean())\n",
    "print('toyota - ' , dataset[ dataset['manufacturer'] == 'toyota' ]['cty'].mean())"
   ]
  },
  {
   "cell_type": "code",
   "execution_count": 14,
   "id": "ef36b12d",
   "metadata": {},
   "outputs": [
    {
     "name": "stdout",
     "output_type": "stream",
     "text": [
      "chevrolet, ford, honda -  22.50943396226415\n",
      "\n",
      "query -  22.50943396226415\n"
     ]
    }
   ],
   "source": [
    "# 문제 03]\n",
    "# chevrolet, ford, honda 자동차의 고속도로 연비 평균을 알아보려고 한다. \n",
    "# 이 회사들의 데이터를 추출한 후 hwy 전체 평균을 확인하시오.\n",
    "\n",
    "print('chevrolet, ford, honda - ' , dataset[ (dataset['manufacturer'] == 'chevrolet') |\n",
    "                                             (dataset['manufacturer'] == 'ford') |\n",
    "                                             (dataset['manufacturer'] == 'honda') ]['hwy'].mean())\n",
    "print()\n",
    "manufacturer_list = ['chevrolet', 'ford', 'honda']\n",
    "print('query - ' , dataset.query('manufacturer in @manufacturer_list')['hwy'].mean() )"
   ]
  },
  {
   "cell_type": "code",
   "execution_count": 17,
   "id": "b2b2f8e9",
   "metadata": {},
   "outputs": [
    {
     "name": "stdout",
     "output_type": "stream",
     "text": [
      "연료가격 변수 추가(price_fl) - \n",
      "c : 가스 2.35 , d : 디젤 2.38 , e : 에탄올 2.11 , p : 고급휘발유 2.76, r : 보통휘발유 2.22\n"
     ]
    },
    {
     "data": {
      "text/html": [
       "<div>\n",
       "<style scoped>\n",
       "    .dataframe tbody tr th:only-of-type {\n",
       "        vertical-align: middle;\n",
       "    }\n",
       "\n",
       "    .dataframe tbody tr th {\n",
       "        vertical-align: top;\n",
       "    }\n",
       "\n",
       "    .dataframe thead th {\n",
       "        text-align: right;\n",
       "    }\n",
       "</style>\n",
       "<table border=\"1\" class=\"dataframe\">\n",
       "  <thead>\n",
       "    <tr style=\"text-align: right;\">\n",
       "      <th></th>\n",
       "      <th>fl</th>\n",
       "      <th>price_fl</th>\n",
       "    </tr>\n",
       "  </thead>\n",
       "  <tbody>\n",
       "    <tr>\n",
       "      <th>0</th>\n",
       "      <td>c</td>\n",
       "      <td>2.35</td>\n",
       "    </tr>\n",
       "    <tr>\n",
       "      <th>1</th>\n",
       "      <td>d</td>\n",
       "      <td>2.38</td>\n",
       "    </tr>\n",
       "    <tr>\n",
       "      <th>2</th>\n",
       "      <td>e</td>\n",
       "      <td>2.11</td>\n",
       "    </tr>\n",
       "    <tr>\n",
       "      <th>3</th>\n",
       "      <td>p</td>\n",
       "      <td>2.76</td>\n",
       "    </tr>\n",
       "    <tr>\n",
       "      <th>4</th>\n",
       "      <td>r</td>\n",
       "      <td>2.22</td>\n",
       "    </tr>\n",
       "  </tbody>\n",
       "</table>\n",
       "</div>"
      ],
      "text/plain": [
       "  fl  price_fl\n",
       "0  c      2.35\n",
       "1  d      2.38\n",
       "2  e      2.11\n",
       "3  p      2.76\n",
       "4  r      2.22"
      ]
     },
     "execution_count": 17,
     "metadata": {},
     "output_type": "execute_result"
    }
   ],
   "source": [
    "print('연료가격 변수 추가(price_fl) - ')\n",
    "print('c : 가스 2.35 , d : 디젤 2.38 , e : 에탄올 2.11 , p : 고급휘발유 2.76, r : 보통휘발유 2.22')\n",
    "\n",
    "temp_frm = pd.DataFrame({\n",
    "    'fl' : ['c', 'd', 'e', 'p', 'r'] , \n",
    "    'price_fl' : [2.35, 2.38, 2.11, 2.76, 2.22]\n",
    "})\n",
    "temp_frm"
   ]
  },
  {
   "cell_type": "code",
   "execution_count": 18,
   "id": "b5cb1e37",
   "metadata": {},
   "outputs": [
    {
     "data": {
      "text/html": [
       "<div>\n",
       "<style scoped>\n",
       "    .dataframe tbody tr th:only-of-type {\n",
       "        vertical-align: middle;\n",
       "    }\n",
       "\n",
       "    .dataframe tbody tr th {\n",
       "        vertical-align: top;\n",
       "    }\n",
       "\n",
       "    .dataframe thead th {\n",
       "        text-align: right;\n",
       "    }\n",
       "</style>\n",
       "<table border=\"1\" class=\"dataframe\">\n",
       "  <thead>\n",
       "    <tr style=\"text-align: right;\">\n",
       "      <th></th>\n",
       "      <th>manufacturer</th>\n",
       "      <th>model</th>\n",
       "      <th>displ</th>\n",
       "      <th>year</th>\n",
       "      <th>cyl</th>\n",
       "      <th>trans</th>\n",
       "      <th>drv</th>\n",
       "      <th>cty</th>\n",
       "      <th>hwy</th>\n",
       "      <th>fl</th>\n",
       "      <th>class</th>\n",
       "      <th>price_fl</th>\n",
       "    </tr>\n",
       "  </thead>\n",
       "  <tbody>\n",
       "    <tr>\n",
       "      <th>0</th>\n",
       "      <td>audi</td>\n",
       "      <td>a4</td>\n",
       "      <td>1.8</td>\n",
       "      <td>1999</td>\n",
       "      <td>4</td>\n",
       "      <td>auto(l5)</td>\n",
       "      <td>f</td>\n",
       "      <td>18</td>\n",
       "      <td>29</td>\n",
       "      <td>p</td>\n",
       "      <td>compact</td>\n",
       "      <td>2.76</td>\n",
       "    </tr>\n",
       "    <tr>\n",
       "      <th>1</th>\n",
       "      <td>audi</td>\n",
       "      <td>a4</td>\n",
       "      <td>1.8</td>\n",
       "      <td>1999</td>\n",
       "      <td>4</td>\n",
       "      <td>manual(m5)</td>\n",
       "      <td>f</td>\n",
       "      <td>21</td>\n",
       "      <td>29</td>\n",
       "      <td>p</td>\n",
       "      <td>compact</td>\n",
       "      <td>2.76</td>\n",
       "    </tr>\n",
       "    <tr>\n",
       "      <th>2</th>\n",
       "      <td>audi</td>\n",
       "      <td>a4</td>\n",
       "      <td>2.0</td>\n",
       "      <td>2008</td>\n",
       "      <td>4</td>\n",
       "      <td>manual(m6)</td>\n",
       "      <td>f</td>\n",
       "      <td>20</td>\n",
       "      <td>31</td>\n",
       "      <td>p</td>\n",
       "      <td>compact</td>\n",
       "      <td>2.76</td>\n",
       "    </tr>\n",
       "    <tr>\n",
       "      <th>3</th>\n",
       "      <td>audi</td>\n",
       "      <td>a4</td>\n",
       "      <td>2.0</td>\n",
       "      <td>2008</td>\n",
       "      <td>4</td>\n",
       "      <td>auto(av)</td>\n",
       "      <td>f</td>\n",
       "      <td>21</td>\n",
       "      <td>30</td>\n",
       "      <td>p</td>\n",
       "      <td>compact</td>\n",
       "      <td>2.76</td>\n",
       "    </tr>\n",
       "    <tr>\n",
       "      <th>4</th>\n",
       "      <td>audi</td>\n",
       "      <td>a4</td>\n",
       "      <td>2.8</td>\n",
       "      <td>1999</td>\n",
       "      <td>6</td>\n",
       "      <td>auto(l5)</td>\n",
       "      <td>f</td>\n",
       "      <td>16</td>\n",
       "      <td>26</td>\n",
       "      <td>p</td>\n",
       "      <td>compact</td>\n",
       "      <td>2.76</td>\n",
       "    </tr>\n",
       "    <tr>\n",
       "      <th>...</th>\n",
       "      <td>...</td>\n",
       "      <td>...</td>\n",
       "      <td>...</td>\n",
       "      <td>...</td>\n",
       "      <td>...</td>\n",
       "      <td>...</td>\n",
       "      <td>...</td>\n",
       "      <td>...</td>\n",
       "      <td>...</td>\n",
       "      <td>...</td>\n",
       "      <td>...</td>\n",
       "      <td>...</td>\n",
       "    </tr>\n",
       "    <tr>\n",
       "      <th>229</th>\n",
       "      <td>jeep</td>\n",
       "      <td>grand cherokee 4wd</td>\n",
       "      <td>3.0</td>\n",
       "      <td>2008</td>\n",
       "      <td>6</td>\n",
       "      <td>auto(l5)</td>\n",
       "      <td>4</td>\n",
       "      <td>17</td>\n",
       "      <td>22</td>\n",
       "      <td>d</td>\n",
       "      <td>suv</td>\n",
       "      <td>2.38</td>\n",
       "    </tr>\n",
       "    <tr>\n",
       "      <th>230</th>\n",
       "      <td>volkswagen</td>\n",
       "      <td>jetta</td>\n",
       "      <td>1.9</td>\n",
       "      <td>1999</td>\n",
       "      <td>4</td>\n",
       "      <td>manual(m5)</td>\n",
       "      <td>f</td>\n",
       "      <td>33</td>\n",
       "      <td>44</td>\n",
       "      <td>d</td>\n",
       "      <td>compact</td>\n",
       "      <td>2.38</td>\n",
       "    </tr>\n",
       "    <tr>\n",
       "      <th>231</th>\n",
       "      <td>volkswagen</td>\n",
       "      <td>new beetle</td>\n",
       "      <td>1.9</td>\n",
       "      <td>1999</td>\n",
       "      <td>4</td>\n",
       "      <td>manual(m5)</td>\n",
       "      <td>f</td>\n",
       "      <td>35</td>\n",
       "      <td>44</td>\n",
       "      <td>d</td>\n",
       "      <td>subcompact</td>\n",
       "      <td>2.38</td>\n",
       "    </tr>\n",
       "    <tr>\n",
       "      <th>232</th>\n",
       "      <td>volkswagen</td>\n",
       "      <td>new beetle</td>\n",
       "      <td>1.9</td>\n",
       "      <td>1999</td>\n",
       "      <td>4</td>\n",
       "      <td>auto(l4)</td>\n",
       "      <td>f</td>\n",
       "      <td>29</td>\n",
       "      <td>41</td>\n",
       "      <td>d</td>\n",
       "      <td>subcompact</td>\n",
       "      <td>2.38</td>\n",
       "    </tr>\n",
       "    <tr>\n",
       "      <th>233</th>\n",
       "      <td>honda</td>\n",
       "      <td>civic</td>\n",
       "      <td>1.8</td>\n",
       "      <td>2008</td>\n",
       "      <td>4</td>\n",
       "      <td>auto(l5)</td>\n",
       "      <td>f</td>\n",
       "      <td>24</td>\n",
       "      <td>36</td>\n",
       "      <td>c</td>\n",
       "      <td>subcompact</td>\n",
       "      <td>2.35</td>\n",
       "    </tr>\n",
       "  </tbody>\n",
       "</table>\n",
       "<p>234 rows × 12 columns</p>\n",
       "</div>"
      ],
      "text/plain": [
       "    manufacturer               model  displ  year  cyl       trans drv  cty  \\\n",
       "0           audi                  a4    1.8  1999    4    auto(l5)   f   18   \n",
       "1           audi                  a4    1.8  1999    4  manual(m5)   f   21   \n",
       "2           audi                  a4    2.0  2008    4  manual(m6)   f   20   \n",
       "3           audi                  a4    2.0  2008    4    auto(av)   f   21   \n",
       "4           audi                  a4    2.8  1999    6    auto(l5)   f   16   \n",
       "..           ...                 ...    ...   ...  ...         ...  ..  ...   \n",
       "229         jeep  grand cherokee 4wd    3.0  2008    6    auto(l5)   4   17   \n",
       "230   volkswagen               jetta    1.9  1999    4  manual(m5)   f   33   \n",
       "231   volkswagen          new beetle    1.9  1999    4  manual(m5)   f   35   \n",
       "232   volkswagen          new beetle    1.9  1999    4    auto(l4)   f   29   \n",
       "233        honda               civic    1.8  2008    4    auto(l5)   f   24   \n",
       "\n",
       "     hwy fl       class  price_fl  \n",
       "0     29  p     compact      2.76  \n",
       "1     29  p     compact      2.76  \n",
       "2     31  p     compact      2.76  \n",
       "3     30  p     compact      2.76  \n",
       "4     26  p     compact      2.76  \n",
       "..   ... ..         ...       ...  \n",
       "229   22  d         suv      2.38  \n",
       "230   44  d     compact      2.38  \n",
       "231   44  d  subcompact      2.38  \n",
       "232   41  d  subcompact      2.38  \n",
       "233   36  c  subcompact      2.35  \n",
       "\n",
       "[234 rows x 12 columns]"
      ]
     },
     "execution_count": 18,
     "metadata": {},
     "output_type": "execute_result"
    }
   ],
   "source": [
    "merge_dataset = pd.merge(dataset , temp_frm , on='fl' , how = 'inner')\n",
    "merge_dataset"
   ]
  },
  {
   "cell_type": "code",
   "execution_count": 22,
   "id": "1d0dd56f",
   "metadata": {},
   "outputs": [
    {
     "name": "stdout",
     "output_type": "stream",
     "text": [
      "병합한 프레임에서 model , fl, price_fl 추출한다면? - \n"
     ]
    },
    {
     "data": {
      "text/html": [
       "<div>\n",
       "<style scoped>\n",
       "    .dataframe tbody tr th:only-of-type {\n",
       "        vertical-align: middle;\n",
       "    }\n",
       "\n",
       "    .dataframe tbody tr th {\n",
       "        vertical-align: top;\n",
       "    }\n",
       "\n",
       "    .dataframe thead th {\n",
       "        text-align: right;\n",
       "    }\n",
       "</style>\n",
       "<table border=\"1\" class=\"dataframe\">\n",
       "  <thead>\n",
       "    <tr style=\"text-align: right;\">\n",
       "      <th></th>\n",
       "      <th>model</th>\n",
       "      <th>fl</th>\n",
       "      <th>price_fl</th>\n",
       "    </tr>\n",
       "  </thead>\n",
       "  <tbody>\n",
       "    <tr>\n",
       "      <th>0</th>\n",
       "      <td>a4</td>\n",
       "      <td>p</td>\n",
       "      <td>2.76</td>\n",
       "    </tr>\n",
       "    <tr>\n",
       "      <th>1</th>\n",
       "      <td>a4</td>\n",
       "      <td>p</td>\n",
       "      <td>2.76</td>\n",
       "    </tr>\n",
       "    <tr>\n",
       "      <th>2</th>\n",
       "      <td>a4</td>\n",
       "      <td>p</td>\n",
       "      <td>2.76</td>\n",
       "    </tr>\n",
       "    <tr>\n",
       "      <th>3</th>\n",
       "      <td>a4</td>\n",
       "      <td>p</td>\n",
       "      <td>2.76</td>\n",
       "    </tr>\n",
       "    <tr>\n",
       "      <th>4</th>\n",
       "      <td>a4</td>\n",
       "      <td>p</td>\n",
       "      <td>2.76</td>\n",
       "    </tr>\n",
       "    <tr>\n",
       "      <th>...</th>\n",
       "      <td>...</td>\n",
       "      <td>...</td>\n",
       "      <td>...</td>\n",
       "    </tr>\n",
       "    <tr>\n",
       "      <th>229</th>\n",
       "      <td>grand cherokee 4wd</td>\n",
       "      <td>d</td>\n",
       "      <td>2.38</td>\n",
       "    </tr>\n",
       "    <tr>\n",
       "      <th>230</th>\n",
       "      <td>jetta</td>\n",
       "      <td>d</td>\n",
       "      <td>2.38</td>\n",
       "    </tr>\n",
       "    <tr>\n",
       "      <th>231</th>\n",
       "      <td>new beetle</td>\n",
       "      <td>d</td>\n",
       "      <td>2.38</td>\n",
       "    </tr>\n",
       "    <tr>\n",
       "      <th>232</th>\n",
       "      <td>new beetle</td>\n",
       "      <td>d</td>\n",
       "      <td>2.38</td>\n",
       "    </tr>\n",
       "    <tr>\n",
       "      <th>233</th>\n",
       "      <td>civic</td>\n",
       "      <td>c</td>\n",
       "      <td>2.35</td>\n",
       "    </tr>\n",
       "  </tbody>\n",
       "</table>\n",
       "<p>234 rows × 3 columns</p>\n",
       "</div>"
      ],
      "text/plain": [
       "                  model fl  price_fl\n",
       "0                    a4  p      2.76\n",
       "1                    a4  p      2.76\n",
       "2                    a4  p      2.76\n",
       "3                    a4  p      2.76\n",
       "4                    a4  p      2.76\n",
       "..                  ... ..       ...\n",
       "229  grand cherokee 4wd  d      2.38\n",
       "230               jetta  d      2.38\n",
       "231          new beetle  d      2.38\n",
       "232          new beetle  d      2.38\n",
       "233               civic  c      2.35\n",
       "\n",
       "[234 rows x 3 columns]"
      ]
     },
     "execution_count": 22,
     "metadata": {},
     "output_type": "execute_result"
    }
   ],
   "source": [
    "print('병합한 프레임에서 model , fl, price_fl 추출한다면? - ')\n",
    "merge_dataset.filter(['model' , 'fl' , 'price_fl'])\n",
    "# merge_dataset[['model' , 'fl' , 'price_fl']]"
   ]
  },
  {
   "cell_type": "code",
   "execution_count": 23,
   "id": "93887782",
   "metadata": {},
   "outputs": [
    {
     "data": {
      "text/plain": [
       "manufacturer    0\n",
       "model           0\n",
       "displ           0\n",
       "year            0\n",
       "cyl             0\n",
       "trans           0\n",
       "drv             0\n",
       "cty             0\n",
       "hwy             0\n",
       "fl              0\n",
       "class           0\n",
       "price_fl        0\n",
       "dtype: int64"
      ]
     },
     "execution_count": 23,
     "metadata": {},
     "output_type": "execute_result"
    }
   ],
   "source": [
    "# 데이터 전처리 과정에서 결측값 확인하기\n",
    "\n",
    "merge_dataset.isna().sum()"
   ]
  },
  {
   "cell_type": "code",
   "execution_count": 27,
   "id": "b71be418",
   "metadata": {},
   "outputs": [],
   "source": [
    "# 구동방식(drv) 별 고속도로 연비(hwy)평균\n",
    "# 임의적으로 결측값 처리를 위해서 더미 값을 넣어보도록 하자\n",
    "merge_dataset.loc[0 , 'hwy']   = np.NaN\n",
    "merge_dataset.loc[65 , 'hwy']  = np.NaN\n",
    "merge_dataset.loc[120 , 'hwy'] = np.NaN\n",
    "merge_dataset.loc[154 , 'hwy'] = np.NaN\n",
    "merge_dataset.loc[189 , 'hwy'] = np.NaN\n",
    "merge_dataset.loc[219 , 'hwy'] = np.NaN\n",
    "merge_dataset.loc[230 , 'hwy'] = np.NaN\n"
   ]
  },
  {
   "cell_type": "code",
   "execution_count": 31,
   "id": "eb69fb42",
   "metadata": {},
   "outputs": [
    {
     "name": "stdout",
     "output_type": "stream",
     "text": [
      "manufacturer    0\n",
      "model           0\n",
      "displ           0\n",
      "year            0\n",
      "cyl             0\n",
      "trans           0\n",
      "drv             0\n",
      "cty             0\n",
      "hwy             7\n",
      "fl              0\n",
      "class           0\n",
      "price_fl        0\n",
      "dtype: int64\n",
      "\n",
      "drv  hwy isna -  drv    0\n",
      "hwy    7\n",
      "dtype: int64\n",
      "\n",
      "drv  value -  drv\n",
      "f      106\n",
      "4      103\n",
      "r       25\n",
      "dtype: int64\n"
     ]
    }
   ],
   "source": [
    "# 데이터 전처리 과정에서 결측값 확인하기\n",
    "print( merge_dataset.isna().sum() )\n",
    "print()\n",
    "print('drv  hwy isna - ' , merge_dataset.filter(['drv' , 'hwy']).isna().sum() ) \n",
    "print()\n",
    "print('drv  value - '    , merge_dataset.filter(['drv']).value_counts() ) \n"
   ]
  },
  {
   "cell_type": "code",
   "execution_count": 45,
   "id": "c2399490",
   "metadata": {},
   "outputs": [
    {
     "name": "stdout",
     "output_type": "stream",
     "text": [
      "결측값 제외 - dropna()\n"
     ]
    },
    {
     "data": {
      "text/html": [
       "<div>\n",
       "<style scoped>\n",
       "    .dataframe tbody tr th:only-of-type {\n",
       "        vertical-align: middle;\n",
       "    }\n",
       "\n",
       "    .dataframe tbody tr th {\n",
       "        vertical-align: top;\n",
       "    }\n",
       "\n",
       "    .dataframe thead th {\n",
       "        text-align: right;\n",
       "    }\n",
       "</style>\n",
       "<table border=\"1\" class=\"dataframe\">\n",
       "  <thead>\n",
       "    <tr style=\"text-align: right;\">\n",
       "      <th></th>\n",
       "      <th>drv</th>\n",
       "      <th>hwy</th>\n",
       "    </tr>\n",
       "  </thead>\n",
       "  <tbody>\n",
       "    <tr>\n",
       "      <th>1</th>\n",
       "      <td>f</td>\n",
       "      <td>29.0</td>\n",
       "    </tr>\n",
       "    <tr>\n",
       "      <th>2</th>\n",
       "      <td>f</td>\n",
       "      <td>31.0</td>\n",
       "    </tr>\n",
       "    <tr>\n",
       "      <th>3</th>\n",
       "      <td>f</td>\n",
       "      <td>30.0</td>\n",
       "    </tr>\n",
       "    <tr>\n",
       "      <th>4</th>\n",
       "      <td>f</td>\n",
       "      <td>26.0</td>\n",
       "    </tr>\n",
       "    <tr>\n",
       "      <th>5</th>\n",
       "      <td>f</td>\n",
       "      <td>26.0</td>\n",
       "    </tr>\n",
       "    <tr>\n",
       "      <th>...</th>\n",
       "      <td>...</td>\n",
       "      <td>...</td>\n",
       "    </tr>\n",
       "    <tr>\n",
       "      <th>228</th>\n",
       "      <td>4</td>\n",
       "      <td>17.0</td>\n",
       "    </tr>\n",
       "    <tr>\n",
       "      <th>229</th>\n",
       "      <td>4</td>\n",
       "      <td>22.0</td>\n",
       "    </tr>\n",
       "    <tr>\n",
       "      <th>231</th>\n",
       "      <td>f</td>\n",
       "      <td>44.0</td>\n",
       "    </tr>\n",
       "    <tr>\n",
       "      <th>232</th>\n",
       "      <td>f</td>\n",
       "      <td>41.0</td>\n",
       "    </tr>\n",
       "    <tr>\n",
       "      <th>233</th>\n",
       "      <td>f</td>\n",
       "      <td>36.0</td>\n",
       "    </tr>\n",
       "  </tbody>\n",
       "</table>\n",
       "<p>227 rows × 2 columns</p>\n",
       "</div>"
      ],
      "text/plain": [
       "    drv   hwy\n",
       "1     f  29.0\n",
       "2     f  31.0\n",
       "3     f  30.0\n",
       "4     f  26.0\n",
       "5     f  26.0\n",
       "..   ..   ...\n",
       "228   4  17.0\n",
       "229   4  22.0\n",
       "231   f  44.0\n",
       "232   f  41.0\n",
       "233   f  36.0\n",
       "\n",
       "[227 rows x 2 columns]"
      ]
     },
     "metadata": {},
     "output_type": "display_data"
    },
    {
     "name": "stdout",
     "output_type": "stream",
     "text": [
      "\n",
      "\n",
      "어떤 구동방식의 고속도로평균 연비가 높은지 알아보자 - groupby()\n"
     ]
    },
    {
     "data": {
      "text/html": [
       "<div>\n",
       "<style scoped>\n",
       "    .dataframe tbody tr th:only-of-type {\n",
       "        vertical-align: middle;\n",
       "    }\n",
       "\n",
       "    .dataframe tbody tr th {\n",
       "        vertical-align: top;\n",
       "    }\n",
       "\n",
       "    .dataframe thead th {\n",
       "        text-align: right;\n",
       "    }\n",
       "</style>\n",
       "<table border=\"1\" class=\"dataframe\">\n",
       "  <thead>\n",
       "    <tr style=\"text-align: right;\">\n",
       "      <th></th>\n",
       "      <th>hwy</th>\n",
       "    </tr>\n",
       "    <tr>\n",
       "      <th>drv</th>\n",
       "      <th></th>\n",
       "    </tr>\n",
       "  </thead>\n",
       "  <tbody>\n",
       "    <tr>\n",
       "      <th>4</th>\n",
       "      <td>19.174757</td>\n",
       "    </tr>\n",
       "    <tr>\n",
       "      <th>f</th>\n",
       "      <td>27.949495</td>\n",
       "    </tr>\n",
       "    <tr>\n",
       "      <th>r</th>\n",
       "      <td>21.000000</td>\n",
       "    </tr>\n",
       "  </tbody>\n",
       "</table>\n",
       "</div>"
      ],
      "text/plain": [
       "           hwy\n",
       "drv           \n",
       "4    19.174757\n",
       "f    27.949495\n",
       "r    21.000000"
      ]
     },
     "execution_count": 45,
     "metadata": {},
     "output_type": "execute_result"
    }
   ],
   "source": [
    "# hwy변수의 결측값을 제외하고, 어떤 구동방식의 고속도로평균 연비가 높은지 알아보자\n",
    "print('결측값 제외 - dropna()')\n",
    "\n",
    "dropna_merge_dataset = merge_dataset.filter(['drv' , 'hwy']).dropna()\n",
    "display( dropna_merge_dataset )\n",
    "\n",
    "print()\n",
    "print()\n",
    "print('어떤 구동방식의 고속도로평균 연비가 높은지 알아보자 - groupby()')\n",
    "dropna_merge_dataset.groupby('drv').mean()"
   ]
  },
  {
   "cell_type": "code",
   "execution_count": 70,
   "id": "4c69dbd7",
   "metadata": {},
   "outputs": [
    {
     "name": "stdout",
     "output_type": "stream",
     "text": [
      "index -  Index([4, 'f', 'r'], dtype='object', name='drv')\n",
      "values -  [[19.17475728]\n",
      " [27.94949495]\n",
      " [21.        ]]\n",
      "info -  [19 27 21]\n"
     ]
    }
   ],
   "source": [
    "drv_dropna_merge_dataset = dropna_merge_dataset.groupby('drv').mean()\n",
    "print('index - ' , drv_dropna_merge_dataset.index)\n",
    "print('values - ' , drv_dropna_merge_dataset.values)\n",
    "print('info - ' ,  drv_dropna_merge_dataset['hwy'].values.astype(int))"
   ]
  },
  {
   "cell_type": "code",
   "execution_count": 98,
   "id": "4945d6f9",
   "metadata": {},
   "outputs": [
    {
     "name": "stdout",
     "output_type": "stream",
     "text": [
      "구동방식별 연비평균을 비교하기 위한 막대 그래프로 시각화 해 보자  - \n",
      "\n",
      "\n"
     ]
    },
    {
     "data": {
      "image/png": "[encoded data removed]",
      "text/plain": [
       "<Figure size 1080x360 with 1 Axes>"
      ]
     },
     "metadata": {
      "needs_background": "light"
     },
     "output_type": "display_data"
    }
   ],
   "source": [
    "# 구동방식별 연비평균을 비교하기 위한 막대 그래프로 시각화 해 보자\n",
    "\n",
    "print('구동방식별 연비평균을 비교하기 위한 막대 그래프로 시각화 해 보자  - ') \n",
    "print()\n",
    "print()\n",
    "\n",
    "X =  drv_dropna_merge_dataset.index.values\n",
    "Y =  drv_dropna_merge_dataset.values.reshape(-1, )\n",
    "\n",
    "plt.figure(figsize = (15, 5))\n",
    "\n",
    "plt.bar( np.arange(len(X)) , Y)\n",
    "\n",
    "# drv_dropna_merge_dataset.plot(kind='bar')\n",
    "\n",
    "plt.title('구동방식별 연비평균 ')\n",
    "plt.xlabel('구동방식')\n",
    "plt.ylabel('연비평균')\n",
    "plt.xticks(np.arange(len(X)), X)\n",
    "\n",
    "plt.legend(labels = ['구동방식별 연비평균'] , loc = 'best')\n",
    "\n",
    "\n",
    "plt.show()\n",
    "plt.close()"
   ]
  },
  {
   "cell_type": "code",
   "execution_count": 85,
   "id": "bee35bad",
   "metadata": {},
   "outputs": [
    {
     "data": {
      "text/html": [
       "<div>\n",
       "<style scoped>\n",
       "    .dataframe tbody tr th:only-of-type {\n",
       "        vertical-align: middle;\n",
       "    }\n",
       "\n",
       "    .dataframe tbody tr th {\n",
       "        vertical-align: top;\n",
       "    }\n",
       "\n",
       "    .dataframe thead th {\n",
       "        text-align: right;\n",
       "    }\n",
       "</style>\n",
       "<table border=\"1\" class=\"dataframe\">\n",
       "  <thead>\n",
       "    <tr style=\"text-align: right;\">\n",
       "      <th></th>\n",
       "      <th>hwy</th>\n",
       "      <th>cty</th>\n",
       "    </tr>\n",
       "    <tr>\n",
       "      <th>drv</th>\n",
       "      <th></th>\n",
       "      <th></th>\n",
       "    </tr>\n",
       "  </thead>\n",
       "  <tbody>\n",
       "    <tr>\n",
       "      <th>4</th>\n",
       "      <td>19.174757</td>\n",
       "      <td>14.330097</td>\n",
       "    </tr>\n",
       "    <tr>\n",
       "      <th>f</th>\n",
       "      <td>27.949495</td>\n",
       "      <td>19.808081</td>\n",
       "    </tr>\n",
       "    <tr>\n",
       "      <th>r</th>\n",
       "      <td>21.000000</td>\n",
       "      <td>14.080000</td>\n",
       "    </tr>\n",
       "  </tbody>\n",
       "</table>\n",
       "</div>"
      ],
      "text/plain": [
       "           hwy        cty\n",
       "drv                      \n",
       "4    19.174757  14.330097\n",
       "f    27.949495  19.808081\n",
       "r    21.000000  14.080000"
      ]
     },
     "execution_count": 85,
     "metadata": {},
     "output_type": "execute_result"
    }
   ],
   "source": [
    "# 위에서 했던 방식과 동일하게 구동방식별 고속도로, 도시연비의 평균을 구해보고\n",
    "# 이를 데이터 프레임으로 만들어서 막대바로 시각화 해 보자\n",
    "# hwy변수의 결측값을 제외하고, 어떤 구동방식의 고속도로평균 연비가 높은지 알아보자\n",
    "\n",
    "dropna_merge_dataset = merge_dataset.filter(['drv' , 'hwy' , 'cty']).dropna()\n",
    "# dropna_merge_dataset\n",
    "\n",
    "drv_hwy_cty_group = dropna_merge_dataset.groupby('drv').mean()\n",
    "drv_hwy_cty_group"
   ]
  },
  {
   "cell_type": "code",
   "execution_count": 86,
   "id": "634232df",
   "metadata": {},
   "outputs": [
    {
     "data": {
      "image/png": "[encoded data removed]",
      "text/plain": [
       "<Figure size 432x288 with 1 Axes>"
      ]
     },
     "metadata": {
      "needs_background": "light"
     },
     "output_type": "display_data"
    }
   ],
   "source": [
    "drv_hwy_cty_group.plot(kind='bar')\n",
    "\n",
    "plt.title('구동방식별 연비평균 ')\n",
    "plt.xlabel('구동방식')\n",
    "plt.ylabel('연비평균')\n",
    "\n",
    "plt.legend(labels = ['구동방식별 연비평균'] , loc = 'best')\n",
    "\n",
    "\n",
    "plt.show()\n",
    "plt.close()"
   ]
  },
  {
   "cell_type": "code",
   "execution_count": 91,
   "id": "5b16c496",
   "metadata": {},
   "outputs": [
    {
     "name": "stdout",
     "output_type": "stream",
     "text": [
      "type -  <class 'pandas.core.series.Series'>\n",
      "suv           62\n",
      "compact       47\n",
      "midsize       41\n",
      "subcompact    35\n",
      "pickup        33\n",
      "minivan       11\n",
      "2seater        5\n",
      "Name: class, dtype: int64\n",
      "\n"
     ]
    },
    {
     "data": {
      "text/plain": [
       "Text(0, 0.5, '차량 수')"
      ]
     },
     "execution_count": 91,
     "metadata": {},
     "output_type": "execute_result"
    },
    {
     "data": {
      "image/png": "[encoded data removed]",
      "text/plain": [
       "<Figure size 432x288 with 1 Axes>"
      ]
     },
     "metadata": {
      "needs_background": "light"
     },
     "output_type": "display_data"
    }
   ],
   "source": [
    "# 자동차(class)중에서 어떤 자동차가 가장 많은지 알아보려고 한다.\n",
    "# 종류별 빈도를 막대바로 시각화 해 보자\n",
    "print('type - ' , type(merge_dataset['class'].value_counts()))\n",
    "print(merge_dataset['class'].value_counts())\n",
    "print()\n",
    "\n",
    "merge_dataset['class'].value_counts().plot(kind='bar' , rot=0)\n",
    "plt.title('자동차 종류별 빈도 ')\n",
    "plt.xlabel('종류')\n",
    "plt.ylabel('차량 수')\n"
   ]
  },
  {
   "cell_type": "code",
   "execution_count": 104,
   "id": "e4b09ebe",
   "metadata": {},
   "outputs": [],
   "source": [
    "# 어떤 회사에서 생산한 suv 차종의 도시 연비가 높은지를 알아보려고 한다\n",
    "# suv 차종을 대상으로 평균 도시연비가 가장 높은 회사 다섯곳을 막대 바로 시각화 해 보자\n",
    "\n",
    "suv_mean_frm = merge_dataset[ merge_dataset['class'] == 'suv'].filter(['manufacturer' , 'cty']).groupby('manufacturer').mean()\n",
    "suv_mean_frm.sort_values('cty' , ascending=False , inplace=True)"
   ]
  },
  {
   "cell_type": "code",
   "execution_count": 108,
   "id": "f884358c",
   "metadata": {},
   "outputs": [
    {
     "data": {
      "text/plain": [
       "Text(0, 0.5, '도시연비 평균')"
      ]
     },
     "execution_count": 108,
     "metadata": {},
     "output_type": "execute_result"
    },
    {
     "data": {
      "image/png": "[encoded data removed]",
      "text/plain": [
       "<Figure size 432x288 with 1 Axes>"
      ]
     },
     "metadata": {
      "needs_background": "light"
     },
     "output_type": "display_data"
    }
   ],
   "source": [
    "suv_mean_frm.head(5).plot(kind='bar' , rot=0)\n",
    "\n",
    "plt.title('제조사별 SUV 도시연비 TOP 5 ')\n",
    "plt.xlabel('제조사')\n",
    "plt.ylabel('도시연비 평균')\n"
   ]
  },
  {
   "cell_type": "code",
   "execution_count": 110,
   "id": "ed9b66df",
   "metadata": {},
   "outputs": [
    {
     "data": {
      "text/plain": [
       "<AxesSubplot:>"
      ]
     },
     "execution_count": 110,
     "metadata": {},
     "output_type": "execute_result"
    },
    {
     "data": {
      "image/png": "[encoded data removed]",
      "text/plain": [
       "<Figure size 432x288 with 1 Axes>"
      ]
     },
     "metadata": {
      "needs_background": "light"
     },
     "output_type": "display_data"
    }
   ],
   "source": [
    "# 이상치 정제\n",
    "# car_mpg 데이터에서 구동방식별 고속도로 연비 평균과 도시연비 평균을 극단치를 제외하고 확인\n",
    "# 각 연비별 이상치 확인 boxplot()\n",
    "\n",
    "outlier_frm = merge_dataset.filter(['hwy' , 'cty'])\n",
    "outlier_frm.boxplot()"
   ]
  },
  {
   "cell_type": "code",
   "execution_count": 112,
   "id": "ffb54159",
   "metadata": {},
   "outputs": [
    {
     "name": "stdout",
     "output_type": "stream",
     "text": [
      "3사분위 정보를 얻어본다면? - quantile\n"
     ]
    },
    {
     "data": {
      "text/plain": [
       "hwy    27.0\n",
       "cty    19.0\n",
       "Name: 0.75, dtype: float64"
      ]
     },
     "execution_count": 112,
     "metadata": {},
     "output_type": "execute_result"
    }
   ],
   "source": [
    "print('3사분위 정보를 얻어본다면? - quantile')\n",
    "outlier_frm.quantile(q=0.75)"
   ]
  },
  {
   "cell_type": "code",
   "execution_count": 113,
   "id": "55e02356",
   "metadata": {},
   "outputs": [
    {
     "name": "stdout",
     "output_type": "stream",
     "text": [
      "1사분위 정보를 얻어본다면? - quantile\n"
     ]
    },
    {
     "data": {
      "text/plain": [
       "hwy    18.0\n",
       "cty    14.0\n",
       "Name: 0.25, dtype: float64"
      ]
     },
     "execution_count": 113,
     "metadata": {},
     "output_type": "execute_result"
    }
   ],
   "source": [
    "print('1사분위 정보를 얻어본다면? - quantile')\n",
    "outlier_frm.quantile(q=0.25)"
   ]
  },
  {
   "cell_type": "code",
   "execution_count": 115,
   "id": "4d6eb48c",
   "metadata": {},
   "outputs": [
    {
     "name": "stdout",
     "output_type": "stream",
     "text": [
      "IQR (3사분위 수 - 1사분위 수의 차) - quantile\n"
     ]
    }
   ],
   "source": [
    "print('IQR (3사분위 수 - 1사분위 수의 차) - quantile')\n",
    "iqr = outlier_frm.quantile(q=0.75) - outlier_frm.quantile(q=0.25)\n"
   ]
  },
  {
   "cell_type": "code",
   "execution_count": 118,
   "id": "1d8128d4",
   "metadata": {},
   "outputs": [
    {
     "name": "stdout",
     "output_type": "stream",
     "text": [
      "lower fence -  hwy    4.5\n",
      "cty    6.5\n",
      "dtype: float64\n",
      "\n",
      "upper fence -  hwy    40.5\n",
      "cty    26.5\n",
      "dtype: float64\n"
     ]
    }
   ],
   "source": [
    "lower = outlier_frm.quantile(q=0.25) - 1.5 * iqr\n",
    "upper = outlier_frm.quantile(q=0.75) + 1.5 * iqr\n",
    "print('lower fence - ' , lower)\n",
    "print()\n",
    "print('upper fence - ' , upper)"
   ]
  },
  {
   "cell_type": "code",
   "execution_count": 126,
   "id": "330d20cf",
   "metadata": {},
   "outputs": [
    {
     "name": "stdout",
     "output_type": "stream",
     "text": [
      "극단치 경계 값을 얻어 보자 (아래 수평선) -  12.0\n",
      "\n",
      "극단치 경계 값을 얻어 보자 (위 수평선) -  hwy    37.0\n",
      "cty    26.0\n",
      "dtype: float64\n"
     ]
    }
   ],
   "source": [
    "lower_outlier = outlier_frm[ outlier_frm > lower].min()\n",
    "upper_outlier = outlier_frm[ outlier_frm < upper].max()\n",
    "print('극단치 경계 값을 얻어 보자 (아래 수평선) - ' , lower_outlier)\n",
    "print()\n",
    "print('극단치 경계 값을 얻어 보자 (위 수평선) - ' , upper_outlier)"
   ]
  },
  {
   "cell_type": "code",
   "execution_count": 130,
   "id": "3453af03",
   "metadata": {},
   "outputs": [
    {
     "name": "stdout",
     "output_type": "stream",
     "text": [
      "이상치를 결측값으로 변경 - \n",
      "고속도로 연비의 이상치 데이터 추출 - \n"
     ]
    },
    {
     "data": {
      "text/html": [
       "<div>\n",
       "<style scoped>\n",
       "    .dataframe tbody tr th:only-of-type {\n",
       "        vertical-align: middle;\n",
       "    }\n",
       "\n",
       "    .dataframe tbody tr th {\n",
       "        vertical-align: top;\n",
       "    }\n",
       "\n",
       "    .dataframe thead th {\n",
       "        text-align: right;\n",
       "    }\n",
       "</style>\n",
       "<table border=\"1\" class=\"dataframe\">\n",
       "  <thead>\n",
       "    <tr style=\"text-align: right;\">\n",
       "      <th></th>\n",
       "      <th>manufacturer</th>\n",
       "      <th>model</th>\n",
       "      <th>displ</th>\n",
       "      <th>year</th>\n",
       "      <th>cyl</th>\n",
       "      <th>trans</th>\n",
       "      <th>drv</th>\n",
       "      <th>cty</th>\n",
       "      <th>hwy</th>\n",
       "      <th>fl</th>\n",
       "      <th>class</th>\n",
       "      <th>price_fl</th>\n",
       "    </tr>\n",
       "  </thead>\n",
       "  <tbody>\n",
       "    <tr>\n",
       "      <th>231</th>\n",
       "      <td>volkswagen</td>\n",
       "      <td>new beetle</td>\n",
       "      <td>1.9</td>\n",
       "      <td>1999</td>\n",
       "      <td>4</td>\n",
       "      <td>manual(m5)</td>\n",
       "      <td>f</td>\n",
       "      <td>35</td>\n",
       "      <td>44.0</td>\n",
       "      <td>d</td>\n",
       "      <td>subcompact</td>\n",
       "      <td>2.38</td>\n",
       "    </tr>\n",
       "    <tr>\n",
       "      <th>232</th>\n",
       "      <td>volkswagen</td>\n",
       "      <td>new beetle</td>\n",
       "      <td>1.9</td>\n",
       "      <td>1999</td>\n",
       "      <td>4</td>\n",
       "      <td>auto(l4)</td>\n",
       "      <td>f</td>\n",
       "      <td>29</td>\n",
       "      <td>41.0</td>\n",
       "      <td>d</td>\n",
       "      <td>subcompact</td>\n",
       "      <td>2.38</td>\n",
       "    </tr>\n",
       "  </tbody>\n",
       "</table>\n",
       "</div>"
      ],
      "text/plain": [
       "    manufacturer       model  displ  year  cyl       trans drv  cty   hwy fl  \\\n",
       "231   volkswagen  new beetle    1.9  1999    4  manual(m5)   f   35  44.0  d   \n",
       "232   volkswagen  new beetle    1.9  1999    4    auto(l4)   f   29  41.0  d   \n",
       "\n",
       "          class  price_fl  \n",
       "231  subcompact      2.38  \n",
       "232  subcompact      2.38  "
      ]
     },
     "metadata": {},
     "output_type": "display_data"
    },
    {
     "name": "stdout",
     "output_type": "stream",
     "text": [
      "\n",
      "\n",
      "도시 연비의 이상치 데이터 추출 - \n"
     ]
    },
    {
     "data": {
      "text/html": [
       "<div>\n",
       "<style scoped>\n",
       "    .dataframe tbody tr th:only-of-type {\n",
       "        vertical-align: middle;\n",
       "    }\n",
       "\n",
       "    .dataframe tbody tr th {\n",
       "        vertical-align: top;\n",
       "    }\n",
       "\n",
       "    .dataframe thead th {\n",
       "        text-align: right;\n",
       "    }\n",
       "</style>\n",
       "<table border=\"1\" class=\"dataframe\">\n",
       "  <thead>\n",
       "    <tr style=\"text-align: right;\">\n",
       "      <th></th>\n",
       "      <th>manufacturer</th>\n",
       "      <th>model</th>\n",
       "      <th>displ</th>\n",
       "      <th>year</th>\n",
       "      <th>cyl</th>\n",
       "      <th>trans</th>\n",
       "      <th>drv</th>\n",
       "      <th>cty</th>\n",
       "      <th>hwy</th>\n",
       "      <th>fl</th>\n",
       "      <th>class</th>\n",
       "      <th>price_fl</th>\n",
       "    </tr>\n",
       "  </thead>\n",
       "  <tbody>\n",
       "    <tr>\n",
       "      <th>119</th>\n",
       "      <td>honda</td>\n",
       "      <td>civic</td>\n",
       "      <td>1.6</td>\n",
       "      <td>1999</td>\n",
       "      <td>4</td>\n",
       "      <td>manual(m5)</td>\n",
       "      <td>f</td>\n",
       "      <td>28</td>\n",
       "      <td>33.0</td>\n",
       "      <td>r</td>\n",
       "      <td>subcompact</td>\n",
       "      <td>2.22</td>\n",
       "    </tr>\n",
       "    <tr>\n",
       "      <th>196</th>\n",
       "      <td>toyota</td>\n",
       "      <td>corolla</td>\n",
       "      <td>1.8</td>\n",
       "      <td>2008</td>\n",
       "      <td>4</td>\n",
       "      <td>manual(m5)</td>\n",
       "      <td>f</td>\n",
       "      <td>28</td>\n",
       "      <td>37.0</td>\n",
       "      <td>r</td>\n",
       "      <td>compact</td>\n",
       "      <td>2.22</td>\n",
       "    </tr>\n",
       "    <tr>\n",
       "      <th>230</th>\n",
       "      <td>volkswagen</td>\n",
       "      <td>jetta</td>\n",
       "      <td>1.9</td>\n",
       "      <td>1999</td>\n",
       "      <td>4</td>\n",
       "      <td>manual(m5)</td>\n",
       "      <td>f</td>\n",
       "      <td>33</td>\n",
       "      <td>NaN</td>\n",
       "      <td>d</td>\n",
       "      <td>compact</td>\n",
       "      <td>2.38</td>\n",
       "    </tr>\n",
       "    <tr>\n",
       "      <th>231</th>\n",
       "      <td>volkswagen</td>\n",
       "      <td>new beetle</td>\n",
       "      <td>1.9</td>\n",
       "      <td>1999</td>\n",
       "      <td>4</td>\n",
       "      <td>manual(m5)</td>\n",
       "      <td>f</td>\n",
       "      <td>35</td>\n",
       "      <td>44.0</td>\n",
       "      <td>d</td>\n",
       "      <td>subcompact</td>\n",
       "      <td>2.38</td>\n",
       "    </tr>\n",
       "    <tr>\n",
       "      <th>232</th>\n",
       "      <td>volkswagen</td>\n",
       "      <td>new beetle</td>\n",
       "      <td>1.9</td>\n",
       "      <td>1999</td>\n",
       "      <td>4</td>\n",
       "      <td>auto(l4)</td>\n",
       "      <td>f</td>\n",
       "      <td>29</td>\n",
       "      <td>41.0</td>\n",
       "      <td>d</td>\n",
       "      <td>subcompact</td>\n",
       "      <td>2.38</td>\n",
       "    </tr>\n",
       "  </tbody>\n",
       "</table>\n",
       "</div>"
      ],
      "text/plain": [
       "    manufacturer       model  displ  year  cyl       trans drv  cty   hwy fl  \\\n",
       "119        honda       civic    1.6  1999    4  manual(m5)   f   28  33.0  r   \n",
       "196       toyota     corolla    1.8  2008    4  manual(m5)   f   28  37.0  r   \n",
       "230   volkswagen       jetta    1.9  1999    4  manual(m5)   f   33   NaN  d   \n",
       "231   volkswagen  new beetle    1.9  1999    4  manual(m5)   f   35  44.0  d   \n",
       "232   volkswagen  new beetle    1.9  1999    4    auto(l4)   f   29  41.0  d   \n",
       "\n",
       "          class  price_fl  \n",
       "119  subcompact      2.22  \n",
       "196     compact      2.22  \n",
       "230     compact      2.38  \n",
       "231  subcompact      2.38  \n",
       "232  subcompact      2.38  "
      ]
     },
     "metadata": {},
     "output_type": "display_data"
    }
   ],
   "source": [
    "print('이상치를 결측값으로 변경 - ')\n",
    "print('고속도로 연비의 이상치 데이터 추출 - ')\n",
    "\n",
    "hwy_outlier_frm = merge_dataset.query('hwy > '+str(upper_outlier['hwy']))\n",
    "display(hwy_outlier_frm)\n",
    "print()\n",
    "print()\n",
    "\n",
    "print('도시 연비의 이상치 데이터 추출 - ')\n",
    "cty_outlier_frm = merge_dataset.query('cty > '+str(upper_outlier['cty']))\n",
    "display(cty_outlier_frm)\n",
    "\n"
   ]
  },
  {
   "cell_type": "code",
   "execution_count": 133,
   "id": "06e9293c",
   "metadata": {},
   "outputs": [],
   "source": [
    "clean_frm = merge_dataset.copy()"
   ]
  },
  {
   "cell_type": "code",
   "execution_count": 134,
   "id": "3f2bb40f",
   "metadata": {},
   "outputs": [],
   "source": [
    "for idx in hwy_outlier_frm.index :\n",
    "    # print(idx)\n",
    "    clean_frm.loc[idx , 'hwy'] = np.NaN"
   ]
  },
  {
   "cell_type": "code",
   "execution_count": 135,
   "id": "62779a36",
   "metadata": {},
   "outputs": [],
   "source": [
    "for idx in cty_outlier_frm.index :\n",
    "    # print(idx)\n",
    "    clean_frm.loc[idx , 'cty'] = np.NaN"
   ]
  },
  {
   "cell_type": "code",
   "execution_count": 136,
   "id": "71ddebdc",
   "metadata": {},
   "outputs": [
    {
     "data": {
      "text/plain": [
       "hwy    9\n",
       "cty    5\n",
       "dtype: int64"
      ]
     },
     "execution_count": 136,
     "metadata": {},
     "output_type": "execute_result"
    }
   ],
   "source": [
    "clean_frm.filter(['hwy' , 'cty']).isna().sum()"
   ]
  },
  {
   "cell_type": "code",
   "execution_count": 138,
   "id": "b70aa141",
   "metadata": {},
   "outputs": [
    {
     "name": "stdout",
     "output_type": "stream",
     "text": [
      "결측값 제거한 구동방식별 고속도로, 도시 연비 평균 - \n"
     ]
    },
    {
     "data": {
      "image/png": "[encoded data removed]",
      "text/plain": [
       "<Figure size 432x288 with 1 Axes>"
      ]
     },
     "metadata": {
      "needs_background": "light"
     },
     "output_type": "display_data"
    }
   ],
   "source": [
    "print('결측값 제거한 구동방식별 고속도로, 도시 연비 평균 - ')\n",
    "\n",
    "clean_frm.filter(['drv' , 'hwy' , 'cty']).dropna().groupby('drv').mean().plot(kind='bar' , rot=0)\n",
    "\n",
    "plt.title('이상치 제거 후 고속도로, 도시 평균 연비 비교 ')\n",
    "plt.xlabel('구동박식')\n",
    "plt.ylabel('평균연비')\n",
    "\n",
    "plt.show()\n",
    "plt.close()"
   ]
  },
  {
   "cell_type": "code",
   "execution_count": null,
   "id": "99153913",
   "metadata": {},
   "outputs": [],
   "source": []
  },
  {
   "cell_type": "code",
   "execution_count": null,
   "id": "ed9e5fb9",
   "metadata": {},
   "outputs": [],
   "source": []
  },
  {
   "cell_type": "code",
   "execution_count": null,
   "id": "7249328c",
   "metadata": {},
   "outputs": [],
   "source": []
  },
  {
   "cell_type": "code",
   "execution_count": null,
   "id": "927c7815",
   "metadata": {},
   "outputs": [],
   "source": []
  }
 ],
 "metadata": {
  "kernelspec": {
   "display_name": "Python 3",
   "language": "python",
   "name": "python3"
  },
  "language_info": {
   "codemirror_mode": {
    "name": "ipython",
    "version": 3
   },
   "file_extension": ".py",
   "mimetype": "text/x-python",
   "name": "python",
   "nbconvert_exporter": "python",
   "pygments_lexer": "ipython3",
   "version": "3.8.8"
  }
 },
 "nbformat": 4,
 "nbformat_minor": 5
}
